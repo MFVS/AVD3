{
 "cells": [
  {
   "cell_type": "code",
   "execution_count": 14,
   "metadata": {},
   "outputs": [
    {
     "name": "stdout",
     "output_type": "stream",
     "text": [
      "  FAKULTA_SP  ROK_NAR   STAT_OBCANSTVI  PSC_BYDL PSC_CIZI OBEC_BYDLISTE  \\\n",
      "0        PRF   2000.0  Česká republika         0      NaN    nevyplněno   \n",
      "1        PRF   1999.0  Česká republika         0      NaN    nevyplněno   \n",
      "2        PRF      NaN  Česká republika         0      NaN    nevyplněno   \n",
      "3        PRF   1998.0  Česká republika     41705      NaN          Osek   \n",
      "4        PRF      NaN  Česká republika         0      NaN    nevyplněno   \n",
      "\n",
      "  OBEC_CIZI    STAT_BYDLISTE                             NAZEV_S_SKOLY  \\\n",
      "0       NaN  Česká republika      SŠ pedagogická, hotelnictví a služeb   \n",
      "1       NaN  Česká republika                                 Gymnázium   \n",
      "2       NaN  Česká republika  První české gymnázium v Karlových Varech   \n",
      "3       NaN  Česká republika                  Gymnázium T. G. Masaryka   \n",
      "4       NaN  Česká republika             ZŠ T. G. Masaryka a gymnázium   \n",
      "\n",
      "      STAT_S_SKOLY  ...    CZ_NAZEV FORMA  TYP PR_NAZEV PR_OBOR PR_KOMBINACE  \\\n",
      "0  Česká republika  ...  Matematika     P    B   MA AJ1     NaN        MA AJ   \n",
      "1  Česká republika  ...  Matematika     P    B   MA BI1     NaN       MA  BI   \n",
      "2  Česká republika  ...  Matematika     P    B   MA BI1     NaN       MA  BI   \n",
      "3  Česká republika  ...  Matematika     P    B   MA BI1     NaN       MA  BI   \n",
      "4  Česká republika  ...  Matematika     P    B  MA GEO1     NaN       MA GEO   \n",
      "\n",
      "  SDRUZENE KOLO_PRIHLASKY                           skupina_oboru  \\\n",
      "0      NaN              1  Pedagogika, učitelství a sociální péče   \n",
      "1      NaN              1                         Obecná příprava   \n",
      "2      NaN              1                         Obecná příprava   \n",
      "3      NaN              1                         Obecná příprava   \n",
      "4      NaN              1                         Obecná příprava   \n",
      "\n",
      "                                     stupen_vzdelani  \n",
      "0  Úplné střední odborné vzdělání s maturitou (be...  \n",
      "1  Úplné střední všeobecné vzdělání (poskytují gy...  \n",
      "2  Úplné střední všeobecné vzdělání (poskytují gy...  \n",
      "3  Úplné střední všeobecné vzdělání (poskytují gy...  \n",
      "4  Úplné střední všeobecné vzdělání (poskytují gy...  \n",
      "\n",
      "[5 rows x 32 columns]\n"
     ]
    }
   ],
   "source": [
    "import pandas as pd\n",
    "\n",
    "data = pd.read_csv('data/uchazeci_transformed.csv')\n",
    "print(data.head())"
   ]
  },
  {
   "cell_type": "code",
   "execution_count": null,
   "metadata": {},
   "outputs": [],
   "source": []
  }
 ],
 "metadata": {
  "kernelspec": {
   "display_name": ".venv",
   "language": "python",
   "name": "python3"
  },
  "language_info": {
   "codemirror_mode": {
    "name": "ipython",
    "version": 3
   },
   "file_extension": ".py",
   "mimetype": "text/x-python",
   "name": "python",
   "nbconvert_exporter": "python",
   "pygments_lexer": "ipython3",
   "version": "3.10.12"
  }
 },
 "nbformat": 4,
 "nbformat_minor": 2
}
