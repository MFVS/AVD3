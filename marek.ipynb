{
 "cells": [
  {
   "cell_type": "code",
   "execution_count": 77,
   "metadata": {},
   "outputs": [
    {
     "name": "stdout",
     "output_type": "stream",
     "text": [
      "Requirement already satisfied: pandas in /home/nexovec/.local/lib/python3.10/site-packages (2.2.0)\n",
      "Requirement already satisfied: polars[all] in /home/nexovec/.local/lib/python3.10/site-packages (0.20.10)\n",
      "Requirement already satisfied: numpy<2,>=1.22.4 in /home/nexovec/.local/lib/python3.10/site-packages (from pandas) (1.26.4)\n",
      "Requirement already satisfied: python-dateutil>=2.8.2 in /home/nexovec/.local/lib/python3.10/site-packages (from pandas) (2.8.2)\n",
      "Requirement already satisfied: pytz>=2020.1 in /home/nexovec/miniconda3/envs/rozvrhy/lib/python3.10/site-packages (from pandas) (2023.3.post1)\n",
      "Requirement already satisfied: tzdata>=2022.7 in /home/nexovec/.local/lib/python3.10/site-packages (from pandas) (2024.1)\n",
      "Requirement already satisfied: six>=1.5 in /home/nexovec/miniconda3/envs/rozvrhy/lib/python3.10/site-packages (from python-dateutil>=2.8.2->pandas) (1.16.0)\n",
      "Requirement already satisfied: sqlalchemy in /home/nexovec/.local/lib/python3.10/site-packages (from polars[all]) (2.0.27)\n",
      "Requirement already satisfied: fsspec in /home/nexovec/.local/lib/python3.10/site-packages (from polars[all]) (2023.12.2)\n",
      "Requirement already satisfied: connectorx>=0.3.2 in /home/nexovec/.local/lib/python3.10/site-packages (from polars[all]) (0.3.2)\n",
      "Requirement already satisfied: pydantic in /home/nexovec/.local/lib/python3.10/site-packages (from polars[all]) (2.6.1)\n",
      "Requirement already satisfied: xlsx2csv>=0.8.0 in /home/nexovec/.local/lib/python3.10/site-packages (from polars[all]) (0.8.2)\n",
      "Requirement already satisfied: adbc_driver_sqlite in /home/nexovec/.local/lib/python3.10/site-packages (from polars[all]) (0.9.0)\n",
      "Requirement already satisfied: pyarrow>=7.0.0 in /home/nexovec/.local/lib/python3.10/site-packages (from polars[all]) (15.0.0)\n",
      "Requirement already satisfied: pyiceberg>=0.5.0 in /home/nexovec/.local/lib/python3.10/site-packages (from polars[all]) (0.6.0)\n",
      "Requirement already satisfied: xlsxwriter in /home/nexovec/.local/lib/python3.10/site-packages (from polars[all]) (3.2.0)\n",
      "Requirement already satisfied: cloudpickle in /home/nexovec/.local/lib/python3.10/site-packages (from polars[all]) (3.0.0)\n",
      "Requirement already satisfied: deltalake>=0.14.0 in /home/nexovec/.local/lib/python3.10/site-packages (from polars[all]) (0.15.3)\n",
      "Requirement already satisfied: hvplot>=0.9.1 in /home/nexovec/.local/lib/python3.10/site-packages (from polars[all]) (0.9.2)\n",
      "Requirement already satisfied: gevent in /home/nexovec/.local/lib/python3.10/site-packages (from polars[all]) (24.2.1)\n",
      "Requirement already satisfied: pyarrow-hotfix in /home/nexovec/.local/lib/python3.10/site-packages (from deltalake>=0.14.0->polars[all]) (0.6)\n",
      "Requirement already satisfied: bokeh>=1.0.0 in /home/nexovec/.local/lib/python3.10/site-packages (from hvplot>=0.9.1->polars[all]) (3.3.4)\n",
      "Requirement already satisfied: colorcet>=2 in /home/nexovec/.local/lib/python3.10/site-packages (from hvplot>=0.9.1->polars[all]) (3.0.1)\n",
      "Requirement already satisfied: holoviews>=1.11.0 in /home/nexovec/.local/lib/python3.10/site-packages (from hvplot>=0.9.1->polars[all]) (1.18.3)\n",
      "Requirement already satisfied: packaging in /home/nexovec/.local/lib/python3.10/site-packages (from hvplot>=0.9.1->polars[all]) (23.2)\n",
      "Requirement already satisfied: panel>=0.11.0 in /home/nexovec/.local/lib/python3.10/site-packages (from hvplot>=0.9.1->polars[all]) (1.3.8)\n",
      "Requirement already satisfied: param<3.0,>=1.12.0 in /home/nexovec/.local/lib/python3.10/site-packages (from hvplot>=0.9.1->polars[all]) (2.0.2)\n",
      "Requirement already satisfied: click<9.0.0,>=7.1.1 in /home/nexovec/miniconda3/envs/rozvrhy/lib/python3.10/site-packages (from pyiceberg>=0.5.0->polars[all]) (8.1.7)\n",
      "Requirement already satisfied: mmhash3<4.0.0,>=3.0.0 in /home/nexovec/.local/lib/python3.10/site-packages (from pyiceberg>=0.5.0->polars[all]) (3.0.1)\n",
      "Requirement already satisfied: pyparsing<4.0.0,>=3.1.0 in /home/nexovec/.local/lib/python3.10/site-packages (from pyiceberg>=0.5.0->polars[all]) (3.1.1)\n",
      "Requirement already satisfied: requests<3.0.0,>=2.20.0 in /home/nexovec/.local/lib/python3.10/site-packages (from pyiceberg>=0.5.0->polars[all]) (2.31.0)\n",
      "Requirement already satisfied: rich<14.0.0,>=10.11.0 in /home/nexovec/.local/lib/python3.10/site-packages (from pyiceberg>=0.5.0->polars[all]) (13.7.0)\n",
      "Requirement already satisfied: sortedcontainers==2.4.0 in /home/nexovec/.local/lib/python3.10/site-packages (from pyiceberg>=0.5.0->polars[all]) (2.4.0)\n",
      "Requirement already satisfied: strictyaml<2.0.0,>=1.7.0 in /home/nexovec/.local/lib/python3.10/site-packages (from pyiceberg>=0.5.0->polars[all]) (1.7.3)\n",
      "Requirement already satisfied: annotated-types>=0.4.0 in /home/nexovec/.local/lib/python3.10/site-packages (from pydantic->polars[all]) (0.6.0)\n",
      "Requirement already satisfied: pydantic-core==2.16.2 in /home/nexovec/.local/lib/python3.10/site-packages (from pydantic->polars[all]) (2.16.2)\n",
      "Requirement already satisfied: typing-extensions>=4.6.1 in /home/nexovec/.local/lib/python3.10/site-packages (from pydantic->polars[all]) (4.9.0)\n",
      "Requirement already satisfied: adbc-driver-manager in /home/nexovec/.local/lib/python3.10/site-packages (from adbc_driver_sqlite->polars[all]) (0.9.0)\n",
      "Requirement already satisfied: zope.event in /home/nexovec/.local/lib/python3.10/site-packages (from gevent->polars[all]) (5.0)\n",
      "Requirement already satisfied: zope.interface in /home/nexovec/.local/lib/python3.10/site-packages (from gevent->polars[all]) (6.2)\n",
      "Requirement already satisfied: greenlet>=2.0.0 in /home/nexovec/.local/lib/python3.10/site-packages (from gevent->polars[all]) (3.0.3)\n",
      "Requirement already satisfied: Jinja2>=2.9 in /home/nexovec/.local/lib/python3.10/site-packages (from bokeh>=1.0.0->hvplot>=0.9.1->polars[all]) (3.1.3)\n",
      "Requirement already satisfied: contourpy>=1 in /home/nexovec/.local/lib/python3.10/site-packages (from bokeh>=1.0.0->hvplot>=0.9.1->polars[all]) (1.2.0)\n",
      "Requirement already satisfied: pillow>=7.1.0 in /home/nexovec/.local/lib/python3.10/site-packages (from bokeh>=1.0.0->hvplot>=0.9.1->polars[all]) (10.2.0)\n",
      "Requirement already satisfied: PyYAML>=3.10 in /home/nexovec/miniconda3/envs/rozvrhy/lib/python3.10/site-packages (from bokeh>=1.0.0->hvplot>=0.9.1->polars[all]) (6.0.1)\n",
      "Requirement already satisfied: tornado>=5.1 in /home/nexovec/.local/lib/python3.10/site-packages (from bokeh>=1.0.0->hvplot>=0.9.1->polars[all]) (6.4)\n",
      "Requirement already satisfied: xyzservices>=2021.09.1 in /home/nexovec/.local/lib/python3.10/site-packages (from bokeh>=1.0.0->hvplot>=0.9.1->polars[all]) (2023.10.1)\n",
      "Requirement already satisfied: pyct>=0.4.4 in /home/nexovec/.local/lib/python3.10/site-packages (from colorcet>=2->hvplot>=0.9.1->polars[all]) (0.5.0)\n",
      "Requirement already satisfied: pyviz-comms>=0.7.4 in /home/nexovec/.local/lib/python3.10/site-packages (from holoviews>=1.11.0->hvplot>=0.9.1->polars[all]) (3.0.1)\n",
      "Requirement already satisfied: markdown in /home/nexovec/.local/lib/python3.10/site-packages (from panel>=0.11.0->hvplot>=0.9.1->polars[all]) (3.5.2)\n",
      "Requirement already satisfied: markdown-it-py in /home/nexovec/.local/lib/python3.10/site-packages (from panel>=0.11.0->hvplot>=0.9.1->polars[all]) (3.0.0)\n",
      "Requirement already satisfied: linkify-it-py in /home/nexovec/.local/lib/python3.10/site-packages (from panel>=0.11.0->hvplot>=0.9.1->polars[all]) (2.0.3)\n",
      "Requirement already satisfied: mdit-py-plugins in /home/nexovec/.local/lib/python3.10/site-packages (from panel>=0.11.0->hvplot>=0.9.1->polars[all]) (0.4.0)\n",
      "Requirement already satisfied: tqdm>=4.48.0 in /home/nexovec/.local/lib/python3.10/site-packages (from panel>=0.11.0->hvplot>=0.9.1->polars[all]) (4.66.2)\n",
      "Requirement already satisfied: bleach in /home/nexovec/.local/lib/python3.10/site-packages (from panel>=0.11.0->hvplot>=0.9.1->polars[all]) (6.1.0)\n",
      "Requirement already satisfied: charset-normalizer<4,>=2 in /home/nexovec/.local/lib/python3.10/site-packages (from requests<3.0.0,>=2.20.0->pyiceberg>=0.5.0->polars[all]) (3.3.2)\n",
      "Requirement already satisfied: idna<4,>=2.5 in /home/nexovec/miniconda3/envs/rozvrhy/lib/python3.10/site-packages (from requests<3.0.0,>=2.20.0->pyiceberg>=0.5.0->polars[all]) (3.4)\n",
      "Requirement already satisfied: urllib3<3,>=1.21.1 in /home/nexovec/miniconda3/envs/rozvrhy/lib/python3.10/site-packages (from requests<3.0.0,>=2.20.0->pyiceberg>=0.5.0->polars[all]) (2.1.0)\n",
      "Requirement already satisfied: certifi>=2017.4.17 in /home/nexovec/miniconda3/envs/rozvrhy/lib/python3.10/site-packages (from requests<3.0.0,>=2.20.0->pyiceberg>=0.5.0->polars[all]) (2023.7.22)\n",
      "Requirement already satisfied: pygments<3.0.0,>=2.13.0 in /home/nexovec/.local/lib/python3.10/site-packages (from rich<14.0.0,>=10.11.0->pyiceberg>=0.5.0->polars[all]) (2.17.2)\n",
      "Requirement already satisfied: setuptools in /home/nexovec/miniconda3/envs/rozvrhy/lib/python3.10/site-packages (from zope.event->gevent->polars[all]) (68.2.2)\n",
      "Requirement already satisfied: MarkupSafe>=2.0 in /home/nexovec/.local/lib/python3.10/site-packages (from Jinja2>=2.9->bokeh>=1.0.0->hvplot>=0.9.1->polars[all]) (2.1.5)\n",
      "Requirement already satisfied: mdurl~=0.1 in /home/nexovec/.local/lib/python3.10/site-packages (from markdown-it-py->panel>=0.11.0->hvplot>=0.9.1->polars[all]) (0.1.2)\n",
      "Requirement already satisfied: webencodings in /home/nexovec/miniconda3/envs/rozvrhy/lib/python3.10/site-packages (from bleach->panel>=0.11.0->hvplot>=0.9.1->polars[all]) (0.5.1)\n",
      "Requirement already satisfied: uc-micro-py in /home/nexovec/.local/lib/python3.10/site-packages (from linkify-it-py->panel>=0.11.0->hvplot>=0.9.1->polars[all]) (1.0.3)\n",
      "Note: you may need to restart the kernel to use updated packages.\n"
     ]
    }
   ],
   "source": [
    "%pip install polars[all] pandas"
   ]
  },
  {
   "cell_type": "code",
   "execution_count": 78,
   "metadata": {},
   "outputs": [],
   "source": [
    "import polars as pl"
   ]
  },
  {
   "cell_type": "code",
   "execution_count": 79,
   "metadata": {},
   "outputs": [],
   "source": [
    "lf = pl.scan_csv(\"data/prf_uchazeci.csv\")"
   ]
  },
  {
   "cell_type": "code",
   "execution_count": 80,
   "metadata": {},
   "outputs": [
    {
     "data": {
      "text/html": [
       "<div><style>\n",
       ".dataframe > thead > tr,\n",
       ".dataframe > tbody > tr {\n",
       "  text-align: right;\n",
       "  white-space: pre-wrap;\n",
       "}\n",
       "</style>\n",
       "<small>shape: (4_932, 29)</small><table border=\"1\" class=\"dataframe\"><thead><tr><th>FAKULTA_SP</th><th>ROK_NAR</th><th>STAT_OBCANSTVI</th><th>PSC_BYDL</th><th>PSC_CIZI</th><th>OBEC_BYDLISTE</th><th>OBEC_CIZI</th><th>STAT_BYDLISTE</th><th>NAZEV_S_SKOLY</th><th>STAT_S_SKOLY</th><th>ADRESA_S_SKOLY</th><th>CIS_OBORU</th><th>MATURITA</th><th>STRED_SKOLA_CIZI</th><th>STRED_SKOLA_CIZI_MISTO</th><th>STRED_SKOLA_CIZI_OBOR</th><th>VS_SKOLA</th><th>NAZEV_VS</th><th>STAT_VS</th><th>VS_ROK_ABSOL</th><th>ROK_PR</th><th>CISP_KOD</th><th>CZ_NAZEV</th><th>FORMA</th><th>TYP</th><th>PR_NAZEV</th><th>PR_OBOR</th><th>PR_KOMBINACE</th><th>SDRUZENE</th></tr><tr><td>str</td><td>i64</td><td>str</td><td>i64</td><td>str</td><td>str</td><td>str</td><td>str</td><td>str</td><td>str</td><td>str</td><td>str</td><td>i64</td><td>str</td><td>str</td><td>str</td><td>str</td><td>str</td><td>str</td><td>f64</td><td>i64</td><td>str</td><td>str</td><td>str</td><td>str</td><td>str</td><td>str</td><td>str</td><td>str</td></tr></thead><tbody><tr><td>&quot;PRF&quot;</td><td>2000</td><td>&quot;Česká republik…</td><td>0</td><td>null</td><td>&quot;nevyplněno&quot;</td><td>null</td><td>&quot;Česká republik…</td><td>&quot;SŠ pedagogická…</td><td>&quot;Česká republik…</td><td>&quot;Litoměřice, Ko…</td><td>&quot;7531M01&quot;</td><td>2019</td><td>null</td><td>null</td><td>null</td><td>null</td><td>null</td><td>null</td><td>null</td><td>2019</td><td>&quot;B1101&quot;</td><td>&quot;Matematika&quot;</td><td>&quot;P&quot;</td><td>&quot;B&quot;</td><td>&quot;MA AJ1&quot;</td><td>null</td><td>&quot;MA AJ&quot;</td><td>null</td></tr><tr><td>&quot;PRF&quot;</td><td>1999</td><td>&quot;Česká republik…</td><td>0</td><td>null</td><td>&quot;nevyplněno&quot;</td><td>null</td><td>&quot;Česká republik…</td><td>&quot;Gymnázium&quot;</td><td>&quot;Česká republik…</td><td>&quot;Roudnice nad L…</td><td>&quot;7941K41&quot;</td><td>2018</td><td>null</td><td>null</td><td>null</td><td>null</td><td>null</td><td>null</td><td>2021.0</td><td>2019</td><td>&quot;B1101&quot;</td><td>&quot;Matematika&quot;</td><td>&quot;P&quot;</td><td>&quot;B&quot;</td><td>&quot;MA BI1&quot;</td><td>null</td><td>&quot;MA  BI&quot;</td><td>null</td></tr><tr><td>&quot;PRF&quot;</td><td>0</td><td>&quot;Česká republik…</td><td>0</td><td>null</td><td>&quot;nevyplněno&quot;</td><td>null</td><td>&quot;Česká republik…</td><td>&quot;První české gy…</td><td>&quot;Česká republik…</td><td>&quot;Karlovy Vary, …</td><td>&quot;7941K41&quot;</td><td>2019</td><td>null</td><td>null</td><td>null</td><td>null</td><td>null</td><td>null</td><td>null</td><td>2019</td><td>&quot;B1101&quot;</td><td>&quot;Matematika&quot;</td><td>&quot;P&quot;</td><td>&quot;B&quot;</td><td>&quot;MA BI1&quot;</td><td>null</td><td>&quot;MA  BI&quot;</td><td>null</td></tr><tr><td>&quot;PRF&quot;</td><td>1998</td><td>&quot;Česká republik…</td><td>41705</td><td>null</td><td>&quot;Osek&quot;</td><td>null</td><td>&quot;Česká republik…</td><td>&quot;Gymnázium T. G…</td><td>&quot;Česká republik…</td><td>&quot;Litvínov, Stud…</td><td>&quot;7941K41&quot;</td><td>2018</td><td>null</td><td>null</td><td>null</td><td>null</td><td>null</td><td>null</td><td>null</td><td>2019</td><td>&quot;B1101&quot;</td><td>&quot;Matematika&quot;</td><td>&quot;P&quot;</td><td>&quot;B&quot;</td><td>&quot;MA BI1&quot;</td><td>null</td><td>&quot;MA  BI&quot;</td><td>null</td></tr><tr><td>&quot;PRF&quot;</td><td>0</td><td>&quot;Česká republik…</td><td>0</td><td>null</td><td>&quot;nevyplněno&quot;</td><td>null</td><td>&quot;Česká republik…</td><td>&quot;ZŠ T. G. Masar…</td><td>&quot;Česká republik…</td><td>&quot;Česká Kamenice…</td><td>&quot;7941K81&quot;</td><td>2018</td><td>null</td><td>null</td><td>null</td><td>null</td><td>null</td><td>null</td><td>null</td><td>2019</td><td>&quot;B1101&quot;</td><td>&quot;Matematika&quot;</td><td>&quot;P&quot;</td><td>&quot;B&quot;</td><td>&quot;MA GEO1&quot;</td><td>null</td><td>&quot;MA GEO&quot;</td><td>null</td></tr><tr><td>&quot;PRF&quot;</td><td>2000</td><td>&quot;Česká republik…</td><td>40001</td><td>null</td><td>&quot;Ústí nad Labem…</td><td>null</td><td>&quot;Česká republik…</td><td>&quot;Gymnázium&quot;</td><td>&quot;Česká republik…</td><td>&quot;Ústí nad Labem…</td><td>&quot;7941K41&quot;</td><td>2019</td><td>null</td><td>null</td><td>null</td><td>&quot;Univerzita Jan…</td><td>&quot;Univerzita Jan…</td><td>&quot;Česká republik…</td><td>2023.0</td><td>2019</td><td>&quot;B1101&quot;</td><td>&quot;Matematika&quot;</td><td>&quot;P&quot;</td><td>&quot;B&quot;</td><td>&quot;MA GEO1&quot;</td><td>null</td><td>&quot;MA GEO&quot;</td><td>null</td></tr><tr><td>&quot;PRF&quot;</td><td>0</td><td>&quot;Česká republik…</td><td>0</td><td>null</td><td>&quot;nevyplněno&quot;</td><td>null</td><td>&quot;Česká republik…</td><td>&quot;Gymnázium&quot;</td><td>&quot;Česká republik…</td><td>&quot;Děčín, Komensk…</td><td>&quot;7941K81&quot;</td><td>2018</td><td>null</td><td>null</td><td>null</td><td>&quot;UNIVERZITA KAR…</td><td>&quot;UNIVERZITA KAR…</td><td>&quot;Česká republik…</td><td>null</td><td>2019</td><td>&quot;B1101&quot;</td><td>&quot;Matematika&quot;</td><td>&quot;P&quot;</td><td>&quot;B&quot;</td><td>&quot;MA GEO1&quot;</td><td>null</td><td>&quot;MA GEO&quot;</td><td>null</td></tr><tr><td>&quot;PRF&quot;</td><td>1999</td><td>&quot;Česká republik…</td><td>0</td><td>null</td><td>&quot;nevyplněno&quot;</td><td>null</td><td>&quot;Česká republik…</td><td>&quot;Podkrušnohorsk…</td><td>&quot;Česká republik…</td><td>&quot;Most, Čsl. arm…</td><td>&quot;7941K401&quot;</td><td>2019</td><td>null</td><td>null</td><td>null</td><td>&quot;Univerzita Jan…</td><td>&quot;Univerzita Jan…</td><td>&quot;Česká republik…</td><td>2021.0</td><td>2019</td><td>&quot;B1101&quot;</td><td>&quot;Matematika&quot;</td><td>&quot;P&quot;</td><td>&quot;B&quot;</td><td>&quot;MA GEO1&quot;</td><td>null</td><td>&quot;MA GEO&quot;</td><td>null</td></tr><tr><td>&quot;PRF&quot;</td><td>0</td><td>&quot;Česká republik…</td><td>0</td><td>null</td><td>&quot;nevyplněno&quot;</td><td>null</td><td>&quot;Česká republik…</td><td>&quot;Gymnázium&quot;</td><td>&quot;Česká republik…</td><td>&quot;Děčín, Komensk…</td><td>&quot;7941K81&quot;</td><td>2019</td><td>null</td><td>null</td><td>null</td><td>null</td><td>null</td><td>null</td><td>null</td><td>2019</td><td>&quot;B1101&quot;</td><td>&quot;Matematika&quot;</td><td>&quot;P&quot;</td><td>&quot;B&quot;</td><td>&quot;MA GEO1&quot;</td><td>null</td><td>&quot;MA GEO&quot;</td><td>null</td></tr><tr><td>&quot;PRF&quot;</td><td>2000</td><td>&quot;Česká republik…</td><td>41752</td><td>null</td><td>&quot;Hostomice&quot;</td><td>null</td><td>&quot;Česká republik…</td><td>&quot;VOŠ zdravotnic…</td><td>&quot;Česká republik…</td><td>&quot;Ústí nad Labem…</td><td>&quot;7842M04&quot;</td><td>2019</td><td>null</td><td>null</td><td>null</td><td>&quot;Univerzita Jan…</td><td>&quot;Univerzita Jan…</td><td>&quot;Česká republik…</td><td>2023.0</td><td>2019</td><td>&quot;B1101&quot;</td><td>&quot;Matematika&quot;</td><td>&quot;P&quot;</td><td>&quot;B&quot;</td><td>&quot;MA GEO2&quot;</td><td>null</td><td>&quot;MA GEO&quot;</td><td>null</td></tr><tr><td>&quot;PRF&quot;</td><td>0</td><td>&quot;Česká republik…</td><td>0</td><td>null</td><td>&quot;nevyplněno&quot;</td><td>null</td><td>&quot;Česká republik…</td><td>&quot;VOŠ zdravotnic…</td><td>&quot;Česká republik…</td><td>&quot;Ústí nad Labem…</td><td>&quot;7842M04&quot;</td><td>2019</td><td>null</td><td>null</td><td>null</td><td>null</td><td>null</td><td>null</td><td>null</td><td>2019</td><td>&quot;B1101&quot;</td><td>&quot;Matematika&quot;</td><td>&quot;P&quot;</td><td>&quot;B&quot;</td><td>&quot;MA GEO2&quot;</td><td>null</td><td>&quot;MA GEO&quot;</td><td>null</td></tr><tr><td>&quot;PRF&quot;</td><td>1999</td><td>&quot;Česká republik…</td><td>0</td><td>null</td><td>&quot;nevyplněno&quot;</td><td>null</td><td>&quot;Česká republik…</td><td>&quot;Gymnázium&quot;</td><td>&quot;Česká republik…</td><td>&quot;Teplice, Čs. d…</td><td>&quot;7941K41&quot;</td><td>2018</td><td>null</td><td>null</td><td>null</td><td>&quot;Univerzita Jan…</td><td>&quot;Univerzita Jan…</td><td>&quot;Česká republik…</td><td>2021.0</td><td>2019</td><td>&quot;B1101&quot;</td><td>&quot;Matematika&quot;</td><td>&quot;P&quot;</td><td>&quot;B&quot;</td><td>&quot;MA GEO2&quot;</td><td>null</td><td>&quot;MA GEO&quot;</td><td>null</td></tr><tr><td>&hellip;</td><td>&hellip;</td><td>&hellip;</td><td>&hellip;</td><td>&hellip;</td><td>&hellip;</td><td>&hellip;</td><td>&hellip;</td><td>&hellip;</td><td>&hellip;</td><td>&hellip;</td><td>&hellip;</td><td>&hellip;</td><td>&hellip;</td><td>&hellip;</td><td>&hellip;</td><td>&hellip;</td><td>&hellip;</td><td>&hellip;</td><td>&hellip;</td><td>&hellip;</td><td>&hellip;</td><td>&hellip;</td><td>&hellip;</td><td>&hellip;</td><td>&hellip;</td><td>&hellip;</td><td>&hellip;</td><td>&hellip;</td></tr><tr><td>&quot;PRF&quot;</td><td>2000</td><td>&quot;Česká republik…</td><td>40011</td><td>null</td><td>&quot;Ústí nad Labem…</td><td>null</td><td>&quot;Česká republik…</td><td>&quot;Střední průmys…</td><td>&quot;Česká republik…</td><td>&quot;Ústí nad Labem…</td><td>&quot;1820M01&quot;</td><td>2019</td><td>null</td><td>null</td><td>null</td><td>null</td><td>&quot;Univerzita Jan…</td><td>&quot;Česká republik…</td><td>2023.0</td><td>2023</td><td>&quot;N0613P140003&quot;</td><td>&quot;Aplikovaná inf…</td><td>&quot;P&quot;</td><td>&quot;N&quot;</td><td>&quot;N API2&quot;</td><td>null</td><td>null</td><td>null</td></tr><tr><td>&quot;PRF&quot;</td><td>2000</td><td>&quot;Česká republik…</td><td>35601</td><td>null</td><td>&quot;Sokolov&quot;</td><td>null</td><td>&quot;Česká republik…</td><td>&quot;ISŠ technická …</td><td>&quot;Česká republik…</td><td>&quot;Sokolov, Jedno…</td><td>&quot;1820M01&quot;</td><td>2019</td><td>null</td><td>null</td><td>null</td><td>&quot;UNIVERZITA JAN…</td><td>&quot;UNIVERZITA JAN…</td><td>&quot;Česká republik…</td><td>2023.0</td><td>2023</td><td>&quot;N0613P140003&quot;</td><td>&quot;Aplikovaná inf…</td><td>&quot;P&quot;</td><td>&quot;N&quot;</td><td>&quot;N API2&quot;</td><td>null</td><td>null</td><td>null</td></tr><tr><td>&quot;PRF&quot;</td><td>1999</td><td>&quot;Česká republik…</td><td>62500</td><td>null</td><td>&quot;Brno&quot;</td><td>null</td><td>&quot;Česká republik…</td><td>&quot;gymnázia&quot;</td><td>&quot;Česká republik…</td><td>null</td><td>&quot;7941K61&quot;</td><td>2018</td><td>null</td><td>null</td><td>null</td><td>&quot;MASARYKOVA UNI…</td><td>&quot;MASARYKOVA UNI…</td><td>&quot;Česká republik…</td><td>2023.0</td><td>2023</td><td>&quot;N0613P140003&quot;</td><td>&quot;Aplikovaná inf…</td><td>&quot;P&quot;</td><td>&quot;N&quot;</td><td>&quot;N API2&quot;</td><td>null</td><td>null</td><td>null</td></tr><tr><td>&quot;PRF&quot;</td><td>1999</td><td>&quot;Česká republik…</td><td>40001</td><td>null</td><td>&quot;Ústí nad Labem…</td><td>null</td><td>&quot;Česká republik…</td><td>&quot;Gymnázium&quot;</td><td>&quot;Česká republik…</td><td>&quot;Ústí nad Labem…</td><td>&quot;7941K41&quot;</td><td>2019</td><td>null</td><td>null</td><td>null</td><td>&quot;Univerzita Jan…</td><td>&quot;Univerzita Jan…</td><td>&quot;Česká republik…</td><td>2023.0</td><td>2023</td><td>&quot;N0719A110004&quot;</td><td>&quot;Aplikované nan…</td><td>&quot;P&quot;</td><td>&quot;N&quot;</td><td>&quot;N NANO1&quot;</td><td>null</td><td>null</td><td>null</td></tr><tr><td>&quot;PRF&quot;</td><td>1999</td><td>&quot;Slovenská repu…</td><td>0</td><td>&quot;06601&quot;</td><td>&quot;nevyplněno&quot;</td><td>&quot;Humenné&quot;</td><td>&quot;Slovenská repu…</td><td>&quot;Zahraniční ško…</td><td>&quot;Slovenská repu…</td><td>null</td><td>null</td><td>2018</td><td>null</td><td>null</td><td>null</td><td>&quot;České vysoké u…</td><td>&quot;CESKÉ VYSOKÉ U…</td><td>&quot;Česká republik…</td><td>2023.0</td><td>2023</td><td>&quot;N0719A110004&quot;</td><td>&quot;Aplikované nan…</td><td>&quot;P&quot;</td><td>&quot;N&quot;</td><td>&quot;N NANO1&quot;</td><td>null</td><td>null</td><td>null</td></tr><tr><td>&quot;PRF&quot;</td><td>2001</td><td>&quot;Česká republik…</td><td>43201</td><td>null</td><td>&quot;Kadaň&quot;</td><td>null</td><td>&quot;Česká republik…</td><td>&quot;Gymnázium&quot;</td><td>&quot;Česká republik…</td><td>&quot;Kadaň, 5. květ…</td><td>&quot;7941K41&quot;</td><td>2020</td><td>null</td><td>null</td><td>null</td><td>&quot;Univerzita Jan…</td><td>&quot;Univerzita Jan…</td><td>&quot;Česká republik…</td><td>2023.0</td><td>2023</td><td>&quot;N0719A110004&quot;</td><td>&quot;Aplikované nan…</td><td>&quot;P&quot;</td><td>&quot;N&quot;</td><td>&quot;N NANO2&quot;</td><td>null</td><td>null</td><td>null</td></tr><tr><td>&quot;PRF&quot;</td><td>1999</td><td>&quot;Česká republik…</td><td>29001</td><td>null</td><td>&quot;Poděbrady&quot;</td><td>null</td><td>&quot;Česká republik…</td><td>&quot;Gymnázium&quot;</td><td>&quot;Česká republik…</td><td>&quot;Trutnov, Jirás…</td><td>null</td><td>2018</td><td>null</td><td>null</td><td>null</td><td>&quot;UNIVERZITA PAR…</td><td>&quot;UNIVERZITA PAR…</td><td>&quot;Česká republik…</td><td>2021.0</td><td>2023</td><td>&quot;N0719A110004&quot;</td><td>&quot;Aplikované nan…</td><td>&quot;P&quot;</td><td>&quot;N&quot;</td><td>&quot;N NANO2&quot;</td><td>null</td><td>null</td><td>null</td></tr><tr><td>&quot;PRF&quot;</td><td>1997</td><td>&quot;Česká republik…</td><td>27601</td><td>null</td><td>&quot;Mělník&quot;</td><td>null</td><td>&quot;Česká republik…</td><td>&quot;Gymnázium Jana…</td><td>&quot;Česká republik…</td><td>&quot;Mělník, Pod Vr…</td><td>&quot;7941K41&quot;</td><td>2017</td><td>null</td><td>null</td><td>null</td><td>&quot;Univerzita Jan…</td><td>&quot;Univerzita Jan…</td><td>&quot;Česká republik…</td><td>2023.0</td><td>2023</td><td>&quot;P0532D330032&quot;</td><td>&quot;Geographies of…</td><td>&quot;P&quot;</td><td>&quot;D&quot;</td><td>&quot;D GEOTR2&quot;</td><td>null</td><td>null</td><td>null</td></tr><tr><td>&quot;PRF&quot;</td><td>1997</td><td>&quot;Česká republik…</td><td>41201</td><td>null</td><td>&quot;Litoměřice&quot;</td><td>null</td><td>&quot;Česká republik…</td><td>&quot;Gymnázium Jose…</td><td>&quot;Česká republik…</td><td>&quot;Litoměřice, Sv…</td><td>&quot;7941K41&quot;</td><td>2016</td><td>null</td><td>null</td><td>null</td><td>&quot;Univerzita Jan…</td><td>&quot;Univerzita Jan…</td><td>&quot;Česká republik…</td><td>2023.0</td><td>2023</td><td>&quot;P0533D110037&quot;</td><td>&quot;Počítačové mod…</td><td>&quot;P&quot;</td><td>&quot;D&quot;</td><td>&quot;D PMVT2&quot;</td><td>null</td><td>null</td><td>null</td></tr><tr><td>&quot;PRF&quot;</td><td>1997</td><td>&quot;Česká republik…</td><td>43921</td><td>null</td><td>&quot;Koštice&quot;</td><td>null</td><td>&quot;Česká republik…</td><td>&quot;Gymnázium&quot;</td><td>&quot;Česká republik…</td><td>&quot;Lovosice, Sady…</td><td>&quot;7941K41&quot;</td><td>2017</td><td>null</td><td>null</td><td>null</td><td>&quot;Univerzita Jan…</td><td>&quot;Univerzita Jan…</td><td>&quot;Česká republik…</td><td>2023.0</td><td>2023</td><td>&quot;P0533D110049&quot;</td><td>&quot;Aplikované ion…</td><td>&quot;P&quot;</td><td>&quot;D&quot;</td><td>&quot;D AIT2&quot;</td><td>null</td><td>null</td><td>null</td></tr><tr><td>&quot;PRF&quot;</td><td>1994</td><td>&quot;Česká republik…</td><td>41501</td><td>null</td><td>&quot;Teplice&quot;</td><td>null</td><td>&quot;Česká republik…</td><td>&quot;Gymnázium&quot;</td><td>&quot;Česká republik…</td><td>&quot;Teplice, Čs. d…</td><td>&quot;7941K41&quot;</td><td>2013</td><td>null</td><td>null</td><td>null</td><td>&quot;Univerzita Jan…</td><td>&quot;Univerzita Jan…</td><td>&quot;Česká republik…</td><td>2023.0</td><td>2023</td><td>&quot;P0719D110003&quot;</td><td>&quot;Aplikované nan…</td><td>&quot;P&quot;</td><td>&quot;D&quot;</td><td>&quot;D NANO1&quot;</td><td>null</td><td>null</td><td>null</td></tr><tr><td>&quot;PRF&quot;</td><td>1997</td><td>&quot;Česká republik…</td><td>40011</td><td>null</td><td>&quot;Ústí nad Labem…</td><td>null</td><td>&quot;Česká republik…</td><td>&quot;Gymnázium a SO…</td><td>&quot;Česká republik…</td><td>&quot;Ústí nad Labem…</td><td>&quot;7941K41&quot;</td><td>2017</td><td>null</td><td>null</td><td>null</td><td>&quot;Univerzita Jan…</td><td>&quot;Univerzita Jan…</td><td>&quot;Česká republik…</td><td>2023.0</td><td>2023</td><td>&quot;P0719D110003&quot;</td><td>&quot;Aplikované nan…</td><td>&quot;P&quot;</td><td>&quot;D&quot;</td><td>&quot;D NANO2&quot;</td><td>null</td><td>null</td><td>null</td></tr></tbody></table></div>"
      ],
      "text/plain": [
       "shape: (4_932, 29)\n",
       "┌────────────┬─────────┬──────────────┬──────────┬───┬──────────┬─────────┬─────────────┬──────────┐\n",
       "│ FAKULTA_SP ┆ ROK_NAR ┆ STAT_OBCANST ┆ PSC_BYDL ┆ … ┆ PR_NAZEV ┆ PR_OBOR ┆ PR_KOMBINAC ┆ SDRUZENE │\n",
       "│ ---        ┆ ---     ┆ VI           ┆ ---      ┆   ┆ ---      ┆ ---     ┆ E           ┆ ---      │\n",
       "│ str        ┆ i64     ┆ ---          ┆ i64      ┆   ┆ str      ┆ str     ┆ ---         ┆ str      │\n",
       "│            ┆         ┆ str          ┆          ┆   ┆          ┆         ┆ str         ┆          │\n",
       "╞════════════╪═════════╪══════════════╪══════════╪═══╪══════════╪═════════╪═════════════╪══════════╡\n",
       "│ PRF        ┆ 2000    ┆ Česká        ┆ 0        ┆ … ┆ MA AJ1   ┆ null    ┆ MA AJ       ┆ null     │\n",
       "│            ┆         ┆ republika    ┆          ┆   ┆          ┆         ┆             ┆          │\n",
       "│ PRF        ┆ 1999    ┆ Česká        ┆ 0        ┆ … ┆ MA BI1   ┆ null    ┆ MA  BI      ┆ null     │\n",
       "│            ┆         ┆ republika    ┆          ┆   ┆          ┆         ┆             ┆          │\n",
       "│ PRF        ┆ 0       ┆ Česká        ┆ 0        ┆ … ┆ MA BI1   ┆ null    ┆ MA  BI      ┆ null     │\n",
       "│            ┆         ┆ republika    ┆          ┆   ┆          ┆         ┆             ┆          │\n",
       "│ PRF        ┆ 1998    ┆ Česká        ┆ 41705    ┆ … ┆ MA BI1   ┆ null    ┆ MA  BI      ┆ null     │\n",
       "│            ┆         ┆ republika    ┆          ┆   ┆          ┆         ┆             ┆          │\n",
       "│ PRF        ┆ 0       ┆ Česká        ┆ 0        ┆ … ┆ MA GEO1  ┆ null    ┆ MA GEO      ┆ null     │\n",
       "│            ┆         ┆ republika    ┆          ┆   ┆          ┆         ┆             ┆          │\n",
       "│ …          ┆ …       ┆ …            ┆ …        ┆ … ┆ …        ┆ …       ┆ …           ┆ …        │\n",
       "│ PRF        ┆ 1997    ┆ Česká        ┆ 27601    ┆ … ┆ D GEOTR2 ┆ null    ┆ null        ┆ null     │\n",
       "│            ┆         ┆ republika    ┆          ┆   ┆          ┆         ┆             ┆          │\n",
       "│ PRF        ┆ 1997    ┆ Česká        ┆ 41201    ┆ … ┆ D PMVT2  ┆ null    ┆ null        ┆ null     │\n",
       "│            ┆         ┆ republika    ┆          ┆   ┆          ┆         ┆             ┆          │\n",
       "│ PRF        ┆ 1997    ┆ Česká        ┆ 43921    ┆ … ┆ D AIT2   ┆ null    ┆ null        ┆ null     │\n",
       "│            ┆         ┆ republika    ┆          ┆   ┆          ┆         ┆             ┆          │\n",
       "│ PRF        ┆ 1994    ┆ Česká        ┆ 41501    ┆ … ┆ D NANO1  ┆ null    ┆ null        ┆ null     │\n",
       "│            ┆         ┆ republika    ┆          ┆   ┆          ┆         ┆             ┆          │\n",
       "│ PRF        ┆ 1997    ┆ Česká        ┆ 40011    ┆ … ┆ D NANO2  ┆ null    ┆ null        ┆ null     │\n",
       "│            ┆         ┆ republika    ┆          ┆   ┆          ┆         ┆             ┆          │\n",
       "└────────────┴─────────┴──────────────┴──────────┴───┴──────────┴─────────┴─────────────┴──────────┘"
      ]
     },
     "execution_count": 80,
     "metadata": {},
     "output_type": "execute_result"
    }
   ],
   "source": [
    "lf.collect()"
   ]
  },
  {
   "cell_type": "code",
   "execution_count": 81,
   "metadata": {},
   "outputs": [
    {
     "data": {
      "text/plain": [
       "['FAKULTA_SP',\n",
       " 'ROK_NAR',\n",
       " 'STAT_OBCANSTVI',\n",
       " 'PSC_BYDL',\n",
       " 'PSC_CIZI',\n",
       " 'OBEC_BYDLISTE',\n",
       " 'OBEC_CIZI',\n",
       " 'STAT_BYDLISTE',\n",
       " 'NAZEV_S_SKOLY',\n",
       " 'STAT_S_SKOLY',\n",
       " 'ADRESA_S_SKOLY',\n",
       " 'CIS_OBORU',\n",
       " 'MATURITA',\n",
       " 'STRED_SKOLA_CIZI',\n",
       " 'STRED_SKOLA_CIZI_MISTO',\n",
       " 'STRED_SKOLA_CIZI_OBOR',\n",
       " 'VS_SKOLA',\n",
       " 'NAZEV_VS',\n",
       " 'STAT_VS',\n",
       " 'VS_ROK_ABSOL',\n",
       " 'ROK_PR',\n",
       " 'CISP_KOD',\n",
       " 'CZ_NAZEV',\n",
       " 'FORMA',\n",
       " 'TYP',\n",
       " 'PR_NAZEV',\n",
       " 'PR_OBOR',\n",
       " 'PR_KOMBINACE',\n",
       " 'SDRUZENE']"
      ]
     },
     "execution_count": 81,
     "metadata": {},
     "output_type": "execute_result"
    }
   ],
   "source": [
    "lf.columns"
   ]
  },
  {
   "cell_type": "code",
   "execution_count": 82,
   "metadata": {},
   "outputs": [
    {
     "data": {
      "text/html": [
       "<div><style>\n",
       ".dataframe > thead > tr,\n",
       ".dataframe > tbody > tr {\n",
       "  text-align: right;\n",
       "  white-space: pre-wrap;\n",
       "}\n",
       "</style>\n",
       "<small>shape: (4_814, 29)</small><table border=\"1\" class=\"dataframe\"><thead><tr><th>FAKULTA_SP</th><th>ROK_NAR</th><th>STAT_OBCANSTVI</th><th>PSC_BYDL</th><th>PSC_CIZI</th><th>OBEC_BYDLISTE</th><th>OBEC_CIZI</th><th>STAT_BYDLISTE</th><th>NAZEV_S_SKOLY</th><th>STAT_S_SKOLY</th><th>ADRESA_S_SKOLY</th><th>CIS_OBORU</th><th>MATURITA</th><th>STRED_SKOLA_CIZI</th><th>STRED_SKOLA_CIZI_MISTO</th><th>STRED_SKOLA_CIZI_OBOR</th><th>VS_SKOLA</th><th>NAZEV_VS</th><th>STAT_VS</th><th>VS_ROK_ABSOL</th><th>ROK_PR</th><th>CISP_KOD</th><th>CZ_NAZEV</th><th>FORMA</th><th>TYP</th><th>PR_NAZEV</th><th>PR_OBOR</th><th>PR_KOMBINACE</th><th>SDRUZENE</th></tr><tr><td>str</td><td>i64</td><td>str</td><td>i64</td><td>str</td><td>str</td><td>str</td><td>str</td><td>str</td><td>str</td><td>str</td><td>str</td><td>i64</td><td>str</td><td>str</td><td>str</td><td>str</td><td>str</td><td>str</td><td>f64</td><td>i64</td><td>str</td><td>str</td><td>str</td><td>str</td><td>str</td><td>str</td><td>str</td><td>str</td></tr></thead><tbody><tr><td>&quot;PRF&quot;</td><td>2000</td><td>&quot;Česká republik…</td><td>0</td><td>null</td><td>&quot;nevyplněno&quot;</td><td>null</td><td>&quot;Česká republik…</td><td>&quot;SŠ pedagogická…</td><td>&quot;Česká republik…</td><td>&quot;Litoměřice, Ko…</td><td>&quot;7531M01&quot;</td><td>2019</td><td>null</td><td>null</td><td>null</td><td>null</td><td>null</td><td>null</td><td>null</td><td>2019</td><td>&quot;B1101&quot;</td><td>&quot;Matematika&quot;</td><td>&quot;P&quot;</td><td>&quot;B&quot;</td><td>&quot;MA AJ1&quot;</td><td>null</td><td>&quot;MA AJ&quot;</td><td>null</td></tr><tr><td>&quot;PRF&quot;</td><td>1999</td><td>&quot;Česká republik…</td><td>0</td><td>null</td><td>&quot;nevyplněno&quot;</td><td>null</td><td>&quot;Česká republik…</td><td>&quot;Gymnázium&quot;</td><td>&quot;Česká republik…</td><td>&quot;Roudnice nad L…</td><td>&quot;7941K41&quot;</td><td>2018</td><td>null</td><td>null</td><td>null</td><td>null</td><td>null</td><td>null</td><td>2021.0</td><td>2019</td><td>&quot;B1101&quot;</td><td>&quot;Matematika&quot;</td><td>&quot;P&quot;</td><td>&quot;B&quot;</td><td>&quot;MA BI1&quot;</td><td>null</td><td>&quot;MA  BI&quot;</td><td>null</td></tr><tr><td>&quot;PRF&quot;</td><td>0</td><td>&quot;Česká republik…</td><td>0</td><td>null</td><td>&quot;nevyplněno&quot;</td><td>null</td><td>&quot;Česká republik…</td><td>&quot;První české gy…</td><td>&quot;Česká republik…</td><td>&quot;Karlovy Vary, …</td><td>&quot;7941K41&quot;</td><td>2019</td><td>null</td><td>null</td><td>null</td><td>null</td><td>null</td><td>null</td><td>null</td><td>2019</td><td>&quot;B1101&quot;</td><td>&quot;Matematika&quot;</td><td>&quot;P&quot;</td><td>&quot;B&quot;</td><td>&quot;MA BI1&quot;</td><td>null</td><td>&quot;MA  BI&quot;</td><td>null</td></tr><tr><td>&quot;PRF&quot;</td><td>1998</td><td>&quot;Česká republik…</td><td>41705</td><td>null</td><td>&quot;Osek&quot;</td><td>null</td><td>&quot;Česká republik…</td><td>&quot;Gymnázium T. G…</td><td>&quot;Česká republik…</td><td>&quot;Litvínov, Stud…</td><td>&quot;7941K41&quot;</td><td>2018</td><td>null</td><td>null</td><td>null</td><td>null</td><td>null</td><td>null</td><td>null</td><td>2019</td><td>&quot;B1101&quot;</td><td>&quot;Matematika&quot;</td><td>&quot;P&quot;</td><td>&quot;B&quot;</td><td>&quot;MA BI1&quot;</td><td>null</td><td>&quot;MA  BI&quot;</td><td>null</td></tr><tr><td>&quot;PRF&quot;</td><td>0</td><td>&quot;Česká republik…</td><td>0</td><td>null</td><td>&quot;nevyplněno&quot;</td><td>null</td><td>&quot;Česká republik…</td><td>&quot;ZŠ T. G. Masar…</td><td>&quot;Česká republik…</td><td>&quot;Česká Kamenice…</td><td>&quot;7941K81&quot;</td><td>2018</td><td>null</td><td>null</td><td>null</td><td>null</td><td>null</td><td>null</td><td>null</td><td>2019</td><td>&quot;B1101&quot;</td><td>&quot;Matematika&quot;</td><td>&quot;P&quot;</td><td>&quot;B&quot;</td><td>&quot;MA GEO1&quot;</td><td>null</td><td>&quot;MA GEO&quot;</td><td>null</td></tr><tr><td>&quot;PRF&quot;</td><td>2000</td><td>&quot;Česká republik…</td><td>40001</td><td>null</td><td>&quot;Ústí nad Labem…</td><td>null</td><td>&quot;Česká republik…</td><td>&quot;Gymnázium&quot;</td><td>&quot;Česká republik…</td><td>&quot;Ústí nad Labem…</td><td>&quot;7941K41&quot;</td><td>2019</td><td>null</td><td>null</td><td>null</td><td>&quot;Univerzita Jan…</td><td>&quot;Univerzita Jan…</td><td>&quot;Česká republik…</td><td>2023.0</td><td>2019</td><td>&quot;B1101&quot;</td><td>&quot;Matematika&quot;</td><td>&quot;P&quot;</td><td>&quot;B&quot;</td><td>&quot;MA GEO1&quot;</td><td>null</td><td>&quot;MA GEO&quot;</td><td>null</td></tr><tr><td>&quot;PRF&quot;</td><td>0</td><td>&quot;Česká republik…</td><td>0</td><td>null</td><td>&quot;nevyplněno&quot;</td><td>null</td><td>&quot;Česká republik…</td><td>&quot;Gymnázium&quot;</td><td>&quot;Česká republik…</td><td>&quot;Děčín, Komensk…</td><td>&quot;7941K81&quot;</td><td>2018</td><td>null</td><td>null</td><td>null</td><td>&quot;UNIVERZITA KAR…</td><td>&quot;UNIVERZITA KAR…</td><td>&quot;Česká republik…</td><td>null</td><td>2019</td><td>&quot;B1101&quot;</td><td>&quot;Matematika&quot;</td><td>&quot;P&quot;</td><td>&quot;B&quot;</td><td>&quot;MA GEO1&quot;</td><td>null</td><td>&quot;MA GEO&quot;</td><td>null</td></tr><tr><td>&quot;PRF&quot;</td><td>1999</td><td>&quot;Česká republik…</td><td>0</td><td>null</td><td>&quot;nevyplněno&quot;</td><td>null</td><td>&quot;Česká republik…</td><td>&quot;Podkrušnohorsk…</td><td>&quot;Česká republik…</td><td>&quot;Most, Čsl. arm…</td><td>&quot;7941K401&quot;</td><td>2019</td><td>null</td><td>null</td><td>null</td><td>&quot;Univerzita Jan…</td><td>&quot;Univerzita Jan…</td><td>&quot;Česká republik…</td><td>2021.0</td><td>2019</td><td>&quot;B1101&quot;</td><td>&quot;Matematika&quot;</td><td>&quot;P&quot;</td><td>&quot;B&quot;</td><td>&quot;MA GEO1&quot;</td><td>null</td><td>&quot;MA GEO&quot;</td><td>null</td></tr><tr><td>&quot;PRF&quot;</td><td>0</td><td>&quot;Česká republik…</td><td>0</td><td>null</td><td>&quot;nevyplněno&quot;</td><td>null</td><td>&quot;Česká republik…</td><td>&quot;Gymnázium&quot;</td><td>&quot;Česká republik…</td><td>&quot;Děčín, Komensk…</td><td>&quot;7941K81&quot;</td><td>2019</td><td>null</td><td>null</td><td>null</td><td>null</td><td>null</td><td>null</td><td>null</td><td>2019</td><td>&quot;B1101&quot;</td><td>&quot;Matematika&quot;</td><td>&quot;P&quot;</td><td>&quot;B&quot;</td><td>&quot;MA GEO1&quot;</td><td>null</td><td>&quot;MA GEO&quot;</td><td>null</td></tr><tr><td>&quot;PRF&quot;</td><td>2000</td><td>&quot;Česká republik…</td><td>41752</td><td>null</td><td>&quot;Hostomice&quot;</td><td>null</td><td>&quot;Česká republik…</td><td>&quot;VOŠ zdravotnic…</td><td>&quot;Česká republik…</td><td>&quot;Ústí nad Labem…</td><td>&quot;7842M04&quot;</td><td>2019</td><td>null</td><td>null</td><td>null</td><td>&quot;Univerzita Jan…</td><td>&quot;Univerzita Jan…</td><td>&quot;Česká republik…</td><td>2023.0</td><td>2019</td><td>&quot;B1101&quot;</td><td>&quot;Matematika&quot;</td><td>&quot;P&quot;</td><td>&quot;B&quot;</td><td>&quot;MA GEO2&quot;</td><td>null</td><td>&quot;MA GEO&quot;</td><td>null</td></tr><tr><td>&quot;PRF&quot;</td><td>0</td><td>&quot;Česká republik…</td><td>0</td><td>null</td><td>&quot;nevyplněno&quot;</td><td>null</td><td>&quot;Česká republik…</td><td>&quot;VOŠ zdravotnic…</td><td>&quot;Česká republik…</td><td>&quot;Ústí nad Labem…</td><td>&quot;7842M04&quot;</td><td>2019</td><td>null</td><td>null</td><td>null</td><td>null</td><td>null</td><td>null</td><td>null</td><td>2019</td><td>&quot;B1101&quot;</td><td>&quot;Matematika&quot;</td><td>&quot;P&quot;</td><td>&quot;B&quot;</td><td>&quot;MA GEO2&quot;</td><td>null</td><td>&quot;MA GEO&quot;</td><td>null</td></tr><tr><td>&quot;PRF&quot;</td><td>1999</td><td>&quot;Česká republik…</td><td>0</td><td>null</td><td>&quot;nevyplněno&quot;</td><td>null</td><td>&quot;Česká republik…</td><td>&quot;Gymnázium&quot;</td><td>&quot;Česká republik…</td><td>&quot;Teplice, Čs. d…</td><td>&quot;7941K41&quot;</td><td>2018</td><td>null</td><td>null</td><td>null</td><td>&quot;Univerzita Jan…</td><td>&quot;Univerzita Jan…</td><td>&quot;Česká republik…</td><td>2021.0</td><td>2019</td><td>&quot;B1101&quot;</td><td>&quot;Matematika&quot;</td><td>&quot;P&quot;</td><td>&quot;B&quot;</td><td>&quot;MA GEO2&quot;</td><td>null</td><td>&quot;MA GEO&quot;</td><td>null</td></tr><tr><td>&hellip;</td><td>&hellip;</td><td>&hellip;</td><td>&hellip;</td><td>&hellip;</td><td>&hellip;</td><td>&hellip;</td><td>&hellip;</td><td>&hellip;</td><td>&hellip;</td><td>&hellip;</td><td>&hellip;</td><td>&hellip;</td><td>&hellip;</td><td>&hellip;</td><td>&hellip;</td><td>&hellip;</td><td>&hellip;</td><td>&hellip;</td><td>&hellip;</td><td>&hellip;</td><td>&hellip;</td><td>&hellip;</td><td>&hellip;</td><td>&hellip;</td><td>&hellip;</td><td>&hellip;</td><td>&hellip;</td><td>&hellip;</td></tr><tr><td>&quot;PRF&quot;</td><td>2000</td><td>&quot;Česká republik…</td><td>40011</td><td>null</td><td>&quot;Ústí nad Labem…</td><td>null</td><td>&quot;Česká republik…</td><td>&quot;Střední průmys…</td><td>&quot;Česká republik…</td><td>&quot;Ústí nad Labem…</td><td>&quot;1820M01&quot;</td><td>2019</td><td>null</td><td>null</td><td>null</td><td>null</td><td>&quot;Univerzita Jan…</td><td>&quot;Česká republik…</td><td>2023.0</td><td>2023</td><td>&quot;N0613P140003&quot;</td><td>&quot;Aplikovaná inf…</td><td>&quot;P&quot;</td><td>&quot;N&quot;</td><td>&quot;N API2&quot;</td><td>null</td><td>null</td><td>null</td></tr><tr><td>&quot;PRF&quot;</td><td>2000</td><td>&quot;Česká republik…</td><td>35601</td><td>null</td><td>&quot;Sokolov&quot;</td><td>null</td><td>&quot;Česká republik…</td><td>&quot;ISŠ technická …</td><td>&quot;Česká republik…</td><td>&quot;Sokolov, Jedno…</td><td>&quot;1820M01&quot;</td><td>2019</td><td>null</td><td>null</td><td>null</td><td>&quot;UNIVERZITA JAN…</td><td>&quot;UNIVERZITA JAN…</td><td>&quot;Česká republik…</td><td>2023.0</td><td>2023</td><td>&quot;N0613P140003&quot;</td><td>&quot;Aplikovaná inf…</td><td>&quot;P&quot;</td><td>&quot;N&quot;</td><td>&quot;N API2&quot;</td><td>null</td><td>null</td><td>null</td></tr><tr><td>&quot;PRF&quot;</td><td>1999</td><td>&quot;Česká republik…</td><td>62500</td><td>null</td><td>&quot;Brno&quot;</td><td>null</td><td>&quot;Česká republik…</td><td>&quot;gymnázia&quot;</td><td>&quot;Česká republik…</td><td>null</td><td>&quot;7941K61&quot;</td><td>2018</td><td>null</td><td>null</td><td>null</td><td>&quot;MASARYKOVA UNI…</td><td>&quot;MASARYKOVA UNI…</td><td>&quot;Česká republik…</td><td>2023.0</td><td>2023</td><td>&quot;N0613P140003&quot;</td><td>&quot;Aplikovaná inf…</td><td>&quot;P&quot;</td><td>&quot;N&quot;</td><td>&quot;N API2&quot;</td><td>null</td><td>null</td><td>null</td></tr><tr><td>&quot;PRF&quot;</td><td>1999</td><td>&quot;Česká republik…</td><td>40001</td><td>null</td><td>&quot;Ústí nad Labem…</td><td>null</td><td>&quot;Česká republik…</td><td>&quot;Gymnázium&quot;</td><td>&quot;Česká republik…</td><td>&quot;Ústí nad Labem…</td><td>&quot;7941K41&quot;</td><td>2019</td><td>null</td><td>null</td><td>null</td><td>&quot;Univerzita Jan…</td><td>&quot;Univerzita Jan…</td><td>&quot;Česká republik…</td><td>2023.0</td><td>2023</td><td>&quot;N0719A110004&quot;</td><td>&quot;Aplikované nan…</td><td>&quot;P&quot;</td><td>&quot;N&quot;</td><td>&quot;N NANO1&quot;</td><td>null</td><td>null</td><td>null</td></tr><tr><td>&quot;PRF&quot;</td><td>1999</td><td>&quot;Slovenská repu…</td><td>0</td><td>&quot;06601&quot;</td><td>&quot;nevyplněno&quot;</td><td>&quot;Humenné&quot;</td><td>&quot;Slovenská repu…</td><td>&quot;Zahraniční ško…</td><td>&quot;Slovenská repu…</td><td>null</td><td>null</td><td>2018</td><td>null</td><td>null</td><td>null</td><td>&quot;České vysoké u…</td><td>&quot;CESKÉ VYSOKÉ U…</td><td>&quot;Česká republik…</td><td>2023.0</td><td>2023</td><td>&quot;N0719A110004&quot;</td><td>&quot;Aplikované nan…</td><td>&quot;P&quot;</td><td>&quot;N&quot;</td><td>&quot;N NANO1&quot;</td><td>null</td><td>null</td><td>null</td></tr><tr><td>&quot;PRF&quot;</td><td>2001</td><td>&quot;Česká republik…</td><td>43201</td><td>null</td><td>&quot;Kadaň&quot;</td><td>null</td><td>&quot;Česká republik…</td><td>&quot;Gymnázium&quot;</td><td>&quot;Česká republik…</td><td>&quot;Kadaň, 5. květ…</td><td>&quot;7941K41&quot;</td><td>2020</td><td>null</td><td>null</td><td>null</td><td>&quot;Univerzita Jan…</td><td>&quot;Univerzita Jan…</td><td>&quot;Česká republik…</td><td>2023.0</td><td>2023</td><td>&quot;N0719A110004&quot;</td><td>&quot;Aplikované nan…</td><td>&quot;P&quot;</td><td>&quot;N&quot;</td><td>&quot;N NANO2&quot;</td><td>null</td><td>null</td><td>null</td></tr><tr><td>&quot;PRF&quot;</td><td>1999</td><td>&quot;Česká republik…</td><td>29001</td><td>null</td><td>&quot;Poděbrady&quot;</td><td>null</td><td>&quot;Česká republik…</td><td>&quot;Gymnázium&quot;</td><td>&quot;Česká republik…</td><td>&quot;Trutnov, Jirás…</td><td>null</td><td>2018</td><td>null</td><td>null</td><td>null</td><td>&quot;UNIVERZITA PAR…</td><td>&quot;UNIVERZITA PAR…</td><td>&quot;Česká republik…</td><td>2021.0</td><td>2023</td><td>&quot;N0719A110004&quot;</td><td>&quot;Aplikované nan…</td><td>&quot;P&quot;</td><td>&quot;N&quot;</td><td>&quot;N NANO2&quot;</td><td>null</td><td>null</td><td>null</td></tr><tr><td>&quot;PRF&quot;</td><td>1997</td><td>&quot;Česká republik…</td><td>27601</td><td>null</td><td>&quot;Mělník&quot;</td><td>null</td><td>&quot;Česká republik…</td><td>&quot;Gymnázium Jana…</td><td>&quot;Česká republik…</td><td>&quot;Mělník, Pod Vr…</td><td>&quot;7941K41&quot;</td><td>2017</td><td>null</td><td>null</td><td>null</td><td>&quot;Univerzita Jan…</td><td>&quot;Univerzita Jan…</td><td>&quot;Česká republik…</td><td>2023.0</td><td>2023</td><td>&quot;P0532D330032&quot;</td><td>&quot;Geographies of…</td><td>&quot;P&quot;</td><td>&quot;D&quot;</td><td>&quot;D GEOTR2&quot;</td><td>null</td><td>null</td><td>null</td></tr><tr><td>&quot;PRF&quot;</td><td>1997</td><td>&quot;Česká republik…</td><td>41201</td><td>null</td><td>&quot;Litoměřice&quot;</td><td>null</td><td>&quot;Česká republik…</td><td>&quot;Gymnázium Jose…</td><td>&quot;Česká republik…</td><td>&quot;Litoměřice, Sv…</td><td>&quot;7941K41&quot;</td><td>2016</td><td>null</td><td>null</td><td>null</td><td>&quot;Univerzita Jan…</td><td>&quot;Univerzita Jan…</td><td>&quot;Česká republik…</td><td>2023.0</td><td>2023</td><td>&quot;P0533D110037&quot;</td><td>&quot;Počítačové mod…</td><td>&quot;P&quot;</td><td>&quot;D&quot;</td><td>&quot;D PMVT2&quot;</td><td>null</td><td>null</td><td>null</td></tr><tr><td>&quot;PRF&quot;</td><td>1997</td><td>&quot;Česká republik…</td><td>43921</td><td>null</td><td>&quot;Koštice&quot;</td><td>null</td><td>&quot;Česká republik…</td><td>&quot;Gymnázium&quot;</td><td>&quot;Česká republik…</td><td>&quot;Lovosice, Sady…</td><td>&quot;7941K41&quot;</td><td>2017</td><td>null</td><td>null</td><td>null</td><td>&quot;Univerzita Jan…</td><td>&quot;Univerzita Jan…</td><td>&quot;Česká republik…</td><td>2023.0</td><td>2023</td><td>&quot;P0533D110049&quot;</td><td>&quot;Aplikované ion…</td><td>&quot;P&quot;</td><td>&quot;D&quot;</td><td>&quot;D AIT2&quot;</td><td>null</td><td>null</td><td>null</td></tr><tr><td>&quot;PRF&quot;</td><td>1994</td><td>&quot;Česká republik…</td><td>41501</td><td>null</td><td>&quot;Teplice&quot;</td><td>null</td><td>&quot;Česká republik…</td><td>&quot;Gymnázium&quot;</td><td>&quot;Česká republik…</td><td>&quot;Teplice, Čs. d…</td><td>&quot;7941K41&quot;</td><td>2013</td><td>null</td><td>null</td><td>null</td><td>&quot;Univerzita Jan…</td><td>&quot;Univerzita Jan…</td><td>&quot;Česká republik…</td><td>2023.0</td><td>2023</td><td>&quot;P0719D110003&quot;</td><td>&quot;Aplikované nan…</td><td>&quot;P&quot;</td><td>&quot;D&quot;</td><td>&quot;D NANO1&quot;</td><td>null</td><td>null</td><td>null</td></tr><tr><td>&quot;PRF&quot;</td><td>1997</td><td>&quot;Česká republik…</td><td>40011</td><td>null</td><td>&quot;Ústí nad Labem…</td><td>null</td><td>&quot;Česká republik…</td><td>&quot;Gymnázium a SO…</td><td>&quot;Česká republik…</td><td>&quot;Ústí nad Labem…</td><td>&quot;7941K41&quot;</td><td>2017</td><td>null</td><td>null</td><td>null</td><td>&quot;Univerzita Jan…</td><td>&quot;Univerzita Jan…</td><td>&quot;Česká republik…</td><td>2023.0</td><td>2023</td><td>&quot;P0719D110003&quot;</td><td>&quot;Aplikované nan…</td><td>&quot;P&quot;</td><td>&quot;D&quot;</td><td>&quot;D NANO2&quot;</td><td>null</td><td>null</td><td>null</td></tr></tbody></table></div>"
      ],
      "text/plain": [
       "shape: (4_814, 29)\n",
       "┌────────────┬─────────┬──────────────┬──────────┬───┬──────────┬─────────┬─────────────┬──────────┐\n",
       "│ FAKULTA_SP ┆ ROK_NAR ┆ STAT_OBCANST ┆ PSC_BYDL ┆ … ┆ PR_NAZEV ┆ PR_OBOR ┆ PR_KOMBINAC ┆ SDRUZENE │\n",
       "│ ---        ┆ ---     ┆ VI           ┆ ---      ┆   ┆ ---      ┆ ---     ┆ E           ┆ ---      │\n",
       "│ str        ┆ i64     ┆ ---          ┆ i64      ┆   ┆ str      ┆ str     ┆ ---         ┆ str      │\n",
       "│            ┆         ┆ str          ┆          ┆   ┆          ┆         ┆ str         ┆          │\n",
       "╞════════════╪═════════╪══════════════╪══════════╪═══╪══════════╪═════════╪═════════════╪══════════╡\n",
       "│ PRF        ┆ 2000    ┆ Česká        ┆ 0        ┆ … ┆ MA AJ1   ┆ null    ┆ MA AJ       ┆ null     │\n",
       "│            ┆         ┆ republika    ┆          ┆   ┆          ┆         ┆             ┆          │\n",
       "│ PRF        ┆ 1999    ┆ Česká        ┆ 0        ┆ … ┆ MA BI1   ┆ null    ┆ MA  BI      ┆ null     │\n",
       "│            ┆         ┆ republika    ┆          ┆   ┆          ┆         ┆             ┆          │\n",
       "│ PRF        ┆ 0       ┆ Česká        ┆ 0        ┆ … ┆ MA BI1   ┆ null    ┆ MA  BI      ┆ null     │\n",
       "│            ┆         ┆ republika    ┆          ┆   ┆          ┆         ┆             ┆          │\n",
       "│ PRF        ┆ 1998    ┆ Česká        ┆ 41705    ┆ … ┆ MA BI1   ┆ null    ┆ MA  BI      ┆ null     │\n",
       "│            ┆         ┆ republika    ┆          ┆   ┆          ┆         ┆             ┆          │\n",
       "│ PRF        ┆ 0       ┆ Česká        ┆ 0        ┆ … ┆ MA GEO1  ┆ null    ┆ MA GEO      ┆ null     │\n",
       "│            ┆         ┆ republika    ┆          ┆   ┆          ┆         ┆             ┆          │\n",
       "│ …          ┆ …       ┆ …            ┆ …        ┆ … ┆ …        ┆ …       ┆ …           ┆ …        │\n",
       "│ PRF        ┆ 1997    ┆ Česká        ┆ 27601    ┆ … ┆ D GEOTR2 ┆ null    ┆ null        ┆ null     │\n",
       "│            ┆         ┆ republika    ┆          ┆   ┆          ┆         ┆             ┆          │\n",
       "│ PRF        ┆ 1997    ┆ Česká        ┆ 41201    ┆ … ┆ D PMVT2  ┆ null    ┆ null        ┆ null     │\n",
       "│            ┆         ┆ republika    ┆          ┆   ┆          ┆         ┆             ┆          │\n",
       "│ PRF        ┆ 1997    ┆ Česká        ┆ 43921    ┆ … ┆ D AIT2   ┆ null    ┆ null        ┆ null     │\n",
       "│            ┆         ┆ republika    ┆          ┆   ┆          ┆         ┆             ┆          │\n",
       "│ PRF        ┆ 1994    ┆ Česká        ┆ 41501    ┆ … ┆ D NANO1  ┆ null    ┆ null        ┆ null     │\n",
       "│            ┆         ┆ republika    ┆          ┆   ┆          ┆         ┆             ┆          │\n",
       "│ PRF        ┆ 1997    ┆ Česká        ┆ 40011    ┆ … ┆ D NANO2  ┆ null    ┆ null        ┆ null     │\n",
       "│            ┆         ┆ republika    ┆          ┆   ┆          ┆         ┆             ┆          │\n",
       "└────────────┴─────────┴──────────────┴──────────┴───┴──────────┴─────────┴─────────────┴──────────┘"
      ]
     },
     "execution_count": 82,
     "metadata": {},
     "output_type": "execute_result"
    }
   ],
   "source": [
    "query = pl.col(\"STAT_OBCANSTVI\").str.contains(\"|\".join([\"Česká republika\", \"Slovenská republika\",\"Ukrajina\", \"Ruská federace\"]))\n",
    "lf.filter(query).collect()"
   ]
  },
  {
   "cell_type": "code",
   "execution_count": 83,
   "metadata": {},
   "outputs": [
    {
     "data": {
      "text/html": [
       "<div><style>\n",
       ".dataframe > thead > tr,\n",
       ".dataframe > tbody > tr {\n",
       "  text-align: right;\n",
       "  white-space: pre-wrap;\n",
       "}\n",
       "</style>\n",
       "<small>shape: (4_932, 29)</small><table border=\"1\" class=\"dataframe\"><thead><tr><th>FAKULTA_SP</th><th>ROK_NAR</th><th>STAT_OBCANSTVI</th><th>PSC_BYDL</th><th>PSC_CIZI</th><th>OBEC_BYDLISTE</th><th>OBEC_CIZI</th><th>STAT_BYDLISTE</th><th>NAZEV_S_SKOLY</th><th>STAT_S_SKOLY</th><th>ADRESA_S_SKOLY</th><th>CIS_OBORU</th><th>MATURITA</th><th>STRED_SKOLA_CIZI</th><th>STRED_SKOLA_CIZI_MISTO</th><th>STRED_SKOLA_CIZI_OBOR</th><th>VS_SKOLA</th><th>NAZEV_VS</th><th>STAT_VS</th><th>VS_ROK_ABSOL</th><th>ROK_PR</th><th>CISP_KOD</th><th>CZ_NAZEV</th><th>FORMA</th><th>TYP</th><th>PR_NAZEV</th><th>PR_OBOR</th><th>PR_KOMBINACE</th><th>SDRUZENE</th></tr><tr><td>str</td><td>i64</td><td>str</td><td>i64</td><td>str</td><td>str</td><td>str</td><td>str</td><td>str</td><td>str</td><td>str</td><td>str</td><td>i64</td><td>str</td><td>str</td><td>str</td><td>str</td><td>str</td><td>str</td><td>f64</td><td>i64</td><td>str</td><td>str</td><td>str</td><td>str</td><td>str</td><td>str</td><td>str</td><td>str</td></tr></thead><tbody><tr><td>&quot;PRF&quot;</td><td>2000</td><td>&quot;Česká republik…</td><td>0</td><td>null</td><td>&quot;nevyplněno&quot;</td><td>null</td><td>&quot;Česká republik…</td><td>&quot;SŠ pedagogická…</td><td>&quot;Česká republik…</td><td>&quot;Litoměřice, Ko…</td><td>&quot;7531M01&quot;</td><td>2019</td><td>null</td><td>null</td><td>null</td><td>null</td><td>null</td><td>null</td><td>null</td><td>2019</td><td>&quot;B1101&quot;</td><td>&quot;Matematika&quot;</td><td>&quot;P&quot;</td><td>&quot;B&quot;</td><td>&quot;MA AJ1&quot;</td><td>null</td><td>&quot;MA AJ&quot;</td><td>null</td></tr><tr><td>&quot;PRF&quot;</td><td>1999</td><td>&quot;Česká republik…</td><td>0</td><td>null</td><td>&quot;nevyplněno&quot;</td><td>null</td><td>&quot;Česká republik…</td><td>&quot;Gymnázium&quot;</td><td>&quot;Česká republik…</td><td>&quot;Roudnice nad L…</td><td>&quot;7941K41&quot;</td><td>2018</td><td>null</td><td>null</td><td>null</td><td>null</td><td>null</td><td>null</td><td>2021.0</td><td>2019</td><td>&quot;B1101&quot;</td><td>&quot;Matematika&quot;</td><td>&quot;P&quot;</td><td>&quot;B&quot;</td><td>&quot;MA BI1&quot;</td><td>null</td><td>&quot;MA  BI&quot;</td><td>null</td></tr><tr><td>&quot;PRF&quot;</td><td>0</td><td>&quot;Česká republik…</td><td>0</td><td>null</td><td>&quot;nevyplněno&quot;</td><td>null</td><td>&quot;Česká republik…</td><td>&quot;První české gy…</td><td>&quot;Česká republik…</td><td>&quot;Karlovy Vary, …</td><td>&quot;7941K41&quot;</td><td>2019</td><td>null</td><td>null</td><td>null</td><td>null</td><td>null</td><td>null</td><td>null</td><td>2019</td><td>&quot;B1101&quot;</td><td>&quot;Matematika&quot;</td><td>&quot;P&quot;</td><td>&quot;B&quot;</td><td>&quot;MA BI1&quot;</td><td>null</td><td>&quot;MA  BI&quot;</td><td>null</td></tr><tr><td>&quot;PRF&quot;</td><td>1998</td><td>&quot;Česká republik…</td><td>41705</td><td>null</td><td>&quot;Osek&quot;</td><td>null</td><td>&quot;Česká republik…</td><td>&quot;Gymnázium T. G…</td><td>&quot;Česká republik…</td><td>&quot;Litvínov, Stud…</td><td>&quot;7941K41&quot;</td><td>2018</td><td>null</td><td>null</td><td>null</td><td>null</td><td>null</td><td>null</td><td>null</td><td>2019</td><td>&quot;B1101&quot;</td><td>&quot;Matematika&quot;</td><td>&quot;P&quot;</td><td>&quot;B&quot;</td><td>&quot;MA BI1&quot;</td><td>null</td><td>&quot;MA  BI&quot;</td><td>null</td></tr><tr><td>&quot;PRF&quot;</td><td>0</td><td>&quot;Česká republik…</td><td>0</td><td>null</td><td>&quot;nevyplněno&quot;</td><td>null</td><td>&quot;Česká republik…</td><td>&quot;ZŠ T. G. Masar…</td><td>&quot;Česká republik…</td><td>&quot;Česká Kamenice…</td><td>&quot;7941K81&quot;</td><td>2018</td><td>null</td><td>null</td><td>null</td><td>null</td><td>null</td><td>null</td><td>null</td><td>2019</td><td>&quot;B1101&quot;</td><td>&quot;Matematika&quot;</td><td>&quot;P&quot;</td><td>&quot;B&quot;</td><td>&quot;MA GEO1&quot;</td><td>null</td><td>&quot;MA GEO&quot;</td><td>null</td></tr><tr><td>&quot;PRF&quot;</td><td>2000</td><td>&quot;Česká republik…</td><td>40001</td><td>null</td><td>&quot;Ústí nad Labem…</td><td>null</td><td>&quot;Česká republik…</td><td>&quot;Gymnázium&quot;</td><td>&quot;Česká republik…</td><td>&quot;Ústí nad Labem…</td><td>&quot;7941K41&quot;</td><td>2019</td><td>null</td><td>null</td><td>null</td><td>&quot;Univerzita Jan…</td><td>&quot;Univerzita Jan…</td><td>&quot;Česká republik…</td><td>2023.0</td><td>2019</td><td>&quot;B1101&quot;</td><td>&quot;Matematika&quot;</td><td>&quot;P&quot;</td><td>&quot;B&quot;</td><td>&quot;MA GEO1&quot;</td><td>null</td><td>&quot;MA GEO&quot;</td><td>null</td></tr><tr><td>&quot;PRF&quot;</td><td>0</td><td>&quot;Česká republik…</td><td>0</td><td>null</td><td>&quot;nevyplněno&quot;</td><td>null</td><td>&quot;Česká republik…</td><td>&quot;Gymnázium&quot;</td><td>&quot;Česká republik…</td><td>&quot;Děčín, Komensk…</td><td>&quot;7941K81&quot;</td><td>2018</td><td>null</td><td>null</td><td>null</td><td>&quot;UNIVERZITA KAR…</td><td>&quot;UNIVERZITA KAR…</td><td>&quot;Česká republik…</td><td>null</td><td>2019</td><td>&quot;B1101&quot;</td><td>&quot;Matematika&quot;</td><td>&quot;P&quot;</td><td>&quot;B&quot;</td><td>&quot;MA GEO1&quot;</td><td>null</td><td>&quot;MA GEO&quot;</td><td>null</td></tr><tr><td>&quot;PRF&quot;</td><td>1999</td><td>&quot;Česká republik…</td><td>0</td><td>null</td><td>&quot;nevyplněno&quot;</td><td>null</td><td>&quot;Česká republik…</td><td>&quot;Podkrušnohorsk…</td><td>&quot;Česká republik…</td><td>&quot;Most, Čsl. arm…</td><td>&quot;7941K401&quot;</td><td>2019</td><td>null</td><td>null</td><td>null</td><td>&quot;Univerzita Jan…</td><td>&quot;Univerzita Jan…</td><td>&quot;Česká republik…</td><td>2021.0</td><td>2019</td><td>&quot;B1101&quot;</td><td>&quot;Matematika&quot;</td><td>&quot;P&quot;</td><td>&quot;B&quot;</td><td>&quot;MA GEO1&quot;</td><td>null</td><td>&quot;MA GEO&quot;</td><td>null</td></tr><tr><td>&quot;PRF&quot;</td><td>0</td><td>&quot;Česká republik…</td><td>0</td><td>null</td><td>&quot;nevyplněno&quot;</td><td>null</td><td>&quot;Česká republik…</td><td>&quot;Gymnázium&quot;</td><td>&quot;Česká republik…</td><td>&quot;Děčín, Komensk…</td><td>&quot;7941K81&quot;</td><td>2019</td><td>null</td><td>null</td><td>null</td><td>null</td><td>null</td><td>null</td><td>null</td><td>2019</td><td>&quot;B1101&quot;</td><td>&quot;Matematika&quot;</td><td>&quot;P&quot;</td><td>&quot;B&quot;</td><td>&quot;MA GEO1&quot;</td><td>null</td><td>&quot;MA GEO&quot;</td><td>null</td></tr><tr><td>&quot;PRF&quot;</td><td>2000</td><td>&quot;Česká republik…</td><td>41752</td><td>null</td><td>&quot;Hostomice&quot;</td><td>null</td><td>&quot;Česká republik…</td><td>&quot;VOŠ zdravotnic…</td><td>&quot;Česká republik…</td><td>&quot;Ústí nad Labem…</td><td>&quot;7842M04&quot;</td><td>2019</td><td>null</td><td>null</td><td>null</td><td>&quot;Univerzita Jan…</td><td>&quot;Univerzita Jan…</td><td>&quot;Česká republik…</td><td>2023.0</td><td>2019</td><td>&quot;B1101&quot;</td><td>&quot;Matematika&quot;</td><td>&quot;P&quot;</td><td>&quot;B&quot;</td><td>&quot;MA GEO2&quot;</td><td>null</td><td>&quot;MA GEO&quot;</td><td>null</td></tr><tr><td>&quot;PRF&quot;</td><td>0</td><td>&quot;Česká republik…</td><td>0</td><td>null</td><td>&quot;nevyplněno&quot;</td><td>null</td><td>&quot;Česká republik…</td><td>&quot;VOŠ zdravotnic…</td><td>&quot;Česká republik…</td><td>&quot;Ústí nad Labem…</td><td>&quot;7842M04&quot;</td><td>2019</td><td>null</td><td>null</td><td>null</td><td>null</td><td>null</td><td>null</td><td>null</td><td>2019</td><td>&quot;B1101&quot;</td><td>&quot;Matematika&quot;</td><td>&quot;P&quot;</td><td>&quot;B&quot;</td><td>&quot;MA GEO2&quot;</td><td>null</td><td>&quot;MA GEO&quot;</td><td>null</td></tr><tr><td>&quot;PRF&quot;</td><td>1999</td><td>&quot;Česká republik…</td><td>0</td><td>null</td><td>&quot;nevyplněno&quot;</td><td>null</td><td>&quot;Česká republik…</td><td>&quot;Gymnázium&quot;</td><td>&quot;Česká republik…</td><td>&quot;Teplice, Čs. d…</td><td>&quot;7941K41&quot;</td><td>2018</td><td>null</td><td>null</td><td>null</td><td>&quot;Univerzita Jan…</td><td>&quot;Univerzita Jan…</td><td>&quot;Česká republik…</td><td>2021.0</td><td>2019</td><td>&quot;B1101&quot;</td><td>&quot;Matematika&quot;</td><td>&quot;P&quot;</td><td>&quot;B&quot;</td><td>&quot;MA GEO2&quot;</td><td>null</td><td>&quot;MA GEO&quot;</td><td>null</td></tr><tr><td>&hellip;</td><td>&hellip;</td><td>&hellip;</td><td>&hellip;</td><td>&hellip;</td><td>&hellip;</td><td>&hellip;</td><td>&hellip;</td><td>&hellip;</td><td>&hellip;</td><td>&hellip;</td><td>&hellip;</td><td>&hellip;</td><td>&hellip;</td><td>&hellip;</td><td>&hellip;</td><td>&hellip;</td><td>&hellip;</td><td>&hellip;</td><td>&hellip;</td><td>&hellip;</td><td>&hellip;</td><td>&hellip;</td><td>&hellip;</td><td>&hellip;</td><td>&hellip;</td><td>&hellip;</td><td>&hellip;</td><td>&hellip;</td></tr><tr><td>&quot;PRF&quot;</td><td>2000</td><td>&quot;Česká republik…</td><td>40011</td><td>null</td><td>&quot;Ústí nad Labem…</td><td>null</td><td>&quot;Česká republik…</td><td>&quot;Střední průmys…</td><td>&quot;Česká republik…</td><td>&quot;Ústí nad Labem…</td><td>&quot;1820M01&quot;</td><td>2019</td><td>null</td><td>null</td><td>null</td><td>null</td><td>&quot;Univerzita Jan…</td><td>&quot;Česká republik…</td><td>2023.0</td><td>2023</td><td>&quot;N0613P140003&quot;</td><td>&quot;Aplikovaná inf…</td><td>&quot;P&quot;</td><td>&quot;N&quot;</td><td>&quot;N API2&quot;</td><td>null</td><td>null</td><td>null</td></tr><tr><td>&quot;PRF&quot;</td><td>2000</td><td>&quot;Česká republik…</td><td>35601</td><td>null</td><td>&quot;Sokolov&quot;</td><td>null</td><td>&quot;Česká republik…</td><td>&quot;ISŠ technická …</td><td>&quot;Česká republik…</td><td>&quot;Sokolov, Jedno…</td><td>&quot;1820M01&quot;</td><td>2019</td><td>null</td><td>null</td><td>null</td><td>&quot;UNIVERZITA JAN…</td><td>&quot;UNIVERZITA JAN…</td><td>&quot;Česká republik…</td><td>2023.0</td><td>2023</td><td>&quot;N0613P140003&quot;</td><td>&quot;Aplikovaná inf…</td><td>&quot;P&quot;</td><td>&quot;N&quot;</td><td>&quot;N API2&quot;</td><td>null</td><td>null</td><td>null</td></tr><tr><td>&quot;PRF&quot;</td><td>1999</td><td>&quot;Česká republik…</td><td>62500</td><td>null</td><td>&quot;Brno&quot;</td><td>null</td><td>&quot;Česká republik…</td><td>&quot;gymnázia&quot;</td><td>&quot;Česká republik…</td><td>null</td><td>&quot;7941K61&quot;</td><td>2018</td><td>null</td><td>null</td><td>null</td><td>&quot;MASARYKOVA UNI…</td><td>&quot;MASARYKOVA UNI…</td><td>&quot;Česká republik…</td><td>2023.0</td><td>2023</td><td>&quot;N0613P140003&quot;</td><td>&quot;Aplikovaná inf…</td><td>&quot;P&quot;</td><td>&quot;N&quot;</td><td>&quot;N API2&quot;</td><td>null</td><td>null</td><td>null</td></tr><tr><td>&quot;PRF&quot;</td><td>1999</td><td>&quot;Česká republik…</td><td>40001</td><td>null</td><td>&quot;Ústí nad Labem…</td><td>null</td><td>&quot;Česká republik…</td><td>&quot;Gymnázium&quot;</td><td>&quot;Česká republik…</td><td>&quot;Ústí nad Labem…</td><td>&quot;7941K41&quot;</td><td>2019</td><td>null</td><td>null</td><td>null</td><td>&quot;Univerzita Jan…</td><td>&quot;Univerzita Jan…</td><td>&quot;Česká republik…</td><td>2023.0</td><td>2023</td><td>&quot;N0719A110004&quot;</td><td>&quot;Aplikované nan…</td><td>&quot;P&quot;</td><td>&quot;N&quot;</td><td>&quot;N NANO1&quot;</td><td>null</td><td>null</td><td>null</td></tr><tr><td>&quot;PRF&quot;</td><td>1999</td><td>&quot;Slovenská repu…</td><td>0</td><td>&quot;06601&quot;</td><td>&quot;nevyplněno&quot;</td><td>&quot;Humenné&quot;</td><td>&quot;Slovenská repu…</td><td>&quot;Zahraniční ško…</td><td>&quot;Slovenská repu…</td><td>null</td><td>null</td><td>2018</td><td>null</td><td>null</td><td>null</td><td>&quot;České vysoké u…</td><td>&quot;CESKÉ VYSOKÉ U…</td><td>&quot;Česká republik…</td><td>2023.0</td><td>2023</td><td>&quot;N0719A110004&quot;</td><td>&quot;Aplikované nan…</td><td>&quot;P&quot;</td><td>&quot;N&quot;</td><td>&quot;N NANO1&quot;</td><td>null</td><td>null</td><td>null</td></tr><tr><td>&quot;PRF&quot;</td><td>2001</td><td>&quot;Česká republik…</td><td>43201</td><td>null</td><td>&quot;Kadaň&quot;</td><td>null</td><td>&quot;Česká republik…</td><td>&quot;Gymnázium&quot;</td><td>&quot;Česká republik…</td><td>&quot;Kadaň, 5. květ…</td><td>&quot;7941K41&quot;</td><td>2020</td><td>null</td><td>null</td><td>null</td><td>&quot;Univerzita Jan…</td><td>&quot;Univerzita Jan…</td><td>&quot;Česká republik…</td><td>2023.0</td><td>2023</td><td>&quot;N0719A110004&quot;</td><td>&quot;Aplikované nan…</td><td>&quot;P&quot;</td><td>&quot;N&quot;</td><td>&quot;N NANO2&quot;</td><td>null</td><td>null</td><td>null</td></tr><tr><td>&quot;PRF&quot;</td><td>1999</td><td>&quot;Česká republik…</td><td>29001</td><td>null</td><td>&quot;Poděbrady&quot;</td><td>null</td><td>&quot;Česká republik…</td><td>&quot;Gymnázium&quot;</td><td>&quot;Česká republik…</td><td>&quot;Trutnov, Jirás…</td><td>null</td><td>2018</td><td>null</td><td>null</td><td>null</td><td>&quot;UNIVERZITA PAR…</td><td>&quot;UNIVERZITA PAR…</td><td>&quot;Česká republik…</td><td>2021.0</td><td>2023</td><td>&quot;N0719A110004&quot;</td><td>&quot;Aplikované nan…</td><td>&quot;P&quot;</td><td>&quot;N&quot;</td><td>&quot;N NANO2&quot;</td><td>null</td><td>null</td><td>null</td></tr><tr><td>&quot;PRF&quot;</td><td>1997</td><td>&quot;Česká republik…</td><td>27601</td><td>null</td><td>&quot;Mělník&quot;</td><td>null</td><td>&quot;Česká republik…</td><td>&quot;Gymnázium Jana…</td><td>&quot;Česká republik…</td><td>&quot;Mělník, Pod Vr…</td><td>&quot;7941K41&quot;</td><td>2017</td><td>null</td><td>null</td><td>null</td><td>&quot;Univerzita Jan…</td><td>&quot;Univerzita Jan…</td><td>&quot;Česká republik…</td><td>2023.0</td><td>2023</td><td>&quot;P0532D330032&quot;</td><td>&quot;Geographies of…</td><td>&quot;P&quot;</td><td>&quot;D&quot;</td><td>&quot;D GEOTR2&quot;</td><td>null</td><td>null</td><td>null</td></tr><tr><td>&quot;PRF&quot;</td><td>1997</td><td>&quot;Česká republik…</td><td>41201</td><td>null</td><td>&quot;Litoměřice&quot;</td><td>null</td><td>&quot;Česká republik…</td><td>&quot;Gymnázium Jose…</td><td>&quot;Česká republik…</td><td>&quot;Litoměřice, Sv…</td><td>&quot;7941K41&quot;</td><td>2016</td><td>null</td><td>null</td><td>null</td><td>&quot;Univerzita Jan…</td><td>&quot;Univerzita Jan…</td><td>&quot;Česká republik…</td><td>2023.0</td><td>2023</td><td>&quot;P0533D110037&quot;</td><td>&quot;Počítačové mod…</td><td>&quot;P&quot;</td><td>&quot;D&quot;</td><td>&quot;D PMVT2&quot;</td><td>null</td><td>null</td><td>null</td></tr><tr><td>&quot;PRF&quot;</td><td>1997</td><td>&quot;Česká republik…</td><td>43921</td><td>null</td><td>&quot;Koštice&quot;</td><td>null</td><td>&quot;Česká republik…</td><td>&quot;Gymnázium&quot;</td><td>&quot;Česká republik…</td><td>&quot;Lovosice, Sady…</td><td>&quot;7941K41&quot;</td><td>2017</td><td>null</td><td>null</td><td>null</td><td>&quot;Univerzita Jan…</td><td>&quot;Univerzita Jan…</td><td>&quot;Česká republik…</td><td>2023.0</td><td>2023</td><td>&quot;P0533D110049&quot;</td><td>&quot;Aplikované ion…</td><td>&quot;P&quot;</td><td>&quot;D&quot;</td><td>&quot;D AIT2&quot;</td><td>null</td><td>null</td><td>null</td></tr><tr><td>&quot;PRF&quot;</td><td>1994</td><td>&quot;Česká republik…</td><td>41501</td><td>null</td><td>&quot;Teplice&quot;</td><td>null</td><td>&quot;Česká republik…</td><td>&quot;Gymnázium&quot;</td><td>&quot;Česká republik…</td><td>&quot;Teplice, Čs. d…</td><td>&quot;7941K41&quot;</td><td>2013</td><td>null</td><td>null</td><td>null</td><td>&quot;Univerzita Jan…</td><td>&quot;Univerzita Jan…</td><td>&quot;Česká republik…</td><td>2023.0</td><td>2023</td><td>&quot;P0719D110003&quot;</td><td>&quot;Aplikované nan…</td><td>&quot;P&quot;</td><td>&quot;D&quot;</td><td>&quot;D NANO1&quot;</td><td>null</td><td>null</td><td>null</td></tr><tr><td>&quot;PRF&quot;</td><td>1997</td><td>&quot;Česká republik…</td><td>40011</td><td>null</td><td>&quot;Ústí nad Labem…</td><td>null</td><td>&quot;Česká republik…</td><td>&quot;Gymnázium a SO…</td><td>&quot;Česká republik…</td><td>&quot;Ústí nad Labem…</td><td>&quot;7941K41&quot;</td><td>2017</td><td>null</td><td>null</td><td>null</td><td>&quot;Univerzita Jan…</td><td>&quot;Univerzita Jan…</td><td>&quot;Česká republik…</td><td>2023.0</td><td>2023</td><td>&quot;P0719D110003&quot;</td><td>&quot;Aplikované nan…</td><td>&quot;P&quot;</td><td>&quot;D&quot;</td><td>&quot;D NANO2&quot;</td><td>null</td><td>null</td><td>null</td></tr></tbody></table></div>"
      ],
      "text/plain": [
       "shape: (4_932, 29)\n",
       "┌────────────┬─────────┬──────────────┬──────────┬───┬──────────┬─────────┬─────────────┬──────────┐\n",
       "│ FAKULTA_SP ┆ ROK_NAR ┆ STAT_OBCANST ┆ PSC_BYDL ┆ … ┆ PR_NAZEV ┆ PR_OBOR ┆ PR_KOMBINAC ┆ SDRUZENE │\n",
       "│ ---        ┆ ---     ┆ VI           ┆ ---      ┆   ┆ ---      ┆ ---     ┆ E           ┆ ---      │\n",
       "│ str        ┆ i64     ┆ ---          ┆ i64      ┆   ┆ str      ┆ str     ┆ ---         ┆ str      │\n",
       "│            ┆         ┆ str          ┆          ┆   ┆          ┆         ┆ str         ┆          │\n",
       "╞════════════╪═════════╪══════════════╪══════════╪═══╪══════════╪═════════╪═════════════╪══════════╡\n",
       "│ PRF        ┆ 2000    ┆ Česká        ┆ 0        ┆ … ┆ MA AJ1   ┆ null    ┆ MA AJ       ┆ null     │\n",
       "│            ┆         ┆ republika    ┆          ┆   ┆          ┆         ┆             ┆          │\n",
       "│ PRF        ┆ 1999    ┆ Česká        ┆ 0        ┆ … ┆ MA BI1   ┆ null    ┆ MA  BI      ┆ null     │\n",
       "│            ┆         ┆ republika    ┆          ┆   ┆          ┆         ┆             ┆          │\n",
       "│ PRF        ┆ 0       ┆ Česká        ┆ 0        ┆ … ┆ MA BI1   ┆ null    ┆ MA  BI      ┆ null     │\n",
       "│            ┆         ┆ republika    ┆          ┆   ┆          ┆         ┆             ┆          │\n",
       "│ PRF        ┆ 1998    ┆ Česká        ┆ 41705    ┆ … ┆ MA BI1   ┆ null    ┆ MA  BI      ┆ null     │\n",
       "│            ┆         ┆ republika    ┆          ┆   ┆          ┆         ┆             ┆          │\n",
       "│ PRF        ┆ 0       ┆ Česká        ┆ 0        ┆ … ┆ MA GEO1  ┆ null    ┆ MA GEO      ┆ null     │\n",
       "│            ┆         ┆ republika    ┆          ┆   ┆          ┆         ┆             ┆          │\n",
       "│ …          ┆ …       ┆ …            ┆ …        ┆ … ┆ …        ┆ …       ┆ …           ┆ …        │\n",
       "│ PRF        ┆ 1997    ┆ Česká        ┆ 27601    ┆ … ┆ D GEOTR2 ┆ null    ┆ null        ┆ null     │\n",
       "│            ┆         ┆ republika    ┆          ┆   ┆          ┆         ┆             ┆          │\n",
       "│ PRF        ┆ 1997    ┆ Česká        ┆ 41201    ┆ … ┆ D PMVT2  ┆ null    ┆ null        ┆ null     │\n",
       "│            ┆         ┆ republika    ┆          ┆   ┆          ┆         ┆             ┆          │\n",
       "│ PRF        ┆ 1997    ┆ Česká        ┆ 43921    ┆ … ┆ D AIT2   ┆ null    ┆ null        ┆ null     │\n",
       "│            ┆         ┆ republika    ┆          ┆   ┆          ┆         ┆             ┆          │\n",
       "│ PRF        ┆ 1994    ┆ Česká        ┆ 41501    ┆ … ┆ D NANO1  ┆ null    ┆ null        ┆ null     │\n",
       "│            ┆         ┆ republika    ┆          ┆   ┆          ┆         ┆             ┆          │\n",
       "│ PRF        ┆ 1997    ┆ Česká        ┆ 40011    ┆ … ┆ D NANO2  ┆ null    ┆ null        ┆ null     │\n",
       "│            ┆         ┆ republika    ┆          ┆   ┆          ┆         ┆             ┆          │\n",
       "└────────────┴─────────┴──────────────┴──────────┴───┴──────────┴─────────┴─────────────┴──────────┘"
      ]
     },
     "execution_count": 83,
     "metadata": {},
     "output_type": "execute_result"
    }
   ],
   "source": [
    "# pdf = lf.with_columns(pl.col(\"STAT_OBCANSTVI\")).filter(pl.col(\"STAT_OBCANSTVI\") == \"Ostatní\").collect().to_pandas()\n",
    "pdf = lf.with_columns(pl.col(\"STAT_OBCANSTVI\")).collect()\n",
    "pdf"
   ]
  },
  {
   "cell_type": "code",
   "execution_count": 84,
   "metadata": {},
   "outputs": [
    {
     "data": {
      "text/plain": [
       "'Vietnamská socialistická republika,Chorvatská republika,Kyrgyzská republika,Česká republika,Spolková republika Německo,Republika Kazachstán,Indonéská republika,Libanonská republika,Ruská federace,Afghánská islámská republika,Slovenská republika,Běloruská republika,Peruánská republika,Korejská republika,Republika Uzbekistán,Íránská islámská republika,Ostatní,Namibijská republika,Maďarsko,Arménská republika,Egyptská arabská republika,Jemenská republika,Stát Izrael,Moldavská republika,Ukrajina,Ázerbájdžánská republika,Bulharská republika'"
      ]
     },
     "execution_count": 84,
     "metadata": {},
     "output_type": "execute_result"
    }
   ],
   "source": [
    "dataset_countrynames = pdf.select(\"STAT_OBCANSTVI\").unique().to_dict()[\"STAT_OBCANSTVI\"]\n",
    "\",\".join(list(dataset_countrynames))\n",
    "# dataset_countrynames = list(dataset_countrynames)"
   ]
  },
  {
   "cell_type": "code",
   "execution_count": 91,
   "metadata": {},
   "outputs": [],
   "source": [
    "\n",
    "import pandas as pd\n",
    "\n",
    "filepath = \"data/official_country_names.csv\"\n",
    "url = \"https://raw.githubusercontent.com/datasets/country-codes/master/data/country-codes.csv\"\n",
    "try:\n",
    "    official_country_names_df = pd.read_csv(url)\n",
    "except Exception as e:\n",
    "    official_country_names_df = pd.read_csv(filepath)\n",
    "official_country_names_df = pl.from_pandas(official_country_names_df)\n",
    "official_country_names_df.write_csv(filepath)\n",
    "official_country_names = official_country_names_df.select(\"official_name_en\").to_dict()[\"official_name_en\"].drop_nulls()\n",
    "type(official_country_names)\n",
    "\",\".join(official_country_names.to_list())\n",
    "official_country_names = official_country_names.to_list()"
   ]
  },
  {
   "cell_type": "code",
   "execution_count": 90,
   "metadata": {},
   "outputs": [
    {
     "name": "stdout",
     "output_type": "stream",
     "text": [
      "{'Stát Izrael': 'Israel', 'Vietnamská socialistická republika': 'Viet Nam', 'Kyrgyzská republika': 'Kyrgyzstan', 'Moldavská republika': 'Republic of Moldova', 'Arménská republika': 'Armenia', 'Republika Uzbekistán': 'Uzbekistan', 'Namibijská republika': 'Namibia', 'Íránská islámská republika': 'Iran (Islamic Republic of)', 'Spolková republika Německo': 'Germany', 'Bulharská republika': 'Bulgaria', 'Ruská federace': 'Russian Federation', 'Ukrajina': 'Ukraine', 'Indonéská republika': 'Indonesia', 'Peruánská republika': 'Peru', 'Jemenská republika': 'Yemen', 'Ázerbájdžánská republika': 'Azerbaijan', 'Chorvatská republika': 'Croatia', 'Republika Kazachstán': 'Kazakhstan', 'Afghánská islámská republika': 'Afghanistan', 'Česká republika': 'Czechia', 'Korejská republika': 'Republic of Korea', 'Maďarsko': 'Hungary', 'Libanonská republika': 'Lebanon', 'Ostatní': None, 'Běloruská republika': 'Belarus', 'Egyptská arabská republika': 'Egypt', 'Slovenská republika': 'Slovakia'}\n"
     ]
    }
   ],
   "source": [
    "mapping = {\n",
    "    'Stát Izrael': 'Israel',\n",
    "    'Vietnamská socialistická republika': 'Viet Nam',\n",
    "    'Kyrgyzská republika': 'Kyrgyzstan',\n",
    "    'Moldavská republika': 'Republic of Moldova',\n",
    "    'Arménská republika': 'Armenia',\n",
    "    'Republika Uzbekistán': 'Uzbekistan',\n",
    "    'Namibijská republika': 'Namibia',\n",
    "    'Íránská islámská republika': 'Iran (Islamic Republic of)',\n",
    "    'Spolková republika Německo': 'Germany',\n",
    "    'Bulharská republika': 'Bulgaria',\n",
    "    'Ruská federace': 'Russian Federation',\n",
    "    'Ukrajina': 'Ukraine',\n",
    "    'Indonéská republika': 'Indonesia',\n",
    "    'Peruánská republika': 'Peru',\n",
    "    'Jemenská republika': 'Yemen',\n",
    "    'Ázerbájdžánská republika': 'Azerbaijan',\n",
    "    'Chorvatská republika': 'Croatia',\n",
    "    'Republika Kazachstán': 'Kazakhstan',\n",
    "    'Afghánská islámská republika': 'Afghanistan',\n",
    "    'Česká republika': 'Czechia',\n",
    "    'Korejská republika': 'Republic of Korea',\n",
    "    'Maďarsko': 'Hungary',\n",
    "    'Libanonská republika': 'Lebanon',\n",
    "    'Ostatní': None,\n",
    "    'Běloruská republika': 'Belarus',\n",
    "    'Egyptská arabská republika': 'Egypt',\n",
    "    'Slovenská republika': 'Slovakia',\n",
    "}\n",
    "for k, v in mapping.items():\n",
    "    assert k in dataset_countrynames, f\"{k} not in dataset_countrynames\"\n",
    "    assert v is None or v in official_country_names, f\"{v} not in official_country_names\"\n",
    "\n",
    "# Print the dictionary to confirm the mapping\n",
    "print(mapping)\n"
   ]
  },
  {
   "cell_type": "code",
   "execution_count": null,
   "metadata": {},
   "outputs": [],
   "source": []
  }
 ],
 "metadata": {
  "kernelspec": {
   "display_name": "pas-OATAXOQU-py3.10",
   "language": "python",
   "name": "python3"
  },
  "language_info": {
   "codemirror_mode": {
    "name": "ipython",
    "version": 3
   },
   "file_extension": ".py",
   "mimetype": "text/x-python",
   "name": "python",
   "nbconvert_exporter": "python",
   "pygments_lexer": "ipython3",
   "version": "3.10.13"
  }
 },
 "nbformat": 4,
 "nbformat_minor": 2
}
