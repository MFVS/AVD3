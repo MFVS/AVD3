{
 "cells": [
  {
   "cell_type": "code",
   "execution_count": 1,
   "metadata": {},
   "outputs": [
    {
     "name": "stdout",
     "output_type": "stream",
     "text": [
      "Requirement already satisfied: pandas in /home/nexovec/.cache/pypoetry/virtualenvs/avd3-ATxpilUJ-py3.10/lib/python3.10/site-packages (2.1.2)\n",
      "Collecting polars[all]\n",
      "  Downloading polars-0.19.16-cp38-abi3-manylinux_2_17_x86_64.manylinux2014_x86_64.whl.metadata (14 kB)\n",
      "Requirement already satisfied: numpy<2,>=1.22.4 in /home/nexovec/.cache/pypoetry/virtualenvs/avd3-ATxpilUJ-py3.10/lib/python3.10/site-packages (from pandas) (1.26.1)\n",
      "Requirement already satisfied: python-dateutil>=2.8.2 in /home/nexovec/.cache/pypoetry/virtualenvs/avd3-ATxpilUJ-py3.10/lib/python3.10/site-packages (from pandas) (2.8.2)\n",
      "Requirement already satisfied: pytz>=2020.1 in /home/nexovec/.cache/pypoetry/virtualenvs/avd3-ATxpilUJ-py3.10/lib/python3.10/site-packages (from pandas) (2023.3.post1)\n",
      "Requirement already satisfied: tzdata>=2022.1 in /home/nexovec/.cache/pypoetry/virtualenvs/avd3-ATxpilUJ-py3.10/lib/python3.10/site-packages (from pandas) (2023.3)\n",
      "Requirement already satisfied: six>=1.5 in /home/nexovec/.cache/pypoetry/virtualenvs/avd3-ATxpilUJ-py3.10/lib/python3.10/site-packages (from python-dateutil>=2.8.2->pandas) (1.16.0)\n",
      "Collecting pyiceberg>=0.5.0 (from polars[all])\n",
      "  Downloading pyiceberg-0.5.1-cp310-cp310-manylinux_2_17_x86_64.manylinux2014_x86_64.whl.metadata (3.6 kB)\n",
      "Collecting gevent (from polars[all])\n",
      "  Downloading gevent-23.9.1-cp310-cp310-manylinux_2_28_x86_64.whl.metadata (13 kB)\n",
      "Collecting sqlalchemy (from polars[all])\n",
      "  Downloading SQLAlchemy-2.0.23-cp310-cp310-manylinux_2_17_x86_64.manylinux2014_x86_64.whl.metadata (9.6 kB)\n",
      "Collecting pyarrow>=7.0.0 (from polars[all])\n",
      "  Downloading pyarrow-14.0.1-cp310-cp310-manylinux_2_28_x86_64.whl.metadata (3.0 kB)\n",
      "Collecting xlsx2csv>=0.8.0 (from polars[all])\n",
      "  Downloading xlsx2csv-0.8.1-py3-none-any.whl (13 kB)\n",
      "Collecting cloudpickle (from polars[all])\n",
      "  Downloading cloudpickle-3.0.0-py3-none-any.whl.metadata (7.0 kB)\n",
      "Collecting matplotlib (from polars[all])\n",
      "  Downloading matplotlib-3.8.2-cp310-cp310-manylinux_2_17_x86_64.manylinux2014_x86_64.whl.metadata (5.8 kB)\n",
      "Collecting xlsxwriter (from polars[all])\n",
      "  Downloading XlsxWriter-3.1.9-py3-none-any.whl.metadata (2.6 kB)\n",
      "Collecting connectorx>=0.3.2 (from polars[all])\n",
      "  Downloading connectorx-0.3.2-cp310-cp310-manylinux_2_28_x86_64.whl.metadata (8.7 kB)\n",
      "Collecting pydantic (from polars[all])\n",
      "  Downloading pydantic-2.5.2-py3-none-any.whl.metadata (65 kB)\n",
      "\u001b[2K     \u001b[90m━━━━━━━━━━━━━━━━━━━━━━━━━━━━━━━━━━━━━━━━\u001b[0m \u001b[32m65.2/65.2 kB\u001b[0m \u001b[31m2.8 MB/s\u001b[0m eta \u001b[36m0:00:00\u001b[0m\n",
      "\u001b[?25hCollecting adbc_driver_sqlite (from polars[all])\n",
      "  Downloading adbc_driver_sqlite-0.8.0-py3-none-manylinux_2_17_x86_64.manylinux2014_x86_64.whl.metadata (2.9 kB)\n",
      "Collecting deltalake>=0.13.0 (from polars[all])\n",
      "  Downloading deltalake-0.13.0-cp37-abi3-manylinux_2_17_x86_64.manylinux2014_x86_64.whl.metadata (5.0 kB)\n",
      "Collecting fsspec (from polars[all])\n",
      "  Downloading fsspec-2023.10.0-py3-none-any.whl.metadata (6.8 kB)\n",
      "Collecting click<9.0.0,>=7.1.1 (from pyiceberg>=0.5.0->polars[all])\n",
      "  Downloading click-8.1.7-py3-none-any.whl.metadata (3.0 kB)\n",
      "Collecting mmhash3<4.0.0,>=3.0.0 (from pyiceberg>=0.5.0->polars[all])\n",
      "  Downloading mmhash3-3.0.1-cp310-cp310-manylinux_2_5_x86_64.manylinux1_x86_64.manylinux_2_17_x86_64.manylinux2014_x86_64.whl (38 kB)\n",
      "Collecting pyparsing<4.0.0,>=3.1.0 (from pyiceberg>=0.5.0->polars[all])\n",
      "  Downloading pyparsing-3.1.1-py3-none-any.whl.metadata (5.1 kB)\n",
      "Requirement already satisfied: requests<3.0.0,>=2.20.0 in /home/nexovec/.cache/pypoetry/virtualenvs/avd3-ATxpilUJ-py3.10/lib/python3.10/site-packages (from pyiceberg>=0.5.0->polars[all]) (2.31.0)\n",
      "Collecting rich<14.0.0,>=10.11.0 (from pyiceberg>=0.5.0->polars[all])\n",
      "  Downloading rich-13.7.0-py3-none-any.whl.metadata (18 kB)\n",
      "Collecting sortedcontainers==2.4.0 (from pyiceberg>=0.5.0->polars[all])\n",
      "  Downloading sortedcontainers-2.4.0-py2.py3-none-any.whl (29 kB)\n",
      "Collecting strictyaml<2.0.0,>=1.7.0 (from pyiceberg>=0.5.0->polars[all])\n",
      "  Downloading strictyaml-1.7.3-py3-none-any.whl (123 kB)\n",
      "\u001b[2K     \u001b[90m━━━━━━━━━━━━━━━━━━━━━━━━━━━━━━━━━━━━━━━\u001b[0m \u001b[32m123.9/123.9 kB\u001b[0m \u001b[31m2.8 MB/s\u001b[0m eta \u001b[36m0:00:00\u001b[0ma \u001b[36m0:00:01\u001b[0m\n",
      "\u001b[?25hCollecting annotated-types>=0.4.0 (from pydantic->polars[all])\n",
      "  Downloading annotated_types-0.6.0-py3-none-any.whl.metadata (12 kB)\n",
      "Collecting pydantic-core==2.14.5 (from pydantic->polars[all])\n",
      "  Downloading pydantic_core-2.14.5-cp310-cp310-manylinux_2_17_x86_64.manylinux2014_x86_64.whl.metadata (6.5 kB)\n",
      "Collecting typing-extensions>=4.6.1 (from pydantic->polars[all])\n",
      "  Downloading typing_extensions-4.8.0-py3-none-any.whl.metadata (3.0 kB)\n",
      "Collecting adbc-driver-manager (from adbc_driver_sqlite->polars[all])\n",
      "  Downloading adbc_driver_manager-0.8.0-cp310-cp310-manylinux_2_17_x86_64.manylinux2014_x86_64.whl.metadata (2.7 kB)\n",
      "Collecting zope.event (from gevent->polars[all])\n",
      "  Downloading zope.event-5.0-py3-none-any.whl.metadata (4.4 kB)\n",
      "Collecting zope.interface (from gevent->polars[all])\n",
      "  Downloading zope.interface-6.1-cp310-cp310-manylinux_2_5_x86_64.manylinux1_x86_64.manylinux_2_17_x86_64.manylinux2014_x86_64.whl.metadata (41 kB)\n",
      "\u001b[2K     \u001b[90m━━━━━━━━━━━━━━━━━━━━━━━━━━━━━━━━━━━━━━━━\u001b[0m \u001b[32m41.7/41.7 kB\u001b[0m \u001b[31m3.0 MB/s\u001b[0m eta \u001b[36m0:00:00\u001b[0m\n",
      "\u001b[?25hCollecting greenlet>=2.0.0 (from gevent->polars[all])\n",
      "  Downloading greenlet-3.0.1-cp310-cp310-manylinux_2_24_x86_64.manylinux_2_28_x86_64.whl.metadata (3.7 kB)\n",
      "Collecting contourpy>=1.0.1 (from matplotlib->polars[all])\n",
      "  Downloading contourpy-1.2.0-cp310-cp310-manylinux_2_17_x86_64.manylinux2014_x86_64.whl.metadata (5.8 kB)\n",
      "Collecting cycler>=0.10 (from matplotlib->polars[all])\n",
      "  Downloading cycler-0.12.1-py3-none-any.whl.metadata (3.8 kB)\n",
      "Collecting fonttools>=4.22.0 (from matplotlib->polars[all])\n",
      "  Downloading fonttools-4.45.1-cp310-cp310-manylinux_2_17_x86_64.manylinux2014_x86_64.whl.metadata (155 kB)\n",
      "\u001b[2K     \u001b[90m━━━━━━━━━━━━━━━━━━━━━━━━━━━━━━━━━━━━━━━\u001b[0m \u001b[32m155.2/155.2 kB\u001b[0m \u001b[31m4.0 MB/s\u001b[0m eta \u001b[36m0:00:00\u001b[0m00:01\u001b[0m\n",
      "\u001b[?25hCollecting kiwisolver>=1.3.1 (from matplotlib->polars[all])\n",
      "  Downloading kiwisolver-1.4.5-cp310-cp310-manylinux_2_12_x86_64.manylinux2010_x86_64.whl.metadata (6.4 kB)\n",
      "Requirement already satisfied: packaging>=20.0 in /home/nexovec/.cache/pypoetry/virtualenvs/avd3-ATxpilUJ-py3.10/lib/python3.10/site-packages (from matplotlib->polars[all]) (23.2)\n",
      "Collecting pillow>=8 (from matplotlib->polars[all])\n",
      "  Downloading Pillow-10.1.0-cp310-cp310-manylinux_2_28_x86_64.whl.metadata (9.5 kB)\n",
      "Requirement already satisfied: charset-normalizer<4,>=2 in /home/nexovec/.cache/pypoetry/virtualenvs/avd3-ATxpilUJ-py3.10/lib/python3.10/site-packages (from requests<3.0.0,>=2.20.0->pyiceberg>=0.5.0->polars[all]) (3.3.2)\n",
      "Requirement already satisfied: idna<4,>=2.5 in /home/nexovec/.cache/pypoetry/virtualenvs/avd3-ATxpilUJ-py3.10/lib/python3.10/site-packages (from requests<3.0.0,>=2.20.0->pyiceberg>=0.5.0->polars[all]) (3.4)\n",
      "Requirement already satisfied: urllib3<3,>=1.21.1 in /home/nexovec/.cache/pypoetry/virtualenvs/avd3-ATxpilUJ-py3.10/lib/python3.10/site-packages (from requests<3.0.0,>=2.20.0->pyiceberg>=0.5.0->polars[all]) (2.1.0)\n",
      "Requirement already satisfied: certifi>=2017.4.17 in /home/nexovec/.cache/pypoetry/virtualenvs/avd3-ATxpilUJ-py3.10/lib/python3.10/site-packages (from requests<3.0.0,>=2.20.0->pyiceberg>=0.5.0->polars[all]) (2023.7.22)\n",
      "Collecting markdown-it-py>=2.2.0 (from rich<14.0.0,>=10.11.0->pyiceberg>=0.5.0->polars[all])\n",
      "  Downloading markdown_it_py-3.0.0-py3-none-any.whl.metadata (6.9 kB)\n",
      "Requirement already satisfied: pygments<3.0.0,>=2.13.0 in /home/nexovec/.cache/pypoetry/virtualenvs/avd3-ATxpilUJ-py3.10/lib/python3.10/site-packages (from rich<14.0.0,>=10.11.0->pyiceberg>=0.5.0->polars[all]) (2.16.1)\n",
      "Requirement already satisfied: setuptools in /home/nexovec/.cache/pypoetry/virtualenvs/avd3-ATxpilUJ-py3.10/lib/python3.10/site-packages (from zope.event->gevent->polars[all]) (68.2.2)\n",
      "Collecting mdurl~=0.1 (from markdown-it-py>=2.2.0->rich<14.0.0,>=10.11.0->pyiceberg>=0.5.0->polars[all])\n",
      "  Downloading mdurl-0.1.2-py3-none-any.whl (10.0 kB)\n",
      "Downloading polars-0.19.16-cp38-abi3-manylinux_2_17_x86_64.manylinux2014_x86_64.whl (28.5 MB)\n",
      "\u001b[2K   \u001b[90m━━━━━━━━━━━━━━━━━━━━━━━━━━━━━━━━━━━━━━━━\u001b[0m \u001b[32m28.5/28.5 MB\u001b[0m \u001b[31m4.2 MB/s\u001b[0m eta \u001b[36m0:00:00\u001b[0m00:01\u001b[0m00:01\u001b[0m\n",
      "\u001b[?25hDownloading connectorx-0.3.2-cp310-cp310-manylinux_2_28_x86_64.whl (50.8 MB)\n",
      "\u001b[2K   \u001b[90m━━━━━━━━━━━━━━━━━━━━━━━━━━━━━━━━━━━━━━━━\u001b[0m \u001b[32m50.8/50.8 MB\u001b[0m \u001b[31m1.5 MB/s\u001b[0m eta \u001b[36m0:00:00\u001b[0m00:01\u001b[0m00:01\u001b[0m\n",
      "\u001b[?25hDownloading deltalake-0.13.0-cp37-abi3-manylinux_2_17_x86_64.manylinux2014_x86_64.whl (22.6 MB)\n",
      "\u001b[2K   \u001b[90m━━━━━━━━━━━━━━━━━━━━━━━━━━━━━━━━━━━━━━━━\u001b[0m \u001b[32m22.6/22.6 MB\u001b[0m \u001b[31m2.5 MB/s\u001b[0m eta \u001b[36m0:00:00\u001b[0m00:01\u001b[0m00:01\u001b[0m\n",
      "\u001b[?25hDownloading pyarrow-14.0.1-cp310-cp310-manylinux_2_28_x86_64.whl (38.0 MB)\n",
      "\u001b[2K   \u001b[90m━━━━━━━━━━━━━━━━━━━━━━━━━━━━━━━━━━━━━━━━\u001b[0m \u001b[32m38.0/38.0 MB\u001b[0m \u001b[31m2.2 MB/s\u001b[0m eta \u001b[36m0:00:00\u001b[0m00:01\u001b[0m00:01\u001b[0m\n",
      "\u001b[?25hDownloading pyiceberg-0.5.1-cp310-cp310-manylinux_2_17_x86_64.manylinux2014_x86_64.whl (936 kB)\n",
      "\u001b[2K   \u001b[90m━━━━━━━━━━━━━━━━━━━━━━━━━━━━━━━━━━━━━━━━\u001b[0m \u001b[32m936.3/936.3 kB\u001b[0m \u001b[31m2.5 MB/s\u001b[0m eta \u001b[36m0:00:00\u001b[0ma \u001b[36m0:00:01\u001b[0mm\n",
      "\u001b[?25hDownloading fsspec-2023.10.0-py3-none-any.whl (166 kB)\n",
      "\u001b[2K   \u001b[90m━━━━━━━━━━━━━━━━━━━━━━━━━━━━━━━━━━━━━━━━\u001b[0m \u001b[32m166.4/166.4 kB\u001b[0m \u001b[31m1.6 MB/s\u001b[0m eta \u001b[36m0:00:00\u001b[0mta \u001b[36m0:00:01\u001b[0m\n",
      "\u001b[?25hDownloading pydantic-2.5.2-py3-none-any.whl (381 kB)\n",
      "\u001b[2K   \u001b[90m━━━━━━━━━━━━━━━━━━━━━━━━━━━━━━━━━━━━━━━━\u001b[0m \u001b[32m381.9/381.9 kB\u001b[0m \u001b[31m2.6 MB/s\u001b[0m eta \u001b[36m0:00:00\u001b[0m00:01\u001b[0m00:01\u001b[0m\n",
      "\u001b[?25hDownloading pydantic_core-2.14.5-cp310-cp310-manylinux_2_17_x86_64.manylinux2014_x86_64.whl (2.1 MB)\n",
      "\u001b[2K   \u001b[90m━━━━━━━━━━━━━━━━━━━━━━━━━━━━━━━━━━━━━━━━\u001b[0m \u001b[32m2.1/2.1 MB\u001b[0m \u001b[31m1.8 MB/s\u001b[0m eta \u001b[36m0:00:00\u001b[0m00:01\u001b[0m00:01\u001b[0m\n",
      "\u001b[?25hDownloading adbc_driver_sqlite-0.8.0-py3-none-manylinux_2_17_x86_64.manylinux2014_x86_64.whl (733 kB)\n",
      "\u001b[2K   \u001b[90m━━━━━━━━━━━━━━━━━━━━━━━━━━━━━━━━━━━━━━━━\u001b[0m \u001b[32m733.9/733.9 kB\u001b[0m \u001b[31m1.7 MB/s\u001b[0m eta \u001b[36m0:00:00\u001b[0m00:01\u001b[0m00:01\u001b[0mm\n",
      "\u001b[?25hDownloading cloudpickle-3.0.0-py3-none-any.whl (20 kB)\n",
      "Downloading gevent-23.9.1-cp310-cp310-manylinux_2_28_x86_64.whl (6.4 MB)\n",
      "\u001b[2K   \u001b[90m━━━━━━━━━━━━━━━━━━━━━━━━━━━━━━━━━━━━━━━━\u001b[0m \u001b[32m6.4/6.4 MB\u001b[0m \u001b[31m1.7 MB/s\u001b[0m eta \u001b[36m0:00:00\u001b[0m00:01\u001b[0m00:01\u001b[0m\n",
      "\u001b[?25hDownloading matplotlib-3.8.2-cp310-cp310-manylinux_2_17_x86_64.manylinux2014_x86_64.whl (11.6 MB)\n",
      "\u001b[2K   \u001b[90m━━━━━━━━━━━━━━━━━━━━━━━━━━━━━━━━━━━━━━━━\u001b[0m \u001b[32m11.6/11.6 MB\u001b[0m \u001b[31m1.8 MB/s\u001b[0m eta \u001b[36m0:00:00\u001b[0m00:01\u001b[0m00:01\u001b[0m\n",
      "\u001b[?25hDownloading SQLAlchemy-2.0.23-cp310-cp310-manylinux_2_17_x86_64.manylinux2014_x86_64.whl (3.0 MB)\n",
      "\u001b[2K   \u001b[90m━━━━━━━━━━━━━━━━━━━━━━━━━━━━━━━━━━━━━━━━\u001b[0m \u001b[32m3.0/3.0 MB\u001b[0m \u001b[31m3.2 MB/s\u001b[0m eta \u001b[36m0:00:00\u001b[0ma \u001b[36m0:00:01\u001b[0m\n",
      "\u001b[?25hDownloading XlsxWriter-3.1.9-py3-none-any.whl (154 kB)\n",
      "\u001b[2K   \u001b[90m━━━━━━━━━━━━━━━━━━━━━━━━━━━━━━━━━━━━━━━━\u001b[0m \u001b[32m154.8/154.8 kB\u001b[0m \u001b[31m1.9 MB/s\u001b[0m eta \u001b[36m0:00:00\u001b[0ma \u001b[36m0:00:01\u001b[0m\n",
      "\u001b[?25hDownloading annotated_types-0.6.0-py3-none-any.whl (12 kB)\n",
      "Downloading click-8.1.7-py3-none-any.whl (97 kB)\n",
      "\u001b[2K   \u001b[90m━━━━━━━━━━━━━━━━━━━━━━━━━━━━━━━━━━━━━━━━\u001b[0m \u001b[32m97.9/97.9 kB\u001b[0m \u001b[31m3.5 MB/s\u001b[0m eta \u001b[36m0:00:00\u001b[0m\n",
      "\u001b[?25hDownloading contourpy-1.2.0-cp310-cp310-manylinux_2_17_x86_64.manylinux2014_x86_64.whl (310 kB)\n",
      "\u001b[2K   \u001b[90m━━━━━━━━━━━━━━━━━━━━━━━━━━━━━━━━━━━━━━━━\u001b[0m \u001b[32m310.7/310.7 kB\u001b[0m \u001b[31m3.3 MB/s\u001b[0m eta \u001b[36m0:00:00\u001b[0ma \u001b[36m0:00:01\u001b[0m\n",
      "\u001b[?25hDownloading cycler-0.12.1-py3-none-any.whl (8.3 kB)\n",
      "Downloading fonttools-4.45.1-cp310-cp310-manylinux_2_17_x86_64.manylinux2014_x86_64.whl (4.6 MB)\n",
      "\u001b[2K   \u001b[90m━━━━━━━━━━━━━━━━━━━━━━━━━━━━━━━━━━━━━━━━\u001b[0m \u001b[32m4.6/4.6 MB\u001b[0m \u001b[31m3.2 MB/s\u001b[0m eta \u001b[36m0:00:00\u001b[0m00:01\u001b[0m00:01\u001b[0m\n",
      "\u001b[?25hDownloading greenlet-3.0.1-cp310-cp310-manylinux_2_24_x86_64.manylinux_2_28_x86_64.whl (613 kB)\n",
      "\u001b[2K   \u001b[90m━━━━━━━━━━━━━━━━━━━━━━━━━━━━━━━━━━━━━━━━\u001b[0m \u001b[32m613.2/613.2 kB\u001b[0m \u001b[31m4.1 MB/s\u001b[0m eta \u001b[36m0:00:00\u001b[0m00:01\u001b[0m00:01\u001b[0m\n",
      "\u001b[?25hDownloading kiwisolver-1.4.5-cp310-cp310-manylinux_2_12_x86_64.manylinux2010_x86_64.whl (1.6 MB)\n",
      "\u001b[2K   \u001b[90m━━━━━━━━━━━━━━━━━━━━━━━━━━━━━━━━━━━━━━━━\u001b[0m \u001b[32m1.6/1.6 MB\u001b[0m \u001b[31m2.5 MB/s\u001b[0m eta \u001b[36m0:00:00\u001b[0ma \u001b[36m0:00:01\u001b[0m\n",
      "\u001b[?25hDownloading Pillow-10.1.0-cp310-cp310-manylinux_2_28_x86_64.whl (3.6 MB)\n",
      "\u001b[2K   \u001b[90m━━━━━━━━━━━━━━━━━━━━━━━━━━━━━━━━━━━━━━━━\u001b[0m \u001b[32m3.6/3.6 MB\u001b[0m \u001b[31m2.9 MB/s\u001b[0m eta \u001b[36m0:00:00\u001b[0m00:01\u001b[0m00:01\u001b[0m\n",
      "\u001b[?25hDownloading pyparsing-3.1.1-py3-none-any.whl (103 kB)\n",
      "\u001b[2K   \u001b[90m━━━━━━━━━━━━━━━━━━━━━━━━━━━━━━━━━━━━━━━━\u001b[0m \u001b[32m103.1/103.1 kB\u001b[0m \u001b[31m2.5 MB/s\u001b[0m eta \u001b[36m0:00:00\u001b[0m00:01\u001b[0m\n",
      "\u001b[?25hDownloading rich-13.7.0-py3-none-any.whl (240 kB)\n",
      "\u001b[2K   \u001b[90m━━━━━━━━━━━━━━━━━━━━━━━━━━━━━━━━━━━━━━━━\u001b[0m \u001b[32m240.6/240.6 kB\u001b[0m \u001b[31m2.5 MB/s\u001b[0m eta \u001b[36m0:00:00\u001b[0ma \u001b[36m0:00:01\u001b[0m\n",
      "\u001b[?25hDownloading typing_extensions-4.8.0-py3-none-any.whl (31 kB)\n",
      "Downloading adbc_driver_manager-0.8.0-cp310-cp310-manylinux_2_17_x86_64.manylinux2014_x86_64.whl (1.3 MB)\n",
      "\u001b[2K   \u001b[90m━━━━━━━━━━━━━━━━━━━━━━━━━━━━━━━━━━━━━━━━\u001b[0m \u001b[32m1.3/1.3 MB\u001b[0m \u001b[31m2.2 MB/s\u001b[0m eta \u001b[36m0:00:00\u001b[0m00:01\u001b[0m00:01\u001b[0m\n",
      "\u001b[?25hDownloading zope.event-5.0-py3-none-any.whl (6.8 kB)\n",
      "Downloading zope.interface-6.1-cp310-cp310-manylinux_2_5_x86_64.manylinux1_x86_64.manylinux_2_17_x86_64.manylinux2014_x86_64.whl (247 kB)\n",
      "\u001b[2K   \u001b[90m━━━━━━━━━━━━━━━━━━━━━━━━━━━━━━━━━━━━━━━\u001b[0m \u001b[32m247.1/247.1 kB\u001b[0m \u001b[31m760.1 kB/s\u001b[0m eta \u001b[36m0:00:00\u001b[0m \u001b[36m0:00:01\u001b[0mm\n",
      "\u001b[?25hDownloading markdown_it_py-3.0.0-py3-none-any.whl (87 kB)\n",
      "\u001b[2K   \u001b[90m━━━━━━━━━━━━━━━━━━━━━━━━━━━━━━━━━━━━━━━━\u001b[0m \u001b[32m87.5/87.5 kB\u001b[0m \u001b[31m932.7 kB/s\u001b[0m eta \u001b[36m0:00:00\u001b[0m\u001b[36m0:00:01\u001b[0m\n",
      "\u001b[?25hInstalling collected packages: xlsx2csv, sortedcontainers, mmhash3, connectorx, zope.interface, zope.event, xlsxwriter, typing-extensions, pyparsing, pyarrow, polars, pillow, mdurl, kiwisolver, greenlet, fsspec, fonttools, cycler, contourpy, cloudpickle, click, annotated-types, adbc-driver-manager, strictyaml, sqlalchemy, pydantic-core, matplotlib, markdown-it-py, gevent, deltalake, adbc_driver_sqlite, rich, pydantic, pyiceberg\n",
      "Successfully installed adbc-driver-manager-0.8.0 adbc_driver_sqlite-0.8.0 annotated-types-0.6.0 click-8.1.7 cloudpickle-3.0.0 connectorx-0.3.2 contourpy-1.2.0 cycler-0.12.1 deltalake-0.13.0 fonttools-4.45.1 fsspec-2023.10.0 gevent-23.9.1 greenlet-3.0.1 kiwisolver-1.4.5 markdown-it-py-3.0.0 matplotlib-3.8.2 mdurl-0.1.2 mmhash3-3.0.1 pillow-10.1.0 polars-0.19.16 pyarrow-14.0.1 pydantic-2.5.2 pydantic-core-2.14.5 pyiceberg-0.5.1 pyparsing-3.1.1 rich-13.7.0 sortedcontainers-2.4.0 sqlalchemy-2.0.23 strictyaml-1.7.3 typing-extensions-4.8.0 xlsx2csv-0.8.1 xlsxwriter-3.1.9 zope.event-5.0 zope.interface-6.1\n",
      "Note: you may need to restart the kernel to use updated packages.\n"
     ]
    }
   ],
   "source": [
    "%pip install polars[all] pandas"
   ]
  },
  {
   "cell_type": "code",
   "execution_count": 2,
   "metadata": {},
   "outputs": [],
   "source": [
    "import polars as pl"
   ]
  },
  {
   "cell_type": "code",
   "execution_count": 3,
   "metadata": {},
   "outputs": [],
   "source": [
    "lf = pl.scan_csv(\"data/prf_uchazeci.csv\")"
   ]
  },
  {
   "cell_type": "code",
   "execution_count": 6,
   "metadata": {},
   "outputs": [
    {
     "data": {
      "text/html": [
       "<div><style>\n",
       ".dataframe > thead > tr,\n",
       ".dataframe > tbody > tr {\n",
       "  text-align: right;\n",
       "  white-space: pre-wrap;\n",
       "}\n",
       "</style>\n",
       "<small>shape: (4_932, 29)</small><table border=\"1\" class=\"dataframe\"><thead><tr><th>FAKULTA_SP</th><th>ROK_NAR</th><th>STAT_OBCANSTVI</th><th>PSC_BYDL</th><th>PSC_CIZI</th><th>OBEC_BYDLISTE</th><th>OBEC_CIZI</th><th>STAT_BYDLISTE</th><th>NAZEV_S_SKOLY</th><th>STAT_S_SKOLY</th><th>ADRESA_S_SKOLY</th><th>CIS_OBORU</th><th>MATURITA</th><th>STRED_SKOLA_CIZI</th><th>STRED_SKOLA_CIZI_MISTO</th><th>STRED_SKOLA_CIZI_OBOR</th><th>VS_SKOLA</th><th>NAZEV_VS</th><th>STAT_VS</th><th>VS_ROK_ABSOL</th><th>ROK_PR</th><th>CISP_KOD</th><th>CZ_NAZEV</th><th>FORMA</th><th>TYP</th><th>PR_NAZEV</th><th>PR_OBOR</th><th>PR_KOMBINACE</th><th>SDRUZENE</th></tr><tr><td>str</td><td>i64</td><td>str</td><td>i64</td><td>str</td><td>str</td><td>str</td><td>str</td><td>str</td><td>str</td><td>str</td><td>str</td><td>i64</td><td>str</td><td>str</td><td>str</td><td>str</td><td>str</td><td>str</td><td>f64</td><td>i64</td><td>str</td><td>str</td><td>str</td><td>str</td><td>str</td><td>str</td><td>str</td><td>str</td></tr></thead><tbody><tr><td>&quot;PRF&quot;</td><td>2000</td><td>&quot;Česká republik…</td><td>0</td><td>null</td><td>&quot;nevyplněno&quot;</td><td>null</td><td>&quot;Česká republik…</td><td>&quot;SŠ pedagogická…</td><td>&quot;Česká republik…</td><td>&quot;Litoměřice, Ko…</td><td>&quot;7531M01&quot;</td><td>2019</td><td>null</td><td>null</td><td>null</td><td>null</td><td>null</td><td>null</td><td>null</td><td>2019</td><td>&quot;B1101&quot;</td><td>&quot;Matematika&quot;</td><td>&quot;P&quot;</td><td>&quot;B&quot;</td><td>&quot;MA AJ1&quot;</td><td>null</td><td>&quot;MA AJ&quot;</td><td>null</td></tr><tr><td>&quot;PRF&quot;</td><td>1999</td><td>&quot;Česká republik…</td><td>0</td><td>null</td><td>&quot;nevyplněno&quot;</td><td>null</td><td>&quot;Česká republik…</td><td>&quot;Gymnázium&quot;</td><td>&quot;Česká republik…</td><td>&quot;Roudnice nad L…</td><td>&quot;7941K41&quot;</td><td>2018</td><td>null</td><td>null</td><td>null</td><td>null</td><td>null</td><td>null</td><td>2021.0</td><td>2019</td><td>&quot;B1101&quot;</td><td>&quot;Matematika&quot;</td><td>&quot;P&quot;</td><td>&quot;B&quot;</td><td>&quot;MA BI1&quot;</td><td>null</td><td>&quot;MA  BI&quot;</td><td>null</td></tr><tr><td>&quot;PRF&quot;</td><td>0</td><td>&quot;Česká republik…</td><td>0</td><td>null</td><td>&quot;nevyplněno&quot;</td><td>null</td><td>&quot;Česká republik…</td><td>&quot;První české gy…</td><td>&quot;Česká republik…</td><td>&quot;Karlovy Vary, …</td><td>&quot;7941K41&quot;</td><td>2019</td><td>null</td><td>null</td><td>null</td><td>null</td><td>null</td><td>null</td><td>null</td><td>2019</td><td>&quot;B1101&quot;</td><td>&quot;Matematika&quot;</td><td>&quot;P&quot;</td><td>&quot;B&quot;</td><td>&quot;MA BI1&quot;</td><td>null</td><td>&quot;MA  BI&quot;</td><td>null</td></tr><tr><td>&quot;PRF&quot;</td><td>1998</td><td>&quot;Česká republik…</td><td>41705</td><td>null</td><td>&quot;Osek&quot;</td><td>null</td><td>&quot;Česká republik…</td><td>&quot;Gymnázium T. G…</td><td>&quot;Česká republik…</td><td>&quot;Litvínov, Stud…</td><td>&quot;7941K41&quot;</td><td>2018</td><td>null</td><td>null</td><td>null</td><td>null</td><td>null</td><td>null</td><td>null</td><td>2019</td><td>&quot;B1101&quot;</td><td>&quot;Matematika&quot;</td><td>&quot;P&quot;</td><td>&quot;B&quot;</td><td>&quot;MA BI1&quot;</td><td>null</td><td>&quot;MA  BI&quot;</td><td>null</td></tr><tr><td>&quot;PRF&quot;</td><td>0</td><td>&quot;Česká republik…</td><td>0</td><td>null</td><td>&quot;nevyplněno&quot;</td><td>null</td><td>&quot;Česká republik…</td><td>&quot;ZŠ T. G. Masar…</td><td>&quot;Česká republik…</td><td>&quot;Česká Kamenice…</td><td>&quot;7941K81&quot;</td><td>2018</td><td>null</td><td>null</td><td>null</td><td>null</td><td>null</td><td>null</td><td>null</td><td>2019</td><td>&quot;B1101&quot;</td><td>&quot;Matematika&quot;</td><td>&quot;P&quot;</td><td>&quot;B&quot;</td><td>&quot;MA GEO1&quot;</td><td>null</td><td>&quot;MA GEO&quot;</td><td>null</td></tr><tr><td>&quot;PRF&quot;</td><td>2000</td><td>&quot;Česká republik…</td><td>40001</td><td>null</td><td>&quot;Ústí nad Labem…</td><td>null</td><td>&quot;Česká republik…</td><td>&quot;Gymnázium&quot;</td><td>&quot;Česká republik…</td><td>&quot;Ústí nad Labem…</td><td>&quot;7941K41&quot;</td><td>2019</td><td>null</td><td>null</td><td>null</td><td>&quot;Univerzita Jan…</td><td>&quot;Univerzita Jan…</td><td>&quot;Česká republik…</td><td>2023.0</td><td>2019</td><td>&quot;B1101&quot;</td><td>&quot;Matematika&quot;</td><td>&quot;P&quot;</td><td>&quot;B&quot;</td><td>&quot;MA GEO1&quot;</td><td>null</td><td>&quot;MA GEO&quot;</td><td>null</td></tr><tr><td>&quot;PRF&quot;</td><td>0</td><td>&quot;Česká republik…</td><td>0</td><td>null</td><td>&quot;nevyplněno&quot;</td><td>null</td><td>&quot;Česká republik…</td><td>&quot;Gymnázium&quot;</td><td>&quot;Česká republik…</td><td>&quot;Děčín, Komensk…</td><td>&quot;7941K81&quot;</td><td>2018</td><td>null</td><td>null</td><td>null</td><td>&quot;UNIVERZITA KAR…</td><td>&quot;UNIVERZITA KAR…</td><td>&quot;Česká republik…</td><td>null</td><td>2019</td><td>&quot;B1101&quot;</td><td>&quot;Matematika&quot;</td><td>&quot;P&quot;</td><td>&quot;B&quot;</td><td>&quot;MA GEO1&quot;</td><td>null</td><td>&quot;MA GEO&quot;</td><td>null</td></tr><tr><td>&quot;PRF&quot;</td><td>1999</td><td>&quot;Česká republik…</td><td>0</td><td>null</td><td>&quot;nevyplněno&quot;</td><td>null</td><td>&quot;Česká republik…</td><td>&quot;Podkrušnohorsk…</td><td>&quot;Česká republik…</td><td>&quot;Most, Čsl. arm…</td><td>&quot;7941K401&quot;</td><td>2019</td><td>null</td><td>null</td><td>null</td><td>&quot;Univerzita Jan…</td><td>&quot;Univerzita Jan…</td><td>&quot;Česká republik…</td><td>2021.0</td><td>2019</td><td>&quot;B1101&quot;</td><td>&quot;Matematika&quot;</td><td>&quot;P&quot;</td><td>&quot;B&quot;</td><td>&quot;MA GEO1&quot;</td><td>null</td><td>&quot;MA GEO&quot;</td><td>null</td></tr><tr><td>&quot;PRF&quot;</td><td>0</td><td>&quot;Česká republik…</td><td>0</td><td>null</td><td>&quot;nevyplněno&quot;</td><td>null</td><td>&quot;Česká republik…</td><td>&quot;Gymnázium&quot;</td><td>&quot;Česká republik…</td><td>&quot;Děčín, Komensk…</td><td>&quot;7941K81&quot;</td><td>2019</td><td>null</td><td>null</td><td>null</td><td>null</td><td>null</td><td>null</td><td>null</td><td>2019</td><td>&quot;B1101&quot;</td><td>&quot;Matematika&quot;</td><td>&quot;P&quot;</td><td>&quot;B&quot;</td><td>&quot;MA GEO1&quot;</td><td>null</td><td>&quot;MA GEO&quot;</td><td>null</td></tr><tr><td>&quot;PRF&quot;</td><td>2000</td><td>&quot;Česká republik…</td><td>41752</td><td>null</td><td>&quot;Hostomice&quot;</td><td>null</td><td>&quot;Česká republik…</td><td>&quot;VOŠ zdravotnic…</td><td>&quot;Česká republik…</td><td>&quot;Ústí nad Labem…</td><td>&quot;7842M04&quot;</td><td>2019</td><td>null</td><td>null</td><td>null</td><td>&quot;Univerzita Jan…</td><td>&quot;Univerzita Jan…</td><td>&quot;Česká republik…</td><td>2023.0</td><td>2019</td><td>&quot;B1101&quot;</td><td>&quot;Matematika&quot;</td><td>&quot;P&quot;</td><td>&quot;B&quot;</td><td>&quot;MA GEO2&quot;</td><td>null</td><td>&quot;MA GEO&quot;</td><td>null</td></tr><tr><td>&quot;PRF&quot;</td><td>0</td><td>&quot;Česká republik…</td><td>0</td><td>null</td><td>&quot;nevyplněno&quot;</td><td>null</td><td>&quot;Česká republik…</td><td>&quot;VOŠ zdravotnic…</td><td>&quot;Česká republik…</td><td>&quot;Ústí nad Labem…</td><td>&quot;7842M04&quot;</td><td>2019</td><td>null</td><td>null</td><td>null</td><td>null</td><td>null</td><td>null</td><td>null</td><td>2019</td><td>&quot;B1101&quot;</td><td>&quot;Matematika&quot;</td><td>&quot;P&quot;</td><td>&quot;B&quot;</td><td>&quot;MA GEO2&quot;</td><td>null</td><td>&quot;MA GEO&quot;</td><td>null</td></tr><tr><td>&quot;PRF&quot;</td><td>1999</td><td>&quot;Česká republik…</td><td>0</td><td>null</td><td>&quot;nevyplněno&quot;</td><td>null</td><td>&quot;Česká republik…</td><td>&quot;Gymnázium&quot;</td><td>&quot;Česká republik…</td><td>&quot;Teplice, Čs. d…</td><td>&quot;7941K41&quot;</td><td>2018</td><td>null</td><td>null</td><td>null</td><td>&quot;Univerzita Jan…</td><td>&quot;Univerzita Jan…</td><td>&quot;Česká republik…</td><td>2021.0</td><td>2019</td><td>&quot;B1101&quot;</td><td>&quot;Matematika&quot;</td><td>&quot;P&quot;</td><td>&quot;B&quot;</td><td>&quot;MA GEO2&quot;</td><td>null</td><td>&quot;MA GEO&quot;</td><td>null</td></tr><tr><td>&hellip;</td><td>&hellip;</td><td>&hellip;</td><td>&hellip;</td><td>&hellip;</td><td>&hellip;</td><td>&hellip;</td><td>&hellip;</td><td>&hellip;</td><td>&hellip;</td><td>&hellip;</td><td>&hellip;</td><td>&hellip;</td><td>&hellip;</td><td>&hellip;</td><td>&hellip;</td><td>&hellip;</td><td>&hellip;</td><td>&hellip;</td><td>&hellip;</td><td>&hellip;</td><td>&hellip;</td><td>&hellip;</td><td>&hellip;</td><td>&hellip;</td><td>&hellip;</td><td>&hellip;</td><td>&hellip;</td><td>&hellip;</td></tr><tr><td>&quot;PRF&quot;</td><td>2000</td><td>&quot;Česká republik…</td><td>40011</td><td>null</td><td>&quot;Ústí nad Labem…</td><td>null</td><td>&quot;Česká republik…</td><td>&quot;Střední průmys…</td><td>&quot;Česká republik…</td><td>&quot;Ústí nad Labem…</td><td>&quot;1820M01&quot;</td><td>2019</td><td>null</td><td>null</td><td>null</td><td>null</td><td>&quot;Univerzita Jan…</td><td>&quot;Česká republik…</td><td>2023.0</td><td>2023</td><td>&quot;N0613P140003&quot;</td><td>&quot;Aplikovaná inf…</td><td>&quot;P&quot;</td><td>&quot;N&quot;</td><td>&quot;N API2&quot;</td><td>null</td><td>null</td><td>null</td></tr><tr><td>&quot;PRF&quot;</td><td>2000</td><td>&quot;Česká republik…</td><td>35601</td><td>null</td><td>&quot;Sokolov&quot;</td><td>null</td><td>&quot;Česká republik…</td><td>&quot;ISŠ technická …</td><td>&quot;Česká republik…</td><td>&quot;Sokolov, Jedno…</td><td>&quot;1820M01&quot;</td><td>2019</td><td>null</td><td>null</td><td>null</td><td>&quot;UNIVERZITA JAN…</td><td>&quot;UNIVERZITA JAN…</td><td>&quot;Česká republik…</td><td>2023.0</td><td>2023</td><td>&quot;N0613P140003&quot;</td><td>&quot;Aplikovaná inf…</td><td>&quot;P&quot;</td><td>&quot;N&quot;</td><td>&quot;N API2&quot;</td><td>null</td><td>null</td><td>null</td></tr><tr><td>&quot;PRF&quot;</td><td>1999</td><td>&quot;Česká republik…</td><td>62500</td><td>null</td><td>&quot;Brno&quot;</td><td>null</td><td>&quot;Česká republik…</td><td>&quot;gymnázia&quot;</td><td>&quot;Česká republik…</td><td>null</td><td>&quot;7941K61&quot;</td><td>2018</td><td>null</td><td>null</td><td>null</td><td>&quot;MASARYKOVA UNI…</td><td>&quot;MASARYKOVA UNI…</td><td>&quot;Česká republik…</td><td>2023.0</td><td>2023</td><td>&quot;N0613P140003&quot;</td><td>&quot;Aplikovaná inf…</td><td>&quot;P&quot;</td><td>&quot;N&quot;</td><td>&quot;N API2&quot;</td><td>null</td><td>null</td><td>null</td></tr><tr><td>&quot;PRF&quot;</td><td>1999</td><td>&quot;Česká republik…</td><td>40001</td><td>null</td><td>&quot;Ústí nad Labem…</td><td>null</td><td>&quot;Česká republik…</td><td>&quot;Gymnázium&quot;</td><td>&quot;Česká republik…</td><td>&quot;Ústí nad Labem…</td><td>&quot;7941K41&quot;</td><td>2019</td><td>null</td><td>null</td><td>null</td><td>&quot;Univerzita Jan…</td><td>&quot;Univerzita Jan…</td><td>&quot;Česká republik…</td><td>2023.0</td><td>2023</td><td>&quot;N0719A110004&quot;</td><td>&quot;Aplikované nan…</td><td>&quot;P&quot;</td><td>&quot;N&quot;</td><td>&quot;N NANO1&quot;</td><td>null</td><td>null</td><td>null</td></tr><tr><td>&quot;PRF&quot;</td><td>1999</td><td>&quot;Slovenská repu…</td><td>0</td><td>&quot;06601&quot;</td><td>&quot;nevyplněno&quot;</td><td>&quot;Humenné&quot;</td><td>&quot;Slovenská repu…</td><td>&quot;Zahraniční ško…</td><td>&quot;Slovenská repu…</td><td>null</td><td>null</td><td>2018</td><td>null</td><td>null</td><td>null</td><td>&quot;České vysoké u…</td><td>&quot;CESKÉ VYSOKÉ U…</td><td>&quot;Česká republik…</td><td>2023.0</td><td>2023</td><td>&quot;N0719A110004&quot;</td><td>&quot;Aplikované nan…</td><td>&quot;P&quot;</td><td>&quot;N&quot;</td><td>&quot;N NANO1&quot;</td><td>null</td><td>null</td><td>null</td></tr><tr><td>&quot;PRF&quot;</td><td>2001</td><td>&quot;Česká republik…</td><td>43201</td><td>null</td><td>&quot;Kadaň&quot;</td><td>null</td><td>&quot;Česká republik…</td><td>&quot;Gymnázium&quot;</td><td>&quot;Česká republik…</td><td>&quot;Kadaň, 5. květ…</td><td>&quot;7941K41&quot;</td><td>2020</td><td>null</td><td>null</td><td>null</td><td>&quot;Univerzita Jan…</td><td>&quot;Univerzita Jan…</td><td>&quot;Česká republik…</td><td>2023.0</td><td>2023</td><td>&quot;N0719A110004&quot;</td><td>&quot;Aplikované nan…</td><td>&quot;P&quot;</td><td>&quot;N&quot;</td><td>&quot;N NANO2&quot;</td><td>null</td><td>null</td><td>null</td></tr><tr><td>&quot;PRF&quot;</td><td>1999</td><td>&quot;Česká republik…</td><td>29001</td><td>null</td><td>&quot;Poděbrady&quot;</td><td>null</td><td>&quot;Česká republik…</td><td>&quot;Gymnázium&quot;</td><td>&quot;Česká republik…</td><td>&quot;Trutnov, Jirás…</td><td>null</td><td>2018</td><td>null</td><td>null</td><td>null</td><td>&quot;UNIVERZITA PAR…</td><td>&quot;UNIVERZITA PAR…</td><td>&quot;Česká republik…</td><td>2021.0</td><td>2023</td><td>&quot;N0719A110004&quot;</td><td>&quot;Aplikované nan…</td><td>&quot;P&quot;</td><td>&quot;N&quot;</td><td>&quot;N NANO2&quot;</td><td>null</td><td>null</td><td>null</td></tr><tr><td>&quot;PRF&quot;</td><td>1997</td><td>&quot;Česká republik…</td><td>27601</td><td>null</td><td>&quot;Mělník&quot;</td><td>null</td><td>&quot;Česká republik…</td><td>&quot;Gymnázium Jana…</td><td>&quot;Česká republik…</td><td>&quot;Mělník, Pod Vr…</td><td>&quot;7941K41&quot;</td><td>2017</td><td>null</td><td>null</td><td>null</td><td>&quot;Univerzita Jan…</td><td>&quot;Univerzita Jan…</td><td>&quot;Česká republik…</td><td>2023.0</td><td>2023</td><td>&quot;P0532D330032&quot;</td><td>&quot;Geographies of…</td><td>&quot;P&quot;</td><td>&quot;D&quot;</td><td>&quot;D GEOTR2&quot;</td><td>null</td><td>null</td><td>null</td></tr><tr><td>&quot;PRF&quot;</td><td>1997</td><td>&quot;Česká republik…</td><td>41201</td><td>null</td><td>&quot;Litoměřice&quot;</td><td>null</td><td>&quot;Česká republik…</td><td>&quot;Gymnázium Jose…</td><td>&quot;Česká republik…</td><td>&quot;Litoměřice, Sv…</td><td>&quot;7941K41&quot;</td><td>2016</td><td>null</td><td>null</td><td>null</td><td>&quot;Univerzita Jan…</td><td>&quot;Univerzita Jan…</td><td>&quot;Česká republik…</td><td>2023.0</td><td>2023</td><td>&quot;P0533D110037&quot;</td><td>&quot;Počítačové mod…</td><td>&quot;P&quot;</td><td>&quot;D&quot;</td><td>&quot;D PMVT2&quot;</td><td>null</td><td>null</td><td>null</td></tr><tr><td>&quot;PRF&quot;</td><td>1997</td><td>&quot;Česká republik…</td><td>43921</td><td>null</td><td>&quot;Koštice&quot;</td><td>null</td><td>&quot;Česká republik…</td><td>&quot;Gymnázium&quot;</td><td>&quot;Česká republik…</td><td>&quot;Lovosice, Sady…</td><td>&quot;7941K41&quot;</td><td>2017</td><td>null</td><td>null</td><td>null</td><td>&quot;Univerzita Jan…</td><td>&quot;Univerzita Jan…</td><td>&quot;Česká republik…</td><td>2023.0</td><td>2023</td><td>&quot;P0533D110049&quot;</td><td>&quot;Aplikované ion…</td><td>&quot;P&quot;</td><td>&quot;D&quot;</td><td>&quot;D AIT2&quot;</td><td>null</td><td>null</td><td>null</td></tr><tr><td>&quot;PRF&quot;</td><td>1994</td><td>&quot;Česká republik…</td><td>41501</td><td>null</td><td>&quot;Teplice&quot;</td><td>null</td><td>&quot;Česká republik…</td><td>&quot;Gymnázium&quot;</td><td>&quot;Česká republik…</td><td>&quot;Teplice, Čs. d…</td><td>&quot;7941K41&quot;</td><td>2013</td><td>null</td><td>null</td><td>null</td><td>&quot;Univerzita Jan…</td><td>&quot;Univerzita Jan…</td><td>&quot;Česká republik…</td><td>2023.0</td><td>2023</td><td>&quot;P0719D110003&quot;</td><td>&quot;Aplikované nan…</td><td>&quot;P&quot;</td><td>&quot;D&quot;</td><td>&quot;D NANO1&quot;</td><td>null</td><td>null</td><td>null</td></tr><tr><td>&quot;PRF&quot;</td><td>1997</td><td>&quot;Česká republik…</td><td>40011</td><td>null</td><td>&quot;Ústí nad Labem…</td><td>null</td><td>&quot;Česká republik…</td><td>&quot;Gymnázium a SO…</td><td>&quot;Česká republik…</td><td>&quot;Ústí nad Labem…</td><td>&quot;7941K41&quot;</td><td>2017</td><td>null</td><td>null</td><td>null</td><td>&quot;Univerzita Jan…</td><td>&quot;Univerzita Jan…</td><td>&quot;Česká republik…</td><td>2023.0</td><td>2023</td><td>&quot;P0719D110003&quot;</td><td>&quot;Aplikované nan…</td><td>&quot;P&quot;</td><td>&quot;D&quot;</td><td>&quot;D NANO2&quot;</td><td>null</td><td>null</td><td>null</td></tr></tbody></table></div>"
      ],
      "text/plain": [
       "shape: (4_932, 29)\n",
       "┌────────────┬─────────┬──────────────┬──────────┬───┬──────────┬─────────┬─────────────┬──────────┐\n",
       "│ FAKULTA_SP ┆ ROK_NAR ┆ STAT_OBCANST ┆ PSC_BYDL ┆ … ┆ PR_NAZEV ┆ PR_OBOR ┆ PR_KOMBINAC ┆ SDRUZENE │\n",
       "│ ---        ┆ ---     ┆ VI           ┆ ---      ┆   ┆ ---      ┆ ---     ┆ E           ┆ ---      │\n",
       "│ str        ┆ i64     ┆ ---          ┆ i64      ┆   ┆ str      ┆ str     ┆ ---         ┆ str      │\n",
       "│            ┆         ┆ str          ┆          ┆   ┆          ┆         ┆ str         ┆          │\n",
       "╞════════════╪═════════╪══════════════╪══════════╪═══╪══════════╪═════════╪═════════════╪══════════╡\n",
       "│ PRF        ┆ 2000    ┆ Česká        ┆ 0        ┆ … ┆ MA AJ1   ┆ null    ┆ MA AJ       ┆ null     │\n",
       "│            ┆         ┆ republika    ┆          ┆   ┆          ┆         ┆             ┆          │\n",
       "│ PRF        ┆ 1999    ┆ Česká        ┆ 0        ┆ … ┆ MA BI1   ┆ null    ┆ MA  BI      ┆ null     │\n",
       "│            ┆         ┆ republika    ┆          ┆   ┆          ┆         ┆             ┆          │\n",
       "│ PRF        ┆ 0       ┆ Česká        ┆ 0        ┆ … ┆ MA BI1   ┆ null    ┆ MA  BI      ┆ null     │\n",
       "│            ┆         ┆ republika    ┆          ┆   ┆          ┆         ┆             ┆          │\n",
       "│ PRF        ┆ 1998    ┆ Česká        ┆ 41705    ┆ … ┆ MA BI1   ┆ null    ┆ MA  BI      ┆ null     │\n",
       "│            ┆         ┆ republika    ┆          ┆   ┆          ┆         ┆             ┆          │\n",
       "│ …          ┆ …       ┆ …            ┆ …        ┆ … ┆ …        ┆ …       ┆ …           ┆ …        │\n",
       "│ PRF        ┆ 1997    ┆ Česká        ┆ 41201    ┆ … ┆ D PMVT2  ┆ null    ┆ null        ┆ null     │\n",
       "│            ┆         ┆ republika    ┆          ┆   ┆          ┆         ┆             ┆          │\n",
       "│ PRF        ┆ 1997    ┆ Česká        ┆ 43921    ┆ … ┆ D AIT2   ┆ null    ┆ null        ┆ null     │\n",
       "│            ┆         ┆ republika    ┆          ┆   ┆          ┆         ┆             ┆          │\n",
       "│ PRF        ┆ 1994    ┆ Česká        ┆ 41501    ┆ … ┆ D NANO1  ┆ null    ┆ null        ┆ null     │\n",
       "│            ┆         ┆ republika    ┆          ┆   ┆          ┆         ┆             ┆          │\n",
       "│ PRF        ┆ 1997    ┆ Česká        ┆ 40011    ┆ … ┆ D NANO2  ┆ null    ┆ null        ┆ null     │\n",
       "│            ┆         ┆ republika    ┆          ┆   ┆          ┆         ┆             ┆          │\n",
       "└────────────┴─────────┴──────────────┴──────────┴───┴──────────┴─────────┴─────────────┴──────────┘"
      ]
     },
     "execution_count": 6,
     "metadata": {},
     "output_type": "execute_result"
    }
   ],
   "source": [
    "lf.collect()"
   ]
  },
  {
   "cell_type": "code",
   "execution_count": 5,
   "metadata": {},
   "outputs": [
    {
     "data": {
      "text/plain": [
       "['FAKULTA_SP',\n",
       " 'ROK_NAR',\n",
       " 'STAT_OBCANSTVI',\n",
       " 'PSC_BYDL',\n",
       " 'PSC_CIZI',\n",
       " 'OBEC_BYDLISTE',\n",
       " 'OBEC_CIZI',\n",
       " 'STAT_BYDLISTE',\n",
       " 'NAZEV_S_SKOLY',\n",
       " 'STAT_S_SKOLY',\n",
       " 'ADRESA_S_SKOLY',\n",
       " 'CIS_OBORU',\n",
       " 'MATURITA',\n",
       " 'STRED_SKOLA_CIZI',\n",
       " 'STRED_SKOLA_CIZI_MISTO',\n",
       " 'STRED_SKOLA_CIZI_OBOR',\n",
       " 'VS_SKOLA',\n",
       " 'NAZEV_VS',\n",
       " 'STAT_VS',\n",
       " 'VS_ROK_ABSOL',\n",
       " 'ROK_PR',\n",
       " 'CISP_KOD',\n",
       " 'CZ_NAZEV',\n",
       " 'FORMA',\n",
       " 'TYP',\n",
       " 'PR_NAZEV',\n",
       " 'PR_OBOR',\n",
       " 'PR_KOMBINACE',\n",
       " 'SDRUZENE']"
      ]
     },
     "execution_count": 5,
     "metadata": {},
     "output_type": "execute_result"
    }
   ],
   "source": [
    "lf.columns"
   ]
  },
  {
   "cell_type": "code",
   "execution_count": 15,
   "metadata": {},
   "outputs": [
    {
     "data": {
      "text/html": [
       "<div><style>\n",
       ".dataframe > thead > tr,\n",
       ".dataframe > tbody > tr {\n",
       "  text-align: right;\n",
       "  white-space: pre-wrap;\n",
       "}\n",
       "</style>\n",
       "<small>shape: (4_814, 29)</small><table border=\"1\" class=\"dataframe\"><thead><tr><th>FAKULTA_SP</th><th>ROK_NAR</th><th>STAT_OBCANSTVI</th><th>PSC_BYDL</th><th>PSC_CIZI</th><th>OBEC_BYDLISTE</th><th>OBEC_CIZI</th><th>STAT_BYDLISTE</th><th>NAZEV_S_SKOLY</th><th>STAT_S_SKOLY</th><th>ADRESA_S_SKOLY</th><th>CIS_OBORU</th><th>MATURITA</th><th>STRED_SKOLA_CIZI</th><th>STRED_SKOLA_CIZI_MISTO</th><th>STRED_SKOLA_CIZI_OBOR</th><th>VS_SKOLA</th><th>NAZEV_VS</th><th>STAT_VS</th><th>VS_ROK_ABSOL</th><th>ROK_PR</th><th>CISP_KOD</th><th>CZ_NAZEV</th><th>FORMA</th><th>TYP</th><th>PR_NAZEV</th><th>PR_OBOR</th><th>PR_KOMBINACE</th><th>SDRUZENE</th></tr><tr><td>str</td><td>i64</td><td>str</td><td>i64</td><td>str</td><td>str</td><td>str</td><td>str</td><td>str</td><td>str</td><td>str</td><td>str</td><td>i64</td><td>str</td><td>str</td><td>str</td><td>str</td><td>str</td><td>str</td><td>f64</td><td>i64</td><td>str</td><td>str</td><td>str</td><td>str</td><td>str</td><td>str</td><td>str</td><td>str</td></tr></thead><tbody><tr><td>&quot;PRF&quot;</td><td>2000</td><td>&quot;Česká republik…</td><td>0</td><td>null</td><td>&quot;nevyplněno&quot;</td><td>null</td><td>&quot;Česká republik…</td><td>&quot;SŠ pedagogická…</td><td>&quot;Česká republik…</td><td>&quot;Litoměřice, Ko…</td><td>&quot;7531M01&quot;</td><td>2019</td><td>null</td><td>null</td><td>null</td><td>null</td><td>null</td><td>null</td><td>null</td><td>2019</td><td>&quot;B1101&quot;</td><td>&quot;Matematika&quot;</td><td>&quot;P&quot;</td><td>&quot;B&quot;</td><td>&quot;MA AJ1&quot;</td><td>null</td><td>&quot;MA AJ&quot;</td><td>null</td></tr><tr><td>&quot;PRF&quot;</td><td>1999</td><td>&quot;Česká republik…</td><td>0</td><td>null</td><td>&quot;nevyplněno&quot;</td><td>null</td><td>&quot;Česká republik…</td><td>&quot;Gymnázium&quot;</td><td>&quot;Česká republik…</td><td>&quot;Roudnice nad L…</td><td>&quot;7941K41&quot;</td><td>2018</td><td>null</td><td>null</td><td>null</td><td>null</td><td>null</td><td>null</td><td>2021.0</td><td>2019</td><td>&quot;B1101&quot;</td><td>&quot;Matematika&quot;</td><td>&quot;P&quot;</td><td>&quot;B&quot;</td><td>&quot;MA BI1&quot;</td><td>null</td><td>&quot;MA  BI&quot;</td><td>null</td></tr><tr><td>&quot;PRF&quot;</td><td>0</td><td>&quot;Česká republik…</td><td>0</td><td>null</td><td>&quot;nevyplněno&quot;</td><td>null</td><td>&quot;Česká republik…</td><td>&quot;První české gy…</td><td>&quot;Česká republik…</td><td>&quot;Karlovy Vary, …</td><td>&quot;7941K41&quot;</td><td>2019</td><td>null</td><td>null</td><td>null</td><td>null</td><td>null</td><td>null</td><td>null</td><td>2019</td><td>&quot;B1101&quot;</td><td>&quot;Matematika&quot;</td><td>&quot;P&quot;</td><td>&quot;B&quot;</td><td>&quot;MA BI1&quot;</td><td>null</td><td>&quot;MA  BI&quot;</td><td>null</td></tr><tr><td>&quot;PRF&quot;</td><td>1998</td><td>&quot;Česká republik…</td><td>41705</td><td>null</td><td>&quot;Osek&quot;</td><td>null</td><td>&quot;Česká republik…</td><td>&quot;Gymnázium T. G…</td><td>&quot;Česká republik…</td><td>&quot;Litvínov, Stud…</td><td>&quot;7941K41&quot;</td><td>2018</td><td>null</td><td>null</td><td>null</td><td>null</td><td>null</td><td>null</td><td>null</td><td>2019</td><td>&quot;B1101&quot;</td><td>&quot;Matematika&quot;</td><td>&quot;P&quot;</td><td>&quot;B&quot;</td><td>&quot;MA BI1&quot;</td><td>null</td><td>&quot;MA  BI&quot;</td><td>null</td></tr><tr><td>&quot;PRF&quot;</td><td>0</td><td>&quot;Česká republik…</td><td>0</td><td>null</td><td>&quot;nevyplněno&quot;</td><td>null</td><td>&quot;Česká republik…</td><td>&quot;ZŠ T. G. Masar…</td><td>&quot;Česká republik…</td><td>&quot;Česká Kamenice…</td><td>&quot;7941K81&quot;</td><td>2018</td><td>null</td><td>null</td><td>null</td><td>null</td><td>null</td><td>null</td><td>null</td><td>2019</td><td>&quot;B1101&quot;</td><td>&quot;Matematika&quot;</td><td>&quot;P&quot;</td><td>&quot;B&quot;</td><td>&quot;MA GEO1&quot;</td><td>null</td><td>&quot;MA GEO&quot;</td><td>null</td></tr><tr><td>&quot;PRF&quot;</td><td>2000</td><td>&quot;Česká republik…</td><td>40001</td><td>null</td><td>&quot;Ústí nad Labem…</td><td>null</td><td>&quot;Česká republik…</td><td>&quot;Gymnázium&quot;</td><td>&quot;Česká republik…</td><td>&quot;Ústí nad Labem…</td><td>&quot;7941K41&quot;</td><td>2019</td><td>null</td><td>null</td><td>null</td><td>&quot;Univerzita Jan…</td><td>&quot;Univerzita Jan…</td><td>&quot;Česká republik…</td><td>2023.0</td><td>2019</td><td>&quot;B1101&quot;</td><td>&quot;Matematika&quot;</td><td>&quot;P&quot;</td><td>&quot;B&quot;</td><td>&quot;MA GEO1&quot;</td><td>null</td><td>&quot;MA GEO&quot;</td><td>null</td></tr><tr><td>&quot;PRF&quot;</td><td>0</td><td>&quot;Česká republik…</td><td>0</td><td>null</td><td>&quot;nevyplněno&quot;</td><td>null</td><td>&quot;Česká republik…</td><td>&quot;Gymnázium&quot;</td><td>&quot;Česká republik…</td><td>&quot;Děčín, Komensk…</td><td>&quot;7941K81&quot;</td><td>2018</td><td>null</td><td>null</td><td>null</td><td>&quot;UNIVERZITA KAR…</td><td>&quot;UNIVERZITA KAR…</td><td>&quot;Česká republik…</td><td>null</td><td>2019</td><td>&quot;B1101&quot;</td><td>&quot;Matematika&quot;</td><td>&quot;P&quot;</td><td>&quot;B&quot;</td><td>&quot;MA GEO1&quot;</td><td>null</td><td>&quot;MA GEO&quot;</td><td>null</td></tr><tr><td>&quot;PRF&quot;</td><td>1999</td><td>&quot;Česká republik…</td><td>0</td><td>null</td><td>&quot;nevyplněno&quot;</td><td>null</td><td>&quot;Česká republik…</td><td>&quot;Podkrušnohorsk…</td><td>&quot;Česká republik…</td><td>&quot;Most, Čsl. arm…</td><td>&quot;7941K401&quot;</td><td>2019</td><td>null</td><td>null</td><td>null</td><td>&quot;Univerzita Jan…</td><td>&quot;Univerzita Jan…</td><td>&quot;Česká republik…</td><td>2021.0</td><td>2019</td><td>&quot;B1101&quot;</td><td>&quot;Matematika&quot;</td><td>&quot;P&quot;</td><td>&quot;B&quot;</td><td>&quot;MA GEO1&quot;</td><td>null</td><td>&quot;MA GEO&quot;</td><td>null</td></tr><tr><td>&quot;PRF&quot;</td><td>0</td><td>&quot;Česká republik…</td><td>0</td><td>null</td><td>&quot;nevyplněno&quot;</td><td>null</td><td>&quot;Česká republik…</td><td>&quot;Gymnázium&quot;</td><td>&quot;Česká republik…</td><td>&quot;Děčín, Komensk…</td><td>&quot;7941K81&quot;</td><td>2019</td><td>null</td><td>null</td><td>null</td><td>null</td><td>null</td><td>null</td><td>null</td><td>2019</td><td>&quot;B1101&quot;</td><td>&quot;Matematika&quot;</td><td>&quot;P&quot;</td><td>&quot;B&quot;</td><td>&quot;MA GEO1&quot;</td><td>null</td><td>&quot;MA GEO&quot;</td><td>null</td></tr><tr><td>&quot;PRF&quot;</td><td>2000</td><td>&quot;Česká republik…</td><td>41752</td><td>null</td><td>&quot;Hostomice&quot;</td><td>null</td><td>&quot;Česká republik…</td><td>&quot;VOŠ zdravotnic…</td><td>&quot;Česká republik…</td><td>&quot;Ústí nad Labem…</td><td>&quot;7842M04&quot;</td><td>2019</td><td>null</td><td>null</td><td>null</td><td>&quot;Univerzita Jan…</td><td>&quot;Univerzita Jan…</td><td>&quot;Česká republik…</td><td>2023.0</td><td>2019</td><td>&quot;B1101&quot;</td><td>&quot;Matematika&quot;</td><td>&quot;P&quot;</td><td>&quot;B&quot;</td><td>&quot;MA GEO2&quot;</td><td>null</td><td>&quot;MA GEO&quot;</td><td>null</td></tr><tr><td>&quot;PRF&quot;</td><td>0</td><td>&quot;Česká republik…</td><td>0</td><td>null</td><td>&quot;nevyplněno&quot;</td><td>null</td><td>&quot;Česká republik…</td><td>&quot;VOŠ zdravotnic…</td><td>&quot;Česká republik…</td><td>&quot;Ústí nad Labem…</td><td>&quot;7842M04&quot;</td><td>2019</td><td>null</td><td>null</td><td>null</td><td>null</td><td>null</td><td>null</td><td>null</td><td>2019</td><td>&quot;B1101&quot;</td><td>&quot;Matematika&quot;</td><td>&quot;P&quot;</td><td>&quot;B&quot;</td><td>&quot;MA GEO2&quot;</td><td>null</td><td>&quot;MA GEO&quot;</td><td>null</td></tr><tr><td>&quot;PRF&quot;</td><td>1999</td><td>&quot;Česká republik…</td><td>0</td><td>null</td><td>&quot;nevyplněno&quot;</td><td>null</td><td>&quot;Česká republik…</td><td>&quot;Gymnázium&quot;</td><td>&quot;Česká republik…</td><td>&quot;Teplice, Čs. d…</td><td>&quot;7941K41&quot;</td><td>2018</td><td>null</td><td>null</td><td>null</td><td>&quot;Univerzita Jan…</td><td>&quot;Univerzita Jan…</td><td>&quot;Česká republik…</td><td>2021.0</td><td>2019</td><td>&quot;B1101&quot;</td><td>&quot;Matematika&quot;</td><td>&quot;P&quot;</td><td>&quot;B&quot;</td><td>&quot;MA GEO2&quot;</td><td>null</td><td>&quot;MA GEO&quot;</td><td>null</td></tr><tr><td>&hellip;</td><td>&hellip;</td><td>&hellip;</td><td>&hellip;</td><td>&hellip;</td><td>&hellip;</td><td>&hellip;</td><td>&hellip;</td><td>&hellip;</td><td>&hellip;</td><td>&hellip;</td><td>&hellip;</td><td>&hellip;</td><td>&hellip;</td><td>&hellip;</td><td>&hellip;</td><td>&hellip;</td><td>&hellip;</td><td>&hellip;</td><td>&hellip;</td><td>&hellip;</td><td>&hellip;</td><td>&hellip;</td><td>&hellip;</td><td>&hellip;</td><td>&hellip;</td><td>&hellip;</td><td>&hellip;</td><td>&hellip;</td></tr><tr><td>&quot;PRF&quot;</td><td>2000</td><td>&quot;Česká republik…</td><td>40011</td><td>null</td><td>&quot;Ústí nad Labem…</td><td>null</td><td>&quot;Česká republik…</td><td>&quot;Střední průmys…</td><td>&quot;Česká republik…</td><td>&quot;Ústí nad Labem…</td><td>&quot;1820M01&quot;</td><td>2019</td><td>null</td><td>null</td><td>null</td><td>null</td><td>&quot;Univerzita Jan…</td><td>&quot;Česká republik…</td><td>2023.0</td><td>2023</td><td>&quot;N0613P140003&quot;</td><td>&quot;Aplikovaná inf…</td><td>&quot;P&quot;</td><td>&quot;N&quot;</td><td>&quot;N API2&quot;</td><td>null</td><td>null</td><td>null</td></tr><tr><td>&quot;PRF&quot;</td><td>2000</td><td>&quot;Česká republik…</td><td>35601</td><td>null</td><td>&quot;Sokolov&quot;</td><td>null</td><td>&quot;Česká republik…</td><td>&quot;ISŠ technická …</td><td>&quot;Česká republik…</td><td>&quot;Sokolov, Jedno…</td><td>&quot;1820M01&quot;</td><td>2019</td><td>null</td><td>null</td><td>null</td><td>&quot;UNIVERZITA JAN…</td><td>&quot;UNIVERZITA JAN…</td><td>&quot;Česká republik…</td><td>2023.0</td><td>2023</td><td>&quot;N0613P140003&quot;</td><td>&quot;Aplikovaná inf…</td><td>&quot;P&quot;</td><td>&quot;N&quot;</td><td>&quot;N API2&quot;</td><td>null</td><td>null</td><td>null</td></tr><tr><td>&quot;PRF&quot;</td><td>1999</td><td>&quot;Česká republik…</td><td>62500</td><td>null</td><td>&quot;Brno&quot;</td><td>null</td><td>&quot;Česká republik…</td><td>&quot;gymnázia&quot;</td><td>&quot;Česká republik…</td><td>null</td><td>&quot;7941K61&quot;</td><td>2018</td><td>null</td><td>null</td><td>null</td><td>&quot;MASARYKOVA UNI…</td><td>&quot;MASARYKOVA UNI…</td><td>&quot;Česká republik…</td><td>2023.0</td><td>2023</td><td>&quot;N0613P140003&quot;</td><td>&quot;Aplikovaná inf…</td><td>&quot;P&quot;</td><td>&quot;N&quot;</td><td>&quot;N API2&quot;</td><td>null</td><td>null</td><td>null</td></tr><tr><td>&quot;PRF&quot;</td><td>1999</td><td>&quot;Česká republik…</td><td>40001</td><td>null</td><td>&quot;Ústí nad Labem…</td><td>null</td><td>&quot;Česká republik…</td><td>&quot;Gymnázium&quot;</td><td>&quot;Česká republik…</td><td>&quot;Ústí nad Labem…</td><td>&quot;7941K41&quot;</td><td>2019</td><td>null</td><td>null</td><td>null</td><td>&quot;Univerzita Jan…</td><td>&quot;Univerzita Jan…</td><td>&quot;Česká republik…</td><td>2023.0</td><td>2023</td><td>&quot;N0719A110004&quot;</td><td>&quot;Aplikované nan…</td><td>&quot;P&quot;</td><td>&quot;N&quot;</td><td>&quot;N NANO1&quot;</td><td>null</td><td>null</td><td>null</td></tr><tr><td>&quot;PRF&quot;</td><td>1999</td><td>&quot;Slovenská repu…</td><td>0</td><td>&quot;06601&quot;</td><td>&quot;nevyplněno&quot;</td><td>&quot;Humenné&quot;</td><td>&quot;Slovenská repu…</td><td>&quot;Zahraniční ško…</td><td>&quot;Slovenská repu…</td><td>null</td><td>null</td><td>2018</td><td>null</td><td>null</td><td>null</td><td>&quot;České vysoké u…</td><td>&quot;CESKÉ VYSOKÉ U…</td><td>&quot;Česká republik…</td><td>2023.0</td><td>2023</td><td>&quot;N0719A110004&quot;</td><td>&quot;Aplikované nan…</td><td>&quot;P&quot;</td><td>&quot;N&quot;</td><td>&quot;N NANO1&quot;</td><td>null</td><td>null</td><td>null</td></tr><tr><td>&quot;PRF&quot;</td><td>2001</td><td>&quot;Česká republik…</td><td>43201</td><td>null</td><td>&quot;Kadaň&quot;</td><td>null</td><td>&quot;Česká republik…</td><td>&quot;Gymnázium&quot;</td><td>&quot;Česká republik…</td><td>&quot;Kadaň, 5. květ…</td><td>&quot;7941K41&quot;</td><td>2020</td><td>null</td><td>null</td><td>null</td><td>&quot;Univerzita Jan…</td><td>&quot;Univerzita Jan…</td><td>&quot;Česká republik…</td><td>2023.0</td><td>2023</td><td>&quot;N0719A110004&quot;</td><td>&quot;Aplikované nan…</td><td>&quot;P&quot;</td><td>&quot;N&quot;</td><td>&quot;N NANO2&quot;</td><td>null</td><td>null</td><td>null</td></tr><tr><td>&quot;PRF&quot;</td><td>1999</td><td>&quot;Česká republik…</td><td>29001</td><td>null</td><td>&quot;Poděbrady&quot;</td><td>null</td><td>&quot;Česká republik…</td><td>&quot;Gymnázium&quot;</td><td>&quot;Česká republik…</td><td>&quot;Trutnov, Jirás…</td><td>null</td><td>2018</td><td>null</td><td>null</td><td>null</td><td>&quot;UNIVERZITA PAR…</td><td>&quot;UNIVERZITA PAR…</td><td>&quot;Česká republik…</td><td>2021.0</td><td>2023</td><td>&quot;N0719A110004&quot;</td><td>&quot;Aplikované nan…</td><td>&quot;P&quot;</td><td>&quot;N&quot;</td><td>&quot;N NANO2&quot;</td><td>null</td><td>null</td><td>null</td></tr><tr><td>&quot;PRF&quot;</td><td>1997</td><td>&quot;Česká republik…</td><td>27601</td><td>null</td><td>&quot;Mělník&quot;</td><td>null</td><td>&quot;Česká republik…</td><td>&quot;Gymnázium Jana…</td><td>&quot;Česká republik…</td><td>&quot;Mělník, Pod Vr…</td><td>&quot;7941K41&quot;</td><td>2017</td><td>null</td><td>null</td><td>null</td><td>&quot;Univerzita Jan…</td><td>&quot;Univerzita Jan…</td><td>&quot;Česká republik…</td><td>2023.0</td><td>2023</td><td>&quot;P0532D330032&quot;</td><td>&quot;Geographies of…</td><td>&quot;P&quot;</td><td>&quot;D&quot;</td><td>&quot;D GEOTR2&quot;</td><td>null</td><td>null</td><td>null</td></tr><tr><td>&quot;PRF&quot;</td><td>1997</td><td>&quot;Česká republik…</td><td>41201</td><td>null</td><td>&quot;Litoměřice&quot;</td><td>null</td><td>&quot;Česká republik…</td><td>&quot;Gymnázium Jose…</td><td>&quot;Česká republik…</td><td>&quot;Litoměřice, Sv…</td><td>&quot;7941K41&quot;</td><td>2016</td><td>null</td><td>null</td><td>null</td><td>&quot;Univerzita Jan…</td><td>&quot;Univerzita Jan…</td><td>&quot;Česká republik…</td><td>2023.0</td><td>2023</td><td>&quot;P0533D110037&quot;</td><td>&quot;Počítačové mod…</td><td>&quot;P&quot;</td><td>&quot;D&quot;</td><td>&quot;D PMVT2&quot;</td><td>null</td><td>null</td><td>null</td></tr><tr><td>&quot;PRF&quot;</td><td>1997</td><td>&quot;Česká republik…</td><td>43921</td><td>null</td><td>&quot;Koštice&quot;</td><td>null</td><td>&quot;Česká republik…</td><td>&quot;Gymnázium&quot;</td><td>&quot;Česká republik…</td><td>&quot;Lovosice, Sady…</td><td>&quot;7941K41&quot;</td><td>2017</td><td>null</td><td>null</td><td>null</td><td>&quot;Univerzita Jan…</td><td>&quot;Univerzita Jan…</td><td>&quot;Česká republik…</td><td>2023.0</td><td>2023</td><td>&quot;P0533D110049&quot;</td><td>&quot;Aplikované ion…</td><td>&quot;P&quot;</td><td>&quot;D&quot;</td><td>&quot;D AIT2&quot;</td><td>null</td><td>null</td><td>null</td></tr><tr><td>&quot;PRF&quot;</td><td>1994</td><td>&quot;Česká republik…</td><td>41501</td><td>null</td><td>&quot;Teplice&quot;</td><td>null</td><td>&quot;Česká republik…</td><td>&quot;Gymnázium&quot;</td><td>&quot;Česká republik…</td><td>&quot;Teplice, Čs. d…</td><td>&quot;7941K41&quot;</td><td>2013</td><td>null</td><td>null</td><td>null</td><td>&quot;Univerzita Jan…</td><td>&quot;Univerzita Jan…</td><td>&quot;Česká republik…</td><td>2023.0</td><td>2023</td><td>&quot;P0719D110003&quot;</td><td>&quot;Aplikované nan…</td><td>&quot;P&quot;</td><td>&quot;D&quot;</td><td>&quot;D NANO1&quot;</td><td>null</td><td>null</td><td>null</td></tr><tr><td>&quot;PRF&quot;</td><td>1997</td><td>&quot;Česká republik…</td><td>40011</td><td>null</td><td>&quot;Ústí nad Labem…</td><td>null</td><td>&quot;Česká republik…</td><td>&quot;Gymnázium a SO…</td><td>&quot;Česká republik…</td><td>&quot;Ústí nad Labem…</td><td>&quot;7941K41&quot;</td><td>2017</td><td>null</td><td>null</td><td>null</td><td>&quot;Univerzita Jan…</td><td>&quot;Univerzita Jan…</td><td>&quot;Česká republik…</td><td>2023.0</td><td>2023</td><td>&quot;P0719D110003&quot;</td><td>&quot;Aplikované nan…</td><td>&quot;P&quot;</td><td>&quot;D&quot;</td><td>&quot;D NANO2&quot;</td><td>null</td><td>null</td><td>null</td></tr></tbody></table></div>"
      ],
      "text/plain": [
       "shape: (4_814, 29)\n",
       "┌────────────┬─────────┬──────────────┬──────────┬───┬──────────┬─────────┬─────────────┬──────────┐\n",
       "│ FAKULTA_SP ┆ ROK_NAR ┆ STAT_OBCANST ┆ PSC_BYDL ┆ … ┆ PR_NAZEV ┆ PR_OBOR ┆ PR_KOMBINAC ┆ SDRUZENE │\n",
       "│ ---        ┆ ---     ┆ VI           ┆ ---      ┆   ┆ ---      ┆ ---     ┆ E           ┆ ---      │\n",
       "│ str        ┆ i64     ┆ ---          ┆ i64      ┆   ┆ str      ┆ str     ┆ ---         ┆ str      │\n",
       "│            ┆         ┆ str          ┆          ┆   ┆          ┆         ┆ str         ┆          │\n",
       "╞════════════╪═════════╪══════════════╪══════════╪═══╪══════════╪═════════╪═════════════╪══════════╡\n",
       "│ PRF        ┆ 2000    ┆ Česká        ┆ 0        ┆ … ┆ MA AJ1   ┆ null    ┆ MA AJ       ┆ null     │\n",
       "│            ┆         ┆ republika    ┆          ┆   ┆          ┆         ┆             ┆          │\n",
       "│ PRF        ┆ 1999    ┆ Česká        ┆ 0        ┆ … ┆ MA BI1   ┆ null    ┆ MA  BI      ┆ null     │\n",
       "│            ┆         ┆ republika    ┆          ┆   ┆          ┆         ┆             ┆          │\n",
       "│ PRF        ┆ 0       ┆ Česká        ┆ 0        ┆ … ┆ MA BI1   ┆ null    ┆ MA  BI      ┆ null     │\n",
       "│            ┆         ┆ republika    ┆          ┆   ┆          ┆         ┆             ┆          │\n",
       "│ PRF        ┆ 1998    ┆ Česká        ┆ 41705    ┆ … ┆ MA BI1   ┆ null    ┆ MA  BI      ┆ null     │\n",
       "│            ┆         ┆ republika    ┆          ┆   ┆          ┆         ┆             ┆          │\n",
       "│ …          ┆ …       ┆ …            ┆ …        ┆ … ┆ …        ┆ …       ┆ …           ┆ …        │\n",
       "│ PRF        ┆ 1997    ┆ Česká        ┆ 41201    ┆ … ┆ D PMVT2  ┆ null    ┆ null        ┆ null     │\n",
       "│            ┆         ┆ republika    ┆          ┆   ┆          ┆         ┆             ┆          │\n",
       "│ PRF        ┆ 1997    ┆ Česká        ┆ 43921    ┆ … ┆ D AIT2   ┆ null    ┆ null        ┆ null     │\n",
       "│            ┆         ┆ republika    ┆          ┆   ┆          ┆         ┆             ┆          │\n",
       "│ PRF        ┆ 1994    ┆ Česká        ┆ 41501    ┆ … ┆ D NANO1  ┆ null    ┆ null        ┆ null     │\n",
       "│            ┆         ┆ republika    ┆          ┆   ┆          ┆         ┆             ┆          │\n",
       "│ PRF        ┆ 1997    ┆ Česká        ┆ 40011    ┆ … ┆ D NANO2  ┆ null    ┆ null        ┆ null     │\n",
       "│            ┆         ┆ republika    ┆          ┆   ┆          ┆         ┆             ┆          │\n",
       "└────────────┴─────────┴──────────────┴──────────┴───┴──────────┴─────────┴─────────────┴──────────┘"
      ]
     },
     "execution_count": 15,
     "metadata": {},
     "output_type": "execute_result"
    }
   ],
   "source": [
    "query = pl.col(\"STAT_OBCANSTVI\").str.contains(\"|\".join([\"Česká republika\", \"Slovenská republika\",\"Ukrajina\", \"Ruská federace\"]))\n",
    "lf.filter(query).collect()"
   ]
  },
  {
   "cell_type": "code",
   "execution_count": 16,
   "metadata": {},
   "outputs": [
    {
     "data": {
      "text/html": [
       "<div><style>\n",
       ".dataframe > thead > tr,\n",
       ".dataframe > tbody > tr {\n",
       "  text-align: right;\n",
       "  white-space: pre-wrap;\n",
       "}\n",
       "</style>\n",
       "<small>shape: (27, 29)</small><table border=\"1\" class=\"dataframe\"><thead><tr><th>FAKULTA_SP</th><th>ROK_NAR</th><th>STAT_OBCANSTVI</th><th>PSC_BYDL</th><th>PSC_CIZI</th><th>OBEC_BYDLISTE</th><th>OBEC_CIZI</th><th>STAT_BYDLISTE</th><th>NAZEV_S_SKOLY</th><th>STAT_S_SKOLY</th><th>ADRESA_S_SKOLY</th><th>CIS_OBORU</th><th>MATURITA</th><th>STRED_SKOLA_CIZI</th><th>STRED_SKOLA_CIZI_MISTO</th><th>STRED_SKOLA_CIZI_OBOR</th><th>VS_SKOLA</th><th>NAZEV_VS</th><th>STAT_VS</th><th>VS_ROK_ABSOL</th><th>ROK_PR</th><th>CISP_KOD</th><th>CZ_NAZEV</th><th>FORMA</th><th>TYP</th><th>PR_NAZEV</th><th>PR_OBOR</th><th>PR_KOMBINACE</th><th>SDRUZENE</th></tr><tr><td>str</td><td>i64</td><td>str</td><td>i64</td><td>str</td><td>str</td><td>str</td><td>str</td><td>str</td><td>str</td><td>str</td><td>str</td><td>i64</td><td>str</td><td>str</td><td>str</td><td>str</td><td>str</td><td>str</td><td>f64</td><td>i64</td><td>str</td><td>str</td><td>str</td><td>str</td><td>str</td><td>str</td><td>str</td><td>str</td></tr></thead><tbody><tr><td>&quot;PRF&quot;</td><td>0</td><td>&quot;Běloruská repu…</td><td>0</td><td>null</td><td>&quot;nevyplněno&quot;</td><td>null</td><td>&quot;Česká republik…</td><td>&quot;Zahraniční ško…</td><td>&quot;Běloruská repu…</td><td>null</td><td>null</td><td>2019</td><td>&quot;Lyceum&quot;</td><td>&quot;Novopolotsk&quot;</td><td>&quot;-&quot;</td><td>null</td><td>null</td><td>null</td><td>null</td><td>2020</td><td>&quot;B0541P170001&quot;</td><td>&quot;Matematika ve …</td><td>&quot;P&quot;</td><td>&quot;B&quot;</td><td>&quot;MFVS1&quot;</td><td>null</td><td>null</td><td>null</td></tr><tr><td>&quot;PRF&quot;</td><td>0</td><td>&quot;Ostatní&quot;</td><td>0</td><td>null</td><td>&quot;nevyplněno&quot;</td><td>null</td><td>&quot;Česká republik…</td><td>&quot;Zahraniční ško…</td><td>&quot;Ruská federace…</td><td>null</td><td>null</td><td>2018</td><td>&quot;Škola č.11&quot;</td><td>&quot;Puškino&quot;</td><td>&quot;Obyčejný&quot;</td><td>null</td><td>null</td><td>null</td><td>null</td><td>2019</td><td>&quot;B1101&quot;</td><td>&quot;Matematika&quot;</td><td>&quot;P&quot;</td><td>&quot;B&quot;</td><td>&quot;MPV1&quot;</td><td>&quot;1101R052 - MAv…</td><td>null</td><td>null</td></tr><tr><td>&quot;PRF&quot;</td><td>2000</td><td>&quot;Česká republik…</td><td>0</td><td>null</td><td>&quot;nevyplněno&quot;</td><td>null</td><td>&quot;Česká republik…</td><td>&quot;SŠ pedagogická…</td><td>&quot;Česká republik…</td><td>&quot;Litoměřice, Ko…</td><td>&quot;7531M01&quot;</td><td>2019</td><td>null</td><td>null</td><td>null</td><td>null</td><td>null</td><td>null</td><td>null</td><td>2019</td><td>&quot;B1101&quot;</td><td>&quot;Matematika&quot;</td><td>&quot;P&quot;</td><td>&quot;B&quot;</td><td>&quot;MA AJ1&quot;</td><td>null</td><td>&quot;MA AJ&quot;</td><td>null</td></tr><tr><td>&quot;PRF&quot;</td><td>2002</td><td>&quot;Afghánská islá…</td><td>0</td><td>null</td><td>&quot;nevyplněno&quot;</td><td>null</td><td>&quot;Česká republik…</td><td>&quot;Zahraniční ško…</td><td>&quot;Afghánská islá…</td><td>null</td><td>null</td><td>2021</td><td>&quot;omid high scho…</td><td>&quot;Wazir muhmmad …</td><td>&quot;general educat…</td><td>null</td><td>null</td><td>null</td><td>null</td><td>2022</td><td>&quot;B0613P140005&quot;</td><td>&quot;Aplikovaná inf…</td><td>&quot;P&quot;</td><td>&quot;B&quot;</td><td>&quot;API1&quot;</td><td>null</td><td>null</td><td>null</td></tr><tr><td>&quot;PRF&quot;</td><td>1993</td><td>&quot;Peruánská repu…</td><td>0</td><td>null</td><td>&quot;nevyplněno&quot;</td><td>null</td><td>&quot;Česká republik…</td><td>&quot;Zahraniční ško…</td><td>&quot;Peruánská repu…</td><td>null</td><td>null</td><td>2010</td><td>&quot;Colegio Nacion…</td><td>&quot;Trujillo&quot;</td><td>&quot;Gymnázium&quot;</td><td>&quot;UNIVERZITA KAR…</td><td>&quot;UNIVERZITA KAR…</td><td>&quot;Česká republik…</td><td>2018.0</td><td>2021</td><td>&quot;B0114A300120&quot;</td><td>&quot;Chemie pro vzd…</td><td>&quot;K&quot;</td><td>&quot;B&quot;</td><td>&quot;CHE BIpvK2&quot;</td><td>null</td><td>&quot;CHE BI pv KS&quot;</td><td>&quot;ANO&quot;</td></tr><tr><td>&quot;PRF&quot;</td><td>1995</td><td>&quot;Namibijská rep…</td><td>0</td><td>&quot;8890&quot;</td><td>&quot;nevyplněno&quot;</td><td>&quot;Windhoek&quot;</td><td>&quot;Namibijská rep…</td><td>&quot;Zahraniční ško…</td><td>&quot;Namibijská rep…</td><td>null</td><td>null</td><td>2013</td><td>&quot;Ongha Secondar…</td><td>&quot;Ohangwena&quot;</td><td>&quot;Věda&quot;</td><td>null</td><td>null</td><td>null</td><td>null</td><td>2023</td><td>&quot;B0613P140005&quot;</td><td>&quot;Aplikovaná inf…</td><td>&quot;K&quot;</td><td>&quot;B&quot;</td><td>&quot;APIK2&quot;</td><td>null</td><td>null</td><td>null</td></tr><tr><td>&quot;PRF&quot;</td><td>2004</td><td>&quot;Jemenská repub…</td><td>41501</td><td>null</td><td>&quot;Teplice&quot;</td><td>null</td><td>&quot;Česká republik…</td><td>&quot;Zahraniční ško…</td><td>&quot;Rumunsko&quot;</td><td>null</td><td>null</td><td>2022</td><td>&quot;Juraslem High …</td><td>&quot;Bukurešť&quot;</td><td>&quot;Science&quot;</td><td>null</td><td>null</td><td>null</td><td>null</td><td>2023</td><td>&quot;B0511A030020&quot;</td><td>&quot;Biologie&quot;</td><td>&quot;P&quot;</td><td>&quot;B&quot;</td><td>&quot;BI PS1&quot;</td><td>null</td><td>null</td><td>null</td></tr><tr><td>&quot;PRF&quot;</td><td>2000</td><td>&quot;Slovenská repu…</td><td>0</td><td>null</td><td>&quot;nevyplněno&quot;</td><td>null</td><td>&quot;Česká republik…</td><td>&quot;Zahraniční ško…</td><td>&quot;Slovenská repu…</td><td>null</td><td>null</td><td>2019</td><td>&quot;Obchodná akadé…</td><td>&quot;Poprad&quot;</td><td>&quot;Služby v Cesto…</td><td>null</td><td>null</td><td>null</td><td>null</td><td>2019</td><td>&quot;B1301&quot;</td><td>&quot;Geografie&quot;</td><td>&quot;P&quot;</td><td>&quot;B&quot;</td><td>&quot;GSE1&quot;</td><td>&quot;1301R019 - GSE…</td><td>null</td><td>null</td></tr><tr><td>&quot;PRF&quot;</td><td>1994</td><td>&quot;Egyptská arabs…</td><td>32300</td><td>null</td><td>&quot;Plzeň&quot;</td><td>null</td><td>&quot;Česká republik…</td><td>&quot;Zahraniční ško…</td><td>&quot;Egyptská arabs…</td><td>null</td><td>null</td><td>2012</td><td>&quot;el kelamena&quot;</td><td>&quot;Qena&quot;</td><td>&quot;obecny&quot;</td><td>null</td><td>null</td><td>null</td><td>null</td><td>2023</td><td>&quot;B0532A330032&quot;</td><td>&quot;Geografie&quot;</td><td>&quot;P&quot;</td><td>&quot;B&quot;</td><td>&quot;GEO2&quot;</td><td>null</td><td>null</td><td>null</td></tr><tr><td>&quot;PRF&quot;</td><td>2001</td><td>&quot;Moldavská repu…</td><td>0</td><td>null</td><td>&quot;nevyplněno&quot;</td><td>null</td><td>&quot;Česká republik…</td><td>&quot;Zahraniční ško…</td><td>&quot;Moldavská repu…</td><td>null</td><td>null</td><td>2020</td><td>&quot;Bulharský Teor…</td><td>&quot;kišiněv&quot;</td><td>&quot;-&quot;</td><td>null</td><td>null</td><td>null</td><td>null</td><td>2021</td><td>&quot;B1501&quot;</td><td>&quot;Biologie&quot;</td><td>&quot;P&quot;</td><td>&quot;B&quot;</td><td>&quot;BI PS2&quot;</td><td>&quot;1501R001 - BI …</td><td>null</td><td>null</td></tr><tr><td>&quot;PRF&quot;</td><td>0</td><td>&quot;Libanonská rep…</td><td>0</td><td>null</td><td>&quot;nevyplněno&quot;</td><td>null</td><td>&quot;Česká republik…</td><td>&quot;Zahraniční ško…</td><td>&quot;Libanonská rep…</td><td>null</td><td>null</td><td>2017</td><td>&quot;Alssabbah high…</td><td>&quot;Nabatieh&quot;</td><td>&quot;Generál scienc…</td><td>null</td><td>null</td><td>null</td><td>null</td><td>2019</td><td>&quot;B1407&quot;</td><td>&quot;Chemie&quot;</td><td>&quot;P&quot;</td><td>&quot;B&quot;</td><td>&quot;CHE TV1&quot;</td><td>null</td><td>&quot;CHE TV&quot;</td><td>null</td></tr><tr><td>&quot;PRF&quot;</td><td>1994</td><td>&quot;Maďarsko&quot;</td><td>0</td><td>null</td><td>&quot;nevyplněno&quot;</td><td>null</td><td>&quot;Česká republik…</td><td>&quot;Zahraniční ško…</td><td>&quot;Ukrajina&quot;</td><td>null</td><td>null</td><td>2011</td><td>&quot;I-III st&quot;</td><td>&quot;Tačiv&quot;</td><td>&quot;-&quot;</td><td>null</td><td>null</td><td>null</td><td>null</td><td>2022</td><td>&quot;B0613P140005&quot;</td><td>&quot;Aplikovaná inf…</td><td>&quot;K&quot;</td><td>&quot;B&quot;</td><td>&quot;APIK1&quot;</td><td>null</td><td>null</td><td>null</td></tr><tr><td>&hellip;</td><td>&hellip;</td><td>&hellip;</td><td>&hellip;</td><td>&hellip;</td><td>&hellip;</td><td>&hellip;</td><td>&hellip;</td><td>&hellip;</td><td>&hellip;</td><td>&hellip;</td><td>&hellip;</td><td>&hellip;</td><td>&hellip;</td><td>&hellip;</td><td>&hellip;</td><td>&hellip;</td><td>&hellip;</td><td>&hellip;</td><td>&hellip;</td><td>&hellip;</td><td>&hellip;</td><td>&hellip;</td><td>&hellip;</td><td>&hellip;</td><td>&hellip;</td><td>&hellip;</td><td>&hellip;</td><td>&hellip;</td></tr><tr><td>&quot;PRF&quot;</td><td>1997</td><td>&quot;Íránská isláms…</td><td>0</td><td>&quot;1548944858&quot;</td><td>&quot;nevyplněno&quot;</td><td>&quot;Shiraz&quot;</td><td>&quot;Íránská isláms…</td><td>&quot;Zahraniční ško…</td><td>&quot;Íránská isláms…</td><td>null</td><td>null</td><td>2016</td><td>&quot;Yas&quot;</td><td>&quot;Shiraz&quot;</td><td>&quot;Všeobecný&quot;</td><td>null</td><td>null</td><td>null</td><td>null</td><td>2023</td><td>&quot;B0511A030020&quot;</td><td>&quot;Biologie&quot;</td><td>&quot;P&quot;</td><td>&quot;B&quot;</td><td>&quot;BI PS1&quot;</td><td>null</td><td>null</td><td>null</td></tr><tr><td>&quot;PRF&quot;</td><td>1999</td><td>&quot;Republika Uzbe…</td><td>0</td><td>&quot;160106&quot;</td><td>&quot;nevyplněno&quot;</td><td>&quot;Namangan&quot;</td><td>&quot;Republika Uzbe…</td><td>&quot;Zahraniční ško…</td><td>&quot;Republika Uzbe…</td><td>null</td><td>null</td><td>2015</td><td>&quot;střední škola …</td><td>&quot;Namangan&quot;</td><td>&quot;Všeobecná&quot;</td><td>&quot;Kazaňská (Přív…</td><td>null</td><td>null</td><td>2022.0</td><td>2023</td><td>&quot;N0613P140003&quot;</td><td>&quot;Aplikovaná inf…</td><td>&quot;P&quot;</td><td>&quot;N&quot;</td><td>&quot;N API1&quot;</td><td>null</td><td>null</td><td>null</td></tr><tr><td>&quot;PRF&quot;</td><td>0</td><td>&quot;Ázerbájdžánská…</td><td>0</td><td>null</td><td>&quot;nevyplněno&quot;</td><td>null</td><td>&quot;Česká republik…</td><td>&quot;Zahraniční ško…</td><td>&quot;Ázerbájdžánská…</td><td>null</td><td>null</td><td>2017</td><td>&quot;Úplná střední …</td><td>&quot;Baku&quot;</td><td>&quot;bez zaměření&quot;</td><td>null</td><td>null</td><td>null</td><td>null</td><td>2020</td><td>&quot;B1802&quot;</td><td>&quot;Aplikovaná inf…</td><td>&quot;P&quot;</td><td>&quot;B&quot;</td><td>&quot;IS1&quot;</td><td>&quot;1802R006 - IS&quot;</td><td>null</td><td>null</td></tr><tr><td>&quot;PRF&quot;</td><td>0</td><td>&quot;Vietnamská soc…</td><td>0</td><td>null</td><td>&quot;nevyplněno&quot;</td><td>null</td><td>&quot;Česká republik…</td><td>&quot;Zahraniční ško…</td><td>&quot;Vietnamská soc…</td><td>null</td><td>null</td><td>2010</td><td>&quot;Hadong&quot;</td><td>&quot;Hanoj&quot;</td><td>&quot;gymnázium&quot;</td><td>null</td><td>null</td><td>null</td><td>null</td><td>2019</td><td>&quot;B1101&quot;</td><td>&quot;Matematika&quot;</td><td>&quot;P&quot;</td><td>&quot;B&quot;</td><td>&quot;MPV1&quot;</td><td>&quot;1101R052 - MAv…</td><td>null</td><td>null</td></tr><tr><td>&quot;PRF&quot;</td><td>1993</td><td>&quot;Spolková repub…</td><td>40011</td><td>null</td><td>&quot;Ústí nad Labem…</td><td>null</td><td>&quot;Česká republik…</td><td>&quot;Zahraniční ško…</td><td>&quot;Spolková repub…</td><td>null</td><td>null</td><td>2011</td><td>&quot;Otto-Nagel-Gym…</td><td>&quot;Berlin&quot;</td><td>null</td><td>&quot;TU Dresden&quot;</td><td>null</td><td>null</td><td>2017.0</td><td>2023</td><td>&quot;N0613P140003&quot;</td><td>&quot;Aplikovaná inf…</td><td>&quot;K&quot;</td><td>&quot;N&quot;</td><td>&quot;N APIK1&quot;</td><td>null</td><td>null</td><td>null</td></tr><tr><td>&quot;PRF&quot;</td><td>2004</td><td>&quot;Arménská repub…</td><td>0</td><td>&quot;0025&quot;</td><td>&quot;nevyplněno&quot;</td><td>&quot;Yerevan&quot;</td><td>&quot;Arménská repub…</td><td>&quot;Zahraniční ško…</td><td>&quot;Arménská repub…</td><td>null</td><td>null</td><td>2022</td><td>&quot;Stará škola A.…</td><td>&quot;Yerevan&quot;</td><td>&quot;neni&quot;</td><td>null</td><td>null</td><td>null</td><td>null</td><td>2023</td><td>&quot;B0511A030020&quot;</td><td>&quot;Biologie&quot;</td><td>&quot;P&quot;</td><td>&quot;B&quot;</td><td>&quot;BI PS2&quot;</td><td>null</td><td>null</td><td>null</td></tr><tr><td>&quot;PRF&quot;</td><td>0</td><td>&quot;Kyrgyzská repu…</td><td>0</td><td>null</td><td>&quot;nevyplněno&quot;</td><td>null</td><td>&quot;Česká republik…</td><td>&quot;Zahraniční ško…</td><td>&quot;Kyrgyzská repu…</td><td>null</td><td>null</td><td>2013</td><td>&quot;Fakultní škola…</td><td>&quot;Biškek&quot;</td><td>&quot;Všeobecná&quot;</td><td>&quot;Kyrgyzské stát…</td><td>null</td><td>null</td><td>2019.0</td><td>2020</td><td>&quot;N0719A110004&quot;</td><td>&quot;Aplikované nan…</td><td>&quot;P&quot;</td><td>&quot;N&quot;</td><td>&quot;N NANO1&quot;</td><td>null</td><td>null</td><td>null</td></tr><tr><td>&quot;PRF&quot;</td><td>0</td><td>&quot;Ruská federace…</td><td>0</td><td>null</td><td>&quot;nevyplněno&quot;</td><td>null</td><td>&quot;Česká republik…</td><td>&quot;Zahraniční ško…</td><td>&quot;Ukrajina&quot;</td><td>null</td><td>null</td><td>2019</td><td>&quot;Oděské ekonomi…</td><td>&quot;Oděsa&quot;</td><td>&quot;bez oboru&quot;</td><td>null</td><td>null</td><td>null</td><td>null</td><td>2019</td><td>&quot;B1407&quot;</td><td>&quot;Chemie&quot;</td><td>&quot;P&quot;</td><td>&quot;B&quot;</td><td>&quot;TOX2&quot;</td><td>&quot;1407R016 - TOX…</td><td>null</td><td>null</td></tr><tr><td>&quot;PRF&quot;</td><td>0</td><td>&quot;Republika Kaza…</td><td>0</td><td>null</td><td>&quot;nevyplněno&quot;</td><td>null</td><td>&quot;Česká republik…</td><td>&quot;Zahraniční ško…</td><td>&quot;Republika Kaza…</td><td>null</td><td>null</td><td>2018</td><td>&quot;škola-lyceum 8…</td><td>&quot;Astana&quot;</td><td>&quot;všeobecný&quot;</td><td>null</td><td>null</td><td>null</td><td>null</td><td>2019</td><td>&quot;B1702&quot;</td><td>&quot;Aplikovaná fyz…</td><td>&quot;P&quot;</td><td>&quot;B&quot;</td><td>&quot;NANO1&quot;</td><td>&quot;1702R024 - NAN…</td><td>null</td><td>null</td></tr><tr><td>&quot;PRF&quot;</td><td>1999</td><td>&quot;Stát Izrael&quot;</td><td>0</td><td>null</td><td>&quot;nevyplněno&quot;</td><td>null</td><td>&quot;Česká republik…</td><td>&quot;AKADEMIA Gy, Z…</td><td>&quot;Česká republik…</td><td>&quot;Brno, Rašelino…</td><td>&quot;7941K81&quot;</td><td>2022</td><td>null</td><td>null</td><td>null</td><td>null</td><td>null</td><td>null</td><td>null</td><td>2022</td><td>&quot;B0613P140005&quot;</td><td>&quot;Aplikovaná inf…</td><td>&quot;K&quot;</td><td>&quot;B&quot;</td><td>&quot;APIK1&quot;</td><td>null</td><td>null</td><td>null</td></tr><tr><td>&quot;PRF&quot;</td><td>0</td><td>&quot;Ukrajina&quot;</td><td>0</td><td>null</td><td>&quot;nevyplněno&quot;</td><td>null</td><td>&quot;Česká republik…</td><td>&quot;Zahraniční ško…</td><td>&quot;Ukrajina&quot;</td><td>null</td><td>null</td><td>2019</td><td>&quot;Primorské lyce…</td><td>&quot;Oděsa&quot;</td><td>&quot;chemie a biolo…</td><td>null</td><td>null</td><td>null</td><td>null</td><td>2019</td><td>&quot;B1407&quot;</td><td>&quot;Chemie&quot;</td><td>&quot;P&quot;</td><td>&quot;B&quot;</td><td>&quot;TOX2&quot;</td><td>&quot;1407R016 - TOX…</td><td>null</td><td>null</td></tr><tr><td>&quot;PRF&quot;</td><td>0</td><td>&quot;Indonéská repu…</td><td>0</td><td>null</td><td>&quot;nevyplněno&quot;</td><td>null</td><td>&quot;Česká republik…</td><td>&quot;Zahraniční ško…</td><td>&quot;Indonéská repu…</td><td>null</td><td>null</td><td>2020</td><td>&quot;SMA brawijaya …</td><td>&quot;malang&quot;</td><td>&quot;IPA ( Science …</td><td>null</td><td>null</td><td>null</td><td>null</td><td>2020</td><td>&quot;B1702&quot;</td><td>&quot;Applied Physic…</td><td>&quot;P&quot;</td><td>&quot;B&quot;</td><td>&quot;ACM1&quot;</td><td>&quot;1802R039 - ACM…</td><td>null</td><td>null</td></tr></tbody></table></div>"
      ],
      "text/plain": [
       "shape: (27, 29)\n",
       "┌────────────┬─────────┬────────────┬──────────┬───┬──────────┬────────────┬────────────┬──────────┐\n",
       "│ FAKULTA_SP ┆ ROK_NAR ┆ STAT_OBCAN ┆ PSC_BYDL ┆ … ┆ PR_NAZEV ┆ PR_OBOR    ┆ PR_KOMBINA ┆ SDRUZENE │\n",
       "│ ---        ┆ ---     ┆ STVI       ┆ ---      ┆   ┆ ---      ┆ ---        ┆ CE         ┆ ---      │\n",
       "│ str        ┆ i64     ┆ ---        ┆ i64      ┆   ┆ str      ┆ str        ┆ ---        ┆ str      │\n",
       "│            ┆         ┆ str        ┆          ┆   ┆          ┆            ┆ str        ┆          │\n",
       "╞════════════╪═════════╪════════════╪══════════╪═══╪══════════╪════════════╪════════════╪══════════╡\n",
       "│ PRF        ┆ 0       ┆ Běloruská  ┆ 0        ┆ … ┆ MFVS1    ┆ null       ┆ null       ┆ null     │\n",
       "│            ┆         ┆ republika  ┆          ┆   ┆          ┆            ┆            ┆          │\n",
       "│ PRF        ┆ 0       ┆ Ostatní    ┆ 0        ┆ … ┆ MPV1     ┆ 1101R052 - ┆ null       ┆ null     │\n",
       "│            ┆         ┆            ┆          ┆   ┆          ┆ MAvPV      ┆            ┆          │\n",
       "│ PRF        ┆ 2000    ┆ Česká      ┆ 0        ┆ … ┆ MA AJ1   ┆ null       ┆ MA AJ      ┆ null     │\n",
       "│            ┆         ┆ republika  ┆          ┆   ┆          ┆            ┆            ┆          │\n",
       "│ PRF        ┆ 2002    ┆ Afghánská  ┆ 0        ┆ … ┆ API1     ┆ null       ┆ null       ┆ null     │\n",
       "│            ┆         ┆ islámská   ┆          ┆   ┆          ┆            ┆            ┆          │\n",
       "│            ┆         ┆ republika  ┆          ┆   ┆          ┆            ┆            ┆          │\n",
       "│ …          ┆ …       ┆ …          ┆ …        ┆ … ┆ …        ┆ …          ┆ …          ┆ …        │\n",
       "│ PRF        ┆ 0       ┆ Republika  ┆ 0        ┆ … ┆ NANO1    ┆ 1702R024 - ┆ null       ┆ null     │\n",
       "│            ┆         ┆ Kazachstán ┆          ┆   ┆          ┆ NANO       ┆            ┆          │\n",
       "│ PRF        ┆ 1999    ┆ Stát       ┆ 0        ┆ … ┆ APIK1    ┆ null       ┆ null       ┆ null     │\n",
       "│            ┆         ┆ Izrael     ┆          ┆   ┆          ┆            ┆            ┆          │\n",
       "│ PRF        ┆ 0       ┆ Ukrajina   ┆ 0        ┆ … ┆ TOX2     ┆ 1407R016 - ┆ null       ┆ null     │\n",
       "│            ┆         ┆            ┆          ┆   ┆          ┆ TOX        ┆            ┆          │\n",
       "│ PRF        ┆ 0       ┆ Indonéská  ┆ 0        ┆ … ┆ ACM1     ┆ 1802R039 - ┆ null       ┆ null     │\n",
       "│            ┆         ┆ republika  ┆          ┆   ┆          ┆ ACM        ┆            ┆          │\n",
       "└────────────┴─────────┴────────────┴──────────┴───┴──────────┴────────────┴────────────┴──────────┘"
      ]
     },
     "execution_count": 16,
     "metadata": {},
     "output_type": "execute_result"
    }
   ],
   "source": [
    "lf.unique(\"STAT_OBCANSTVI\").collect()"
   ]
  },
  {
   "cell_type": "code",
   "execution_count": null,
   "metadata": {},
   "outputs": [],
   "source": []
  }
 ],
 "metadata": {
  "kernelspec": {
   "display_name": "pas-OATAXOQU-py3.10",
   "language": "python",
   "name": "python3"
  },
  "language_info": {
   "codemirror_mode": {
    "name": "ipython",
    "version": 3
   },
   "file_extension": ".py",
   "mimetype": "text/x-python",
   "name": "python",
   "nbconvert_exporter": "python",
   "pygments_lexer": "ipython3",
   "version": "3.10.12"
  }
 },
 "nbformat": 4,
 "nbformat_minor": 2
}
