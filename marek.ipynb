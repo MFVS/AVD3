{
 "cells": [
  {
   "cell_type": "code",
   "execution_count": 1,
   "metadata": {},
   "outputs": [
    {
     "name": "stdout",
     "output_type": "stream",
     "text": [
      "Requirement already satisfied: pandas in /home/nexovec/.cache/pypoetry/virtualenvs/pas-OATAXOQU-py3.10/lib/python3.10/site-packages (2.1.2)\n",
      "Requirement already satisfied: polars[all] in /home/nexovec/.cache/pypoetry/virtualenvs/pas-OATAXOQU-py3.10/lib/python3.10/site-packages (0.19.12)\n",
      "Requirement already satisfied: numpy<2,>=1.22.4 in /home/nexovec/.cache/pypoetry/virtualenvs/pas-OATAXOQU-py3.10/lib/python3.10/site-packages (from pandas) (1.25.2)\n",
      "Requirement already satisfied: python-dateutil>=2.8.2 in /home/nexovec/.cache/pypoetry/virtualenvs/pas-OATAXOQU-py3.10/lib/python3.10/site-packages (from pandas) (2.8.2)\n",
      "Requirement already satisfied: pytz>=2020.1 in /home/nexovec/.cache/pypoetry/virtualenvs/pas-OATAXOQU-py3.10/lib/python3.10/site-packages (from pandas) (2023.3.post1)\n",
      "Requirement already satisfied: tzdata>=2022.1 in /home/nexovec/.cache/pypoetry/virtualenvs/pas-OATAXOQU-py3.10/lib/python3.10/site-packages (from pandas) (2023.3)\n",
      "Requirement already satisfied: six>=1.5 in /home/nexovec/.cache/pypoetry/virtualenvs/pas-OATAXOQU-py3.10/lib/python3.10/site-packages (from python-dateutil>=2.8.2->pandas) (1.16.0)\n",
      "Collecting matplotlib (from polars[all])\n",
      "  Using cached matplotlib-3.8.1-cp310-cp310-manylinux_2_17_x86_64.manylinux2014_x86_64.whl.metadata (5.8 kB)\n",
      "Collecting adbc_driver_sqlite (from polars[all])\n",
      "  Using cached adbc_driver_sqlite-0.7.0-py3-none-manylinux_2_17_x86_64.manylinux2014_x86_64.whl.metadata (2.9 kB)\n",
      "Collecting gevent (from polars[all])\n",
      "  Using cached gevent-23.9.1-cp310-cp310-manylinux_2_28_x86_64.whl.metadata (13 kB)\n",
      "Collecting deltalake>=0.10.0 (from polars[all])\n",
      "  Downloading deltalake-0.13.0-cp37-abi3-manylinux_2_17_x86_64.manylinux2014_x86_64.whl.metadata (5.0 kB)\n",
      "Collecting pyarrow>=7.0.0 (from polars[all])\n",
      "  Using cached pyarrow-14.0.0-cp310-cp310-manylinux_2_28_x86_64.whl.metadata (3.0 kB)\n",
      "Collecting pydantic (from polars[all])\n",
      "  Using cached pydantic-2.4.2-py3-none-any.whl.metadata (158 kB)\n",
      "Collecting cloudpickle (from polars[all])\n",
      "  Using cached cloudpickle-3.0.0-py3-none-any.whl.metadata (7.0 kB)\n",
      "Collecting fsspec (from polars[all])\n",
      "  Using cached fsspec-2023.10.0-py3-none-any.whl.metadata (6.8 kB)\n",
      "Collecting pyiceberg>=0.5.0 (from polars[all])\n",
      "  Using cached pyiceberg-0.5.1-cp310-cp310-manylinux_2_17_x86_64.manylinux2014_x86_64.whl.metadata (3.6 kB)\n",
      "Collecting connectorx (from polars[all])\n",
      "  Using cached connectorx-0.3.2-cp310-cp310-manylinux_2_28_x86_64.whl.metadata (8.7 kB)\n",
      "Collecting sqlalchemy (from polars[all])\n",
      "  Using cached SQLAlchemy-2.0.23-cp310-cp310-manylinux_2_17_x86_64.manylinux2014_x86_64.whl.metadata (9.6 kB)\n",
      "Collecting xlsxwriter (from polars[all])\n",
      "  Using cached XlsxWriter-3.1.9-py3-none-any.whl.metadata (2.6 kB)\n",
      "Collecting xlsx2csv>=0.8.0 (from polars[all])\n",
      "  Using cached xlsx2csv-0.8.1-py3-none-any.whl (13 kB)\n",
      "Collecting click<9.0.0,>=7.1.1 (from pyiceberg>=0.5.0->polars[all])\n",
      "  Using cached click-8.1.7-py3-none-any.whl.metadata (3.0 kB)\n",
      "Collecting mmhash3<4.0.0,>=3.0.0 (from pyiceberg>=0.5.0->polars[all])\n",
      "  Using cached mmhash3-3.0.1-cp310-cp310-manylinux_2_5_x86_64.manylinux1_x86_64.manylinux_2_17_x86_64.manylinux2014_x86_64.whl (38 kB)\n",
      "Collecting pyparsing<4.0.0,>=3.1.0 (from pyiceberg>=0.5.0->polars[all])\n",
      "  Using cached pyparsing-3.1.1-py3-none-any.whl.metadata (5.1 kB)\n",
      "Requirement already satisfied: requests<3.0.0,>=2.20.0 in /home/nexovec/.cache/pypoetry/virtualenvs/pas-OATAXOQU-py3.10/lib/python3.10/site-packages (from pyiceberg>=0.5.0->polars[all]) (2.31.0)\n",
      "Collecting rich<14.0.0,>=10.11.0 (from pyiceberg>=0.5.0->polars[all])\n",
      "  Using cached rich-13.6.0-py3-none-any.whl.metadata (18 kB)\n",
      "Collecting sortedcontainers==2.4.0 (from pyiceberg>=0.5.0->polars[all])\n",
      "  Using cached sortedcontainers-2.4.0-py2.py3-none-any.whl (29 kB)\n",
      "Collecting strictyaml<2.0.0,>=1.7.0 (from pyiceberg>=0.5.0->polars[all])\n",
      "  Using cached strictyaml-1.7.3-py3-none-any.whl (123 kB)\n",
      "Collecting annotated-types>=0.4.0 (from pydantic->polars[all])\n",
      "  Using cached annotated_types-0.6.0-py3-none-any.whl.metadata (12 kB)\n",
      "Collecting pydantic-core==2.10.1 (from pydantic->polars[all])\n",
      "  Using cached pydantic_core-2.10.1-cp310-cp310-manylinux_2_17_x86_64.manylinux2014_x86_64.whl.metadata (6.5 kB)\n",
      "Requirement already satisfied: typing-extensions>=4.6.1 in /home/nexovec/.cache/pypoetry/virtualenvs/pas-OATAXOQU-py3.10/lib/python3.10/site-packages (from pydantic->polars[all]) (4.8.0)\n",
      "Collecting adbc-driver-manager (from adbc_driver_sqlite->polars[all])\n",
      "  Using cached adbc_driver_manager-0.7.0-cp310-cp310-manylinux_2_17_x86_64.manylinux2014_x86_64.whl.metadata (2.7 kB)\n",
      "Collecting zope.event (from gevent->polars[all])\n",
      "  Using cached zope.event-5.0-py3-none-any.whl.metadata (4.4 kB)\n",
      "Collecting zope.interface (from gevent->polars[all])\n",
      "  Using cached zope.interface-6.1-cp310-cp310-manylinux_2_5_x86_64.manylinux1_x86_64.manylinux_2_17_x86_64.manylinux2014_x86_64.whl.metadata (41 kB)\n",
      "Collecting greenlet>=2.0.0 (from gevent->polars[all])\n",
      "  Using cached greenlet-3.0.1-cp310-cp310-manylinux_2_24_x86_64.manylinux_2_28_x86_64.whl.metadata (3.7 kB)\n",
      "Collecting contourpy>=1.0.1 (from matplotlib->polars[all])\n",
      "  Downloading contourpy-1.2.0-cp310-cp310-manylinux_2_17_x86_64.manylinux2014_x86_64.whl.metadata (5.8 kB)\n",
      "Collecting cycler>=0.10 (from matplotlib->polars[all])\n",
      "  Using cached cycler-0.12.1-py3-none-any.whl.metadata (3.8 kB)\n",
      "Collecting fonttools>=4.22.0 (from matplotlib->polars[all])\n",
      "  Downloading fonttools-4.44.0-cp310-cp310-manylinux_2_17_x86_64.manylinux2014_x86_64.whl.metadata (153 kB)\n",
      "\u001b[2K     \u001b[90m━━━━━━━━━━━━━━━━━━━━━━━━━━━━━━━━━━━━━━━\u001b[0m \u001b[32m153.6/153.6 kB\u001b[0m \u001b[31m4.3 MB/s\u001b[0m eta \u001b[36m0:00:00\u001b[0m00:01\u001b[0m\n",
      "\u001b[?25hCollecting kiwisolver>=1.3.1 (from matplotlib->polars[all])\n",
      "  Using cached kiwisolver-1.4.5-cp310-cp310-manylinux_2_12_x86_64.manylinux2010_x86_64.whl.metadata (6.4 kB)\n",
      "Requirement already satisfied: packaging>=20.0 in /home/nexovec/.cache/pypoetry/virtualenvs/pas-OATAXOQU-py3.10/lib/python3.10/site-packages (from matplotlib->polars[all]) (23.2)\n",
      "Collecting pillow>=8 (from matplotlib->polars[all])\n",
      "  Using cached Pillow-10.1.0-cp310-cp310-manylinux_2_28_x86_64.whl.metadata (9.5 kB)\n",
      "Requirement already satisfied: charset-normalizer<4,>=2 in /home/nexovec/.cache/pypoetry/virtualenvs/pas-OATAXOQU-py3.10/lib/python3.10/site-packages (from requests<3.0.0,>=2.20.0->pyiceberg>=0.5.0->polars[all]) (3.3.2)\n",
      "Requirement already satisfied: idna<4,>=2.5 in /home/nexovec/.cache/pypoetry/virtualenvs/pas-OATAXOQU-py3.10/lib/python3.10/site-packages (from requests<3.0.0,>=2.20.0->pyiceberg>=0.5.0->polars[all]) (3.4)\n",
      "Requirement already satisfied: urllib3<3,>=1.21.1 in /home/nexovec/.cache/pypoetry/virtualenvs/pas-OATAXOQU-py3.10/lib/python3.10/site-packages (from requests<3.0.0,>=2.20.0->pyiceberg>=0.5.0->polars[all]) (2.0.7)\n",
      "Requirement already satisfied: certifi>=2017.4.17 in /home/nexovec/.cache/pypoetry/virtualenvs/pas-OATAXOQU-py3.10/lib/python3.10/site-packages (from requests<3.0.0,>=2.20.0->pyiceberg>=0.5.0->polars[all]) (2023.7.22)\n",
      "Collecting markdown-it-py>=2.2.0 (from rich<14.0.0,>=10.11.0->pyiceberg>=0.5.0->polars[all])\n",
      "  Using cached markdown_it_py-3.0.0-py3-none-any.whl.metadata (6.9 kB)\n",
      "Requirement already satisfied: pygments<3.0.0,>=2.13.0 in /home/nexovec/.cache/pypoetry/virtualenvs/pas-OATAXOQU-py3.10/lib/python3.10/site-packages (from rich<14.0.0,>=10.11.0->pyiceberg>=0.5.0->polars[all]) (2.16.1)\n",
      "Requirement already satisfied: setuptools in /home/nexovec/.cache/pypoetry/virtualenvs/pas-OATAXOQU-py3.10/lib/python3.10/site-packages (from zope.event->gevent->polars[all]) (68.2.2)\n",
      "Collecting mdurl~=0.1 (from markdown-it-py>=2.2.0->rich<14.0.0,>=10.11.0->pyiceberg>=0.5.0->polars[all])\n",
      "  Using cached mdurl-0.1.2-py3-none-any.whl (10.0 kB)\n",
      "Downloading deltalake-0.13.0-cp37-abi3-manylinux_2_17_x86_64.manylinux2014_x86_64.whl (22.6 MB)\n",
      "\u001b[2K   \u001b[90m━━━━━━━━━━━━━━━━━━━━━━━━━━━━━━━━━━━━━━━━\u001b[0m \u001b[32m22.6/22.6 MB\u001b[0m \u001b[31m10.2 MB/s\u001b[0m eta \u001b[36m0:00:00\u001b[0m00:01\u001b[0m00:01\u001b[0m\n",
      "\u001b[?25hDownloading pyarrow-14.0.0-cp310-cp310-manylinux_2_28_x86_64.whl (38.0 MB)\n",
      "\u001b[2K   \u001b[90m━━━━━━━━━━━━━━━━━━━━━━━━━━━━━━━━━━━━━━━━\u001b[0m \u001b[32m38.0/38.0 MB\u001b[0m \u001b[31m10.6 MB/s\u001b[0m eta \u001b[36m0:00:00\u001b[0m00:01\u001b[0m00:01\u001b[0m\n",
      "\u001b[?25hUsing cached pyiceberg-0.5.1-cp310-cp310-manylinux_2_17_x86_64.manylinux2014_x86_64.whl (936 kB)\n",
      "Using cached fsspec-2023.10.0-py3-none-any.whl (166 kB)\n",
      "Using cached pydantic-2.4.2-py3-none-any.whl (395 kB)\n",
      "Using cached pydantic_core-2.10.1-cp310-cp310-manylinux_2_17_x86_64.manylinux2014_x86_64.whl (2.0 MB)\n",
      "Using cached adbc_driver_sqlite-0.7.0-py3-none-manylinux_2_17_x86_64.manylinux2014_x86_64.whl (731 kB)\n",
      "Using cached cloudpickle-3.0.0-py3-none-any.whl (20 kB)\n",
      "Using cached connectorx-0.3.2-cp310-cp310-manylinux_2_28_x86_64.whl (50.8 MB)\n",
      "Using cached gevent-23.9.1-cp310-cp310-manylinux_2_28_x86_64.whl (6.4 MB)\n",
      "Using cached matplotlib-3.8.1-cp310-cp310-manylinux_2_17_x86_64.manylinux2014_x86_64.whl (11.6 MB)\n",
      "Using cached SQLAlchemy-2.0.23-cp310-cp310-manylinux_2_17_x86_64.manylinux2014_x86_64.whl (3.0 MB)\n",
      "Using cached XlsxWriter-3.1.9-py3-none-any.whl (154 kB)\n",
      "Using cached annotated_types-0.6.0-py3-none-any.whl (12 kB)\n",
      "Using cached click-8.1.7-py3-none-any.whl (97 kB)\n",
      "Downloading contourpy-1.2.0-cp310-cp310-manylinux_2_17_x86_64.manylinux2014_x86_64.whl (310 kB)\n",
      "\u001b[2K   \u001b[90m━━━━━━━━━━━━━━━━━━━━━━━━━━━━━━━━━━━━━━━━\u001b[0m \u001b[32m310.7/310.7 kB\u001b[0m \u001b[31m10.7 MB/s\u001b[0m eta \u001b[36m0:00:00\u001b[0m\n",
      "\u001b[?25hUsing cached cycler-0.12.1-py3-none-any.whl (8.3 kB)\n",
      "Downloading fonttools-4.44.0-cp310-cp310-manylinux_2_17_x86_64.manylinux2014_x86_64.whl (4.5 MB)\n",
      "\u001b[2K   \u001b[90m━━━━━━━━━━━━━━━━━━━━━━━━━━━━━━━━━━━━━━━━\u001b[0m \u001b[32m4.5/4.5 MB\u001b[0m \u001b[31m11.7 MB/s\u001b[0m eta \u001b[36m0:00:00\u001b[0ma \u001b[36m0:00:01\u001b[0m\n",
      "\u001b[?25hUsing cached greenlet-3.0.1-cp310-cp310-manylinux_2_24_x86_64.manylinux_2_28_x86_64.whl (613 kB)\n",
      "Using cached kiwisolver-1.4.5-cp310-cp310-manylinux_2_12_x86_64.manylinux2010_x86_64.whl (1.6 MB)\n",
      "Using cached Pillow-10.1.0-cp310-cp310-manylinux_2_28_x86_64.whl (3.6 MB)\n",
      "Using cached pyparsing-3.1.1-py3-none-any.whl (103 kB)\n",
      "Using cached rich-13.6.0-py3-none-any.whl (239 kB)\n",
      "Using cached adbc_driver_manager-0.7.0-cp310-cp310-manylinux_2_17_x86_64.manylinux2014_x86_64.whl (1.3 MB)\n",
      "Using cached zope.event-5.0-py3-none-any.whl (6.8 kB)\n",
      "Using cached zope.interface-6.1-cp310-cp310-manylinux_2_5_x86_64.manylinux1_x86_64.manylinux_2_17_x86_64.manylinux2014_x86_64.whl (247 kB)\n",
      "Using cached markdown_it_py-3.0.0-py3-none-any.whl (87 kB)\n",
      "Installing collected packages: xlsx2csv, sortedcontainers, mmhash3, connectorx, zope.interface, zope.event, xlsxwriter, pyparsing, pydantic-core, pyarrow, pillow, mdurl, kiwisolver, greenlet, fsspec, fonttools, cycler, contourpy, cloudpickle, click, annotated-types, adbc-driver-manager, strictyaml, sqlalchemy, pydantic, matplotlib, markdown-it-py, gevent, deltalake, adbc_driver_sqlite, rich, pyiceberg\n",
      "Successfully installed adbc-driver-manager-0.7.0 adbc_driver_sqlite-0.7.0 annotated-types-0.6.0 click-8.1.7 cloudpickle-3.0.0 connectorx-0.3.2 contourpy-1.2.0 cycler-0.12.1 deltalake-0.13.0 fonttools-4.44.0 fsspec-2023.10.0 gevent-23.9.1 greenlet-3.0.1 kiwisolver-1.4.5 markdown-it-py-3.0.0 matplotlib-3.8.1 mdurl-0.1.2 mmhash3-3.0.1 pillow-10.1.0 pyarrow-14.0.0 pydantic-2.4.2 pydantic-core-2.10.1 pyiceberg-0.5.1 pyparsing-3.1.1 rich-13.6.0 sortedcontainers-2.4.0 sqlalchemy-2.0.23 strictyaml-1.7.3 xlsx2csv-0.8.1 xlsxwriter-3.1.9 zope.event-5.0 zope.interface-6.1\n"
     ]
    }
   ],
   "source": [
    "%pip install polars[all] pandas"
   ]
  },
  {
   "cell_type": "code",
   "execution_count": 2,
   "metadata": {},
   "outputs": [],
   "source": [
    "import polars as pl"
   ]
  },
  {
   "cell_type": "code",
   "execution_count": 3,
   "metadata": {},
   "outputs": [],
   "source": [
    "lf = pl.scan_csv(\"data/prf_uchazeci.csv\")"
   ]
  },
  {
   "cell_type": "code",
   "execution_count": 5,
   "metadata": {},
   "outputs": [
    {
     "data": {
      "text/html": [
       "<div><style>\n",
       ".dataframe > thead > tr > th,\n",
       ".dataframe > tbody > tr > td {\n",
       "  text-align: right;\n",
       "  white-space: pre-wrap;\n",
       "}\n",
       "</style>\n",
       "<small>shape: (5, 29)</small><table border=\"1\" class=\"dataframe\"><thead><tr><th>FAKULTA_SP</th><th>ROK_NAR</th><th>STAT_OBCANSTVI</th><th>PSC_BYDL</th><th>PSC_CIZI</th><th>OBEC_BYDLISTE</th><th>OBEC_CIZI</th><th>STAT_BYDLISTE</th><th>NAZEV_S_SKOLY</th><th>STAT_S_SKOLY</th><th>ADRESA_S_SKOLY</th><th>CIS_OBORU</th><th>MATURITA</th><th>STRED_SKOLA_CIZI</th><th>STRED_SKOLA_CIZI_MISTO</th><th>STRED_SKOLA_CIZI_OBOR</th><th>VS_SKOLA</th><th>NAZEV_VS</th><th>STAT_VS</th><th>VS_ROK_ABSOL</th><th>ROK_PR</th><th>CISP_KOD</th><th>CZ_NAZEV</th><th>FORMA</th><th>TYP</th><th>PR_NAZEV</th><th>PR_OBOR</th><th>PR_KOMBINACE</th><th>SDRUZENE</th></tr><tr><td>str</td><td>i64</td><td>str</td><td>i64</td><td>str</td><td>str</td><td>str</td><td>str</td><td>str</td><td>str</td><td>str</td><td>str</td><td>i64</td><td>str</td><td>str</td><td>str</td><td>str</td><td>str</td><td>str</td><td>f64</td><td>i64</td><td>str</td><td>str</td><td>str</td><td>str</td><td>str</td><td>str</td><td>str</td><td>str</td></tr></thead><tbody><tr><td>&quot;PRF&quot;</td><td>2000</td><td>&quot;Česká republik…</td><td>0</td><td>null</td><td>&quot;nevyplněno&quot;</td><td>null</td><td>&quot;Česká republik…</td><td>&quot;SŠ pedagogická…</td><td>&quot;Česká republik…</td><td>&quot;Litoměřice, Ko…</td><td>&quot;7531M01&quot;</td><td>2019</td><td>null</td><td>null</td><td>null</td><td>null</td><td>null</td><td>null</td><td>null</td><td>2019</td><td>&quot;B1101&quot;</td><td>&quot;Matematika&quot;</td><td>&quot;P&quot;</td><td>&quot;B&quot;</td><td>&quot;MA AJ1&quot;</td><td>null</td><td>&quot;MA AJ&quot;</td><td>null</td></tr><tr><td>&quot;PRF&quot;</td><td>1999</td><td>&quot;Česká republik…</td><td>0</td><td>null</td><td>&quot;nevyplněno&quot;</td><td>null</td><td>&quot;Česká republik…</td><td>&quot;Gymnázium&quot;</td><td>&quot;Česká republik…</td><td>&quot;Roudnice nad L…</td><td>&quot;7941K41&quot;</td><td>2018</td><td>null</td><td>null</td><td>null</td><td>null</td><td>null</td><td>null</td><td>2021.0</td><td>2019</td><td>&quot;B1101&quot;</td><td>&quot;Matematika&quot;</td><td>&quot;P&quot;</td><td>&quot;B&quot;</td><td>&quot;MA BI1&quot;</td><td>null</td><td>&quot;MA  BI&quot;</td><td>null</td></tr><tr><td>&quot;PRF&quot;</td><td>0</td><td>&quot;Česká republik…</td><td>0</td><td>null</td><td>&quot;nevyplněno&quot;</td><td>null</td><td>&quot;Česká republik…</td><td>&quot;První české gy…</td><td>&quot;Česká republik…</td><td>&quot;Karlovy Vary, …</td><td>&quot;7941K41&quot;</td><td>2019</td><td>null</td><td>null</td><td>null</td><td>null</td><td>null</td><td>null</td><td>null</td><td>2019</td><td>&quot;B1101&quot;</td><td>&quot;Matematika&quot;</td><td>&quot;P&quot;</td><td>&quot;B&quot;</td><td>&quot;MA BI1&quot;</td><td>null</td><td>&quot;MA  BI&quot;</td><td>null</td></tr><tr><td>&quot;PRF&quot;</td><td>1998</td><td>&quot;Česká republik…</td><td>41705</td><td>null</td><td>&quot;Osek&quot;</td><td>null</td><td>&quot;Česká republik…</td><td>&quot;Gymnázium T. G…</td><td>&quot;Česká republik…</td><td>&quot;Litvínov, Stud…</td><td>&quot;7941K41&quot;</td><td>2018</td><td>null</td><td>null</td><td>null</td><td>null</td><td>null</td><td>null</td><td>null</td><td>2019</td><td>&quot;B1101&quot;</td><td>&quot;Matematika&quot;</td><td>&quot;P&quot;</td><td>&quot;B&quot;</td><td>&quot;MA BI1&quot;</td><td>null</td><td>&quot;MA  BI&quot;</td><td>null</td></tr><tr><td>&quot;PRF&quot;</td><td>0</td><td>&quot;Česká republik…</td><td>0</td><td>null</td><td>&quot;nevyplněno&quot;</td><td>null</td><td>&quot;Česká republik…</td><td>&quot;ZŠ T. G. Masar…</td><td>&quot;Česká republik…</td><td>&quot;Česká Kamenice…</td><td>&quot;7941K81&quot;</td><td>2018</td><td>null</td><td>null</td><td>null</td><td>null</td><td>null</td><td>null</td><td>null</td><td>2019</td><td>&quot;B1101&quot;</td><td>&quot;Matematika&quot;</td><td>&quot;P&quot;</td><td>&quot;B&quot;</td><td>&quot;MA GEO1&quot;</td><td>null</td><td>&quot;MA GEO&quot;</td><td>null</td></tr></tbody></table></div>"
      ],
      "text/plain": [
       "shape: (5, 29)\n",
       "┌────────────┬─────────┬──────────────┬──────────┬───┬──────────┬─────────┬─────────────┬──────────┐\n",
       "│ FAKULTA_SP ┆ ROK_NAR ┆ STAT_OBCANST ┆ PSC_BYDL ┆ … ┆ PR_NAZEV ┆ PR_OBOR ┆ PR_KOMBINAC ┆ SDRUZENE │\n",
       "│ ---        ┆ ---     ┆ VI           ┆ ---      ┆   ┆ ---      ┆ ---     ┆ E           ┆ ---      │\n",
       "│ str        ┆ i64     ┆ ---          ┆ i64      ┆   ┆ str      ┆ str     ┆ ---         ┆ str      │\n",
       "│            ┆         ┆ str          ┆          ┆   ┆          ┆         ┆ str         ┆          │\n",
       "╞════════════╪═════════╪══════════════╪══════════╪═══╪══════════╪═════════╪═════════════╪══════════╡\n",
       "│ PRF        ┆ 2000    ┆ Česká        ┆ 0        ┆ … ┆ MA AJ1   ┆ null    ┆ MA AJ       ┆ null     │\n",
       "│            ┆         ┆ republika    ┆          ┆   ┆          ┆         ┆             ┆          │\n",
       "│ PRF        ┆ 1999    ┆ Česká        ┆ 0        ┆ … ┆ MA BI1   ┆ null    ┆ MA  BI      ┆ null     │\n",
       "│            ┆         ┆ republika    ┆          ┆   ┆          ┆         ┆             ┆          │\n",
       "│ PRF        ┆ 0       ┆ Česká        ┆ 0        ┆ … ┆ MA BI1   ┆ null    ┆ MA  BI      ┆ null     │\n",
       "│            ┆         ┆ republika    ┆          ┆   ┆          ┆         ┆             ┆          │\n",
       "│ PRF        ┆ 1998    ┆ Česká        ┆ 41705    ┆ … ┆ MA BI1   ┆ null    ┆ MA  BI      ┆ null     │\n",
       "│            ┆         ┆ republika    ┆          ┆   ┆          ┆         ┆             ┆          │\n",
       "│ PRF        ┆ 0       ┆ Česká        ┆ 0        ┆ … ┆ MA GEO1  ┆ null    ┆ MA GEO      ┆ null     │\n",
       "│            ┆         ┆ republika    ┆          ┆   ┆          ┆         ┆             ┆          │\n",
       "└────────────┴─────────┴──────────────┴──────────┴───┴──────────┴─────────┴─────────────┴──────────┘"
      ]
     },
     "execution_count": 5,
     "metadata": {},
     "output_type": "execute_result"
    }
   ],
   "source": [
    "lf.head().collect()"
   ]
  },
  {
   "cell_type": "code",
   "execution_count": 7,
   "metadata": {},
   "outputs": [
    {
     "data": {
      "text/plain": [
       "['FAKULTA_SP',\n",
       " 'ROK_NAR',\n",
       " 'STAT_OBCANSTVI',\n",
       " 'PSC_BYDL',\n",
       " 'PSC_CIZI',\n",
       " 'OBEC_BYDLISTE',\n",
       " 'OBEC_CIZI',\n",
       " 'STAT_BYDLISTE',\n",
       " 'NAZEV_S_SKOLY',\n",
       " 'STAT_S_SKOLY',\n",
       " 'ADRESA_S_SKOLY',\n",
       " 'CIS_OBORU',\n",
       " 'MATURITA',\n",
       " 'STRED_SKOLA_CIZI',\n",
       " 'STRED_SKOLA_CIZI_MISTO',\n",
       " 'STRED_SKOLA_CIZI_OBOR',\n",
       " 'VS_SKOLA',\n",
       " 'NAZEV_VS',\n",
       " 'STAT_VS',\n",
       " 'VS_ROK_ABSOL',\n",
       " 'ROK_PR',\n",
       " 'CISP_KOD',\n",
       " 'CZ_NAZEV',\n",
       " 'FORMA',\n",
       " 'TYP',\n",
       " 'PR_NAZEV',\n",
       " 'PR_OBOR',\n",
       " 'PR_KOMBINACE',\n",
       " 'SDRUZENE']"
      ]
     },
     "execution_count": 7,
     "metadata": {},
     "output_type": "execute_result"
    }
   ],
   "source": [
    "lf.columns"
   ]
  },
  {
   "cell_type": "code",
   "execution_count": null,
   "metadata": {},
   "outputs": [],
   "source": []
  }
 ],
 "metadata": {
  "kernelspec": {
   "display_name": "pas-OATAXOQU-py3.10",
   "language": "python",
   "name": "python3"
  },
  "language_info": {
   "codemirror_mode": {
    "name": "ipython",
    "version": 3
   },
   "file_extension": ".py",
   "mimetype": "text/x-python",
   "name": "python",
   "nbconvert_exporter": "python",
   "pygments_lexer": "ipython3",
   "version": "3.10.12"
  }
 },
 "nbformat": 4,
 "nbformat_minor": 2
}
